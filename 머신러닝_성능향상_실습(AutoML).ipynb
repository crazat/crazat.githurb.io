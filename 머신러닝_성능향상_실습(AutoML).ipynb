{
  "nbformat": 4,
  "nbformat_minor": 0,
  "metadata": {
    "colab": {
      "provenance": [],
      "toc_visible": true,
      "include_colab_link": true
    },
    "kernelspec": {
      "name": "python3",
      "display_name": "Python 3"
    },
    "language_info": {
      "name": "python"
    }
  },
  "cells": [
    {
      "cell_type": "markdown",
      "metadata": {
        "id": "view-in-github",
        "colab_type": "text"
      },
      "source": [
        "<a href=\"https://colab.research.google.com/github/crazat/crazat.githurb.io/blob/main/%EB%A8%B8%EC%8B%A0%EB%9F%AC%EB%8B%9D_%EC%84%B1%EB%8A%A5%ED%96%A5%EC%83%81_%EC%8B%A4%EC%8A%B5(AutoML).ipynb\" target=\"_parent\"><img src=\"https://colab.research.google.com/assets/colab-badge.svg\" alt=\"Open In Colab\"/></a>"
      ]
    },
    {
      "cell_type": "markdown",
      "source": [
        "- 타이타닉 생존자 데이터셋 다운로드 받아 구글드라이브에 올리기\n",
        "    - 학습세트: https://drive.google.com/file/d/17DUdpAGVIPJ5_Cghku38YG5ugN6-SiNX/view?usp=sharing\n",
        "    - 평가세트: https://drive.google.com/file/d/1ZhrzzI81mN_rFWXw68eO2a2NQ8vg8IlZ/view?usp=sharing\n",
        "    - 평가세트 정답: https://drive.google.com/file/d/1kBJwGeAI1y81-gL8AAVVs4ealPHTcNNS/view?usp=sharing"
      ],
      "metadata": {
        "id": "21bNxV_SkaUR"
      }
    },
    {
      "cell_type": "markdown",
      "source": [
        "- 구글 드라이브 연결"
      ],
      "metadata": {
        "id": "DckgU96wlAo-"
      }
    },
    {
      "cell_type": "code",
      "source": [
        "from google.colab import drive\n",
        "drive.mount('/content/drive')"
      ],
      "metadata": {
        "id": "hActVTmZkyir",
        "colab": {
          "base_uri": "https://localhost:8080/"
        },
        "outputId": "6cf50fb8-5613-407e-f51b-94a4fde074bc"
      },
      "execution_count": null,
      "outputs": [
        {
          "output_type": "stream",
          "name": "stdout",
          "text": [
            "Mounted at /content/drive\n"
          ]
        }
      ]
    },
    {
      "cell_type": "markdown",
      "source": [
        "- 데이터 경로 변수"
      ],
      "metadata": {
        "id": "1qTVFdI1lGfA"
      }
    },
    {
      "cell_type": "code",
      "source": [
        "DATA_PATH = \"/content/drive/MyDrive/머신러닝/data/\"\n",
        "DATA_PATH"
      ],
      "metadata": {
        "id": "KWm3HBpckygI",
        "colab": {
          "base_uri": "https://localhost:8080/",
          "height": 35
        },
        "outputId": "c2568411-1f55-4c25-dea0-efe308888f74"
      },
      "execution_count": null,
      "outputs": [
        {
          "output_type": "execute_result",
          "data": {
            "text/plain": [
              "'/content/drive/MyDrive/머신러닝/data/'"
            ],
            "application/vnd.google.colaboratory.intrinsic+json": {
              "type": "string"
            }
          },
          "metadata": {},
          "execution_count": 2
        }
      ]
    },
    {
      "cell_type": "markdown",
      "source": [
        "- 시드값"
      ],
      "metadata": {
        "id": "mtMyk252uHYd"
      }
    },
    {
      "cell_type": "code",
      "source": [
        "SEED = 42"
      ],
      "metadata": {
        "id": "efahXh06uI8l"
      },
      "execution_count": null,
      "outputs": []
    },
    {
      "cell_type": "markdown",
      "source": [
        "- 데이터 불러오기"
      ],
      "metadata": {
        "id": "meWDc11XluKY"
      }
    },
    {
      "cell_type": "code",
      "source": [
        "import pandas as pd\n",
        "import numpy as np\n",
        "\n",
        "train = pd.read_csv(f\"{DATA_PATH}titanic_train.csv\") # 학습데이터\n",
        "test = pd.read_csv(f\"{DATA_PATH}titanic_test.csv\") # 테스트 데이터\n",
        "test_target = pd.read_csv(f\"{DATA_PATH}titanic_test_target.csv\") # 테스트데이터 정답값\n",
        "train.shape , test.shape , test_target.shape"
      ],
      "metadata": {
        "id": "-lv48RR0kyde",
        "colab": {
          "base_uri": "https://localhost:8080/"
        },
        "outputId": "4de83b62-5932-4274-83b8-2b018473f5b2"
      },
      "execution_count": null,
      "outputs": [
        {
          "output_type": "execute_result",
          "data": {
            "text/plain": [
              "((916, 12), (393, 11), (393, 2))"
            ]
          },
          "metadata": {},
          "execution_count": 4
        }
      ]
    },
    {
      "cell_type": "markdown",
      "source": [
        "- 결측치 확인하기"
      ],
      "metadata": {
        "id": "_P8xreEU67Hg"
      }
    },
    {
      "cell_type": "code",
      "source": [
        "train.isnull().sum()"
      ],
      "metadata": {
        "id": "w7l5rQ6A632P",
        "colab": {
          "base_uri": "https://localhost:8080/",
          "height": 460
        },
        "outputId": "6599e564-6d54-4ec3-9218-d0d387d34569"
      },
      "execution_count": null,
      "outputs": [
        {
          "output_type": "execute_result",
          "data": {
            "text/plain": [
              "passengerid      0\n",
              "survived         0\n",
              "pclass           0\n",
              "name             0\n",
              "gender           0\n",
              "age            180\n",
              "sibsp            0\n",
              "parch            0\n",
              "ticket           0\n",
              "fare             0\n",
              "cabin          706\n",
              "embarked         0\n",
              "dtype: int64"
            ],
            "text/html": [
              "<div>\n",
              "<style scoped>\n",
              "    .dataframe tbody tr th:only-of-type {\n",
              "        vertical-align: middle;\n",
              "    }\n",
              "\n",
              "    .dataframe tbody tr th {\n",
              "        vertical-align: top;\n",
              "    }\n",
              "\n",
              "    .dataframe thead th {\n",
              "        text-align: right;\n",
              "    }\n",
              "</style>\n",
              "<table border=\"1\" class=\"dataframe\">\n",
              "  <thead>\n",
              "    <tr style=\"text-align: right;\">\n",
              "      <th></th>\n",
              "      <th>0</th>\n",
              "    </tr>\n",
              "  </thead>\n",
              "  <tbody>\n",
              "    <tr>\n",
              "      <th>passengerid</th>\n",
              "      <td>0</td>\n",
              "    </tr>\n",
              "    <tr>\n",
              "      <th>survived</th>\n",
              "      <td>0</td>\n",
              "    </tr>\n",
              "    <tr>\n",
              "      <th>pclass</th>\n",
              "      <td>0</td>\n",
              "    </tr>\n",
              "    <tr>\n",
              "      <th>name</th>\n",
              "      <td>0</td>\n",
              "    </tr>\n",
              "    <tr>\n",
              "      <th>gender</th>\n",
              "      <td>0</td>\n",
              "    </tr>\n",
              "    <tr>\n",
              "      <th>age</th>\n",
              "      <td>180</td>\n",
              "    </tr>\n",
              "    <tr>\n",
              "      <th>sibsp</th>\n",
              "      <td>0</td>\n",
              "    </tr>\n",
              "    <tr>\n",
              "      <th>parch</th>\n",
              "      <td>0</td>\n",
              "    </tr>\n",
              "    <tr>\n",
              "      <th>ticket</th>\n",
              "      <td>0</td>\n",
              "    </tr>\n",
              "    <tr>\n",
              "      <th>fare</th>\n",
              "      <td>0</td>\n",
              "    </tr>\n",
              "    <tr>\n",
              "      <th>cabin</th>\n",
              "      <td>706</td>\n",
              "    </tr>\n",
              "    <tr>\n",
              "      <th>embarked</th>\n",
              "      <td>0</td>\n",
              "    </tr>\n",
              "  </tbody>\n",
              "</table>\n",
              "</div><br><label><b>dtype:</b> int64</label>"
            ]
          },
          "metadata": {},
          "execution_count": 5
        }
      ]
    },
    {
      "cell_type": "code",
      "source": [
        "test.isnull().sum()"
      ],
      "metadata": {
        "id": "_Ha7TB0L63p6",
        "colab": {
          "base_uri": "https://localhost:8080/",
          "height": 429
        },
        "outputId": "3f6cf884-5540-40c0-f700-09a115a33b96"
      },
      "execution_count": null,
      "outputs": [
        {
          "output_type": "execute_result",
          "data": {
            "text/plain": [
              "passengerid      0\n",
              "pclass           0\n",
              "name             0\n",
              "gender           0\n",
              "age             83\n",
              "sibsp            0\n",
              "parch            0\n",
              "ticket           0\n",
              "fare             1\n",
              "cabin          308\n",
              "embarked         2\n",
              "dtype: int64"
            ],
            "text/html": [
              "<div>\n",
              "<style scoped>\n",
              "    .dataframe tbody tr th:only-of-type {\n",
              "        vertical-align: middle;\n",
              "    }\n",
              "\n",
              "    .dataframe tbody tr th {\n",
              "        vertical-align: top;\n",
              "    }\n",
              "\n",
              "    .dataframe thead th {\n",
              "        text-align: right;\n",
              "    }\n",
              "</style>\n",
              "<table border=\"1\" class=\"dataframe\">\n",
              "  <thead>\n",
              "    <tr style=\"text-align: right;\">\n",
              "      <th></th>\n",
              "      <th>0</th>\n",
              "    </tr>\n",
              "  </thead>\n",
              "  <tbody>\n",
              "    <tr>\n",
              "      <th>passengerid</th>\n",
              "      <td>0</td>\n",
              "    </tr>\n",
              "    <tr>\n",
              "      <th>pclass</th>\n",
              "      <td>0</td>\n",
              "    </tr>\n",
              "    <tr>\n",
              "      <th>name</th>\n",
              "      <td>0</td>\n",
              "    </tr>\n",
              "    <tr>\n",
              "      <th>gender</th>\n",
              "      <td>0</td>\n",
              "    </tr>\n",
              "    <tr>\n",
              "      <th>age</th>\n",
              "      <td>83</td>\n",
              "    </tr>\n",
              "    <tr>\n",
              "      <th>sibsp</th>\n",
              "      <td>0</td>\n",
              "    </tr>\n",
              "    <tr>\n",
              "      <th>parch</th>\n",
              "      <td>0</td>\n",
              "    </tr>\n",
              "    <tr>\n",
              "      <th>ticket</th>\n",
              "      <td>0</td>\n",
              "    </tr>\n",
              "    <tr>\n",
              "      <th>fare</th>\n",
              "      <td>1</td>\n",
              "    </tr>\n",
              "    <tr>\n",
              "      <th>cabin</th>\n",
              "      <td>308</td>\n",
              "    </tr>\n",
              "    <tr>\n",
              "      <th>embarked</th>\n",
              "      <td>2</td>\n",
              "    </tr>\n",
              "  </tbody>\n",
              "</table>\n",
              "</div><br><label><b>dtype:</b> int64</label>"
            ]
          },
          "metadata": {},
          "execution_count": 6
        }
      ]
    },
    {
      "cell_type": "markdown",
      "source": [
        "- 학습 데이터에서 얻은 통계량을 이용하여 결측치를 채워야한다."
      ],
      "metadata": {
        "id": "3r2ZPXYn7A20"
      }
    },
    {
      "cell_type": "code",
      "source": [
        "age_mean = train[\"age\"].mean() # 평균\n",
        "fare_median = train[\"fare\"].median() # 중앙값\n",
        "cabin_unk = \"UNK\" # 새로운 범주\n",
        "embarked_mode = train[\"embarked\"].mode()[0] # 최빈값\n",
        "age_mean , fare_median ,cabin_unk , embarked_mode"
      ],
      "metadata": {
        "id": "rHDnCmOY7BYy",
        "colab": {
          "base_uri": "https://localhost:8080/"
        },
        "outputId": "2ee6e1fe-4686-406d-aef3-f05755382a85"
      },
      "execution_count": null,
      "outputs": [
        {
          "output_type": "execute_result",
          "data": {
            "text/plain": [
              "(29.904891304347824, 14.5, 'UNK', 'S')"
            ]
          },
          "metadata": {},
          "execution_count": 7
        }
      ]
    },
    {
      "cell_type": "markdown",
      "source": [
        "- 학습데이터 결측치 처리"
      ],
      "metadata": {
        "id": "hR2dfK7e7Fqp"
      }
    },
    {
      "cell_type": "code",
      "source": [
        "train[\"age\"] = train[\"age\"].fillna(age_mean)\n",
        "train[\"cabin\"] = train[\"cabin\"].fillna(cabin_unk)"
      ],
      "metadata": {
        "id": "ML9rYQSh7Bes"
      },
      "execution_count": null,
      "outputs": []
    },
    {
      "cell_type": "markdown",
      "source": [
        "- 테스트데이터 결측치 처리"
      ],
      "metadata": {
        "id": "hOWmI6Hp7IwN"
      }
    },
    {
      "cell_type": "code",
      "source": [
        "test[\"age\"] = test[\"age\"].fillna(age_mean)\n",
        "test[\"fare\"] = test[\"fare\"].fillna(fare_median)\n",
        "test[\"cabin\"] = test[\"cabin\"].fillna(cabin_unk)\n",
        "test[\"embarked\"] = test[\"embarked\"].fillna(embarked_mode)"
      ],
      "metadata": {
        "id": "zl6DzKvi7KDZ"
      },
      "execution_count": null,
      "outputs": []
    },
    {
      "cell_type": "code",
      "source": [
        "train.isnull().sum().sum() , test.isnull().sum().sum()"
      ],
      "metadata": {
        "id": "95EwuHNC7PaU",
        "colab": {
          "base_uri": "https://localhost:8080/"
        },
        "outputId": "d734e354-6afd-4fcf-a618-f30133e655d0"
      },
      "execution_count": null,
      "outputs": [
        {
          "output_type": "execute_result",
          "data": {
            "text/plain": [
              "(0, 0)"
            ]
          },
          "metadata": {},
          "execution_count": 10
        }
      ]
    },
    {
      "cell_type": "markdown",
      "source": [
        "- 특성으로 사용할 변수 추가하기"
      ],
      "metadata": {
        "id": "efr2XD4172Lj"
      }
    },
    {
      "cell_type": "code",
      "source": [
        "cols = [\"age\",\"sibsp\",\"parch\",\"fare\",\"pclass\",\"gender\",\"embarked\",\"cabin\"]\n",
        "train_ft = train[cols].copy()\n",
        "test_ft = test[cols].copy() # 테스트 데이터\n",
        "train_ft.shape, test_ft.shape"
      ],
      "metadata": {
        "id": "E3o7WJ_-73TL",
        "colab": {
          "base_uri": "https://localhost:8080/"
        },
        "outputId": "6a90ecab-78dc-4e20-9834-7ff653780e0d"
      },
      "execution_count": null,
      "outputs": [
        {
          "output_type": "execute_result",
          "data": {
            "text/plain": [
              "((916, 8), (393, 8))"
            ]
          },
          "metadata": {},
          "execution_count": 11
        }
      ]
    },
    {
      "cell_type": "markdown",
      "source": [
        "- category_encoders 설치하기"
      ],
      "metadata": {
        "id": "0F0Kfxz7pO-w"
      }
    },
    {
      "cell_type": "code",
      "source": [
        "!pip install category_encoders"
      ],
      "metadata": {
        "id": "BnW0AN6xm8ib",
        "colab": {
          "base_uri": "https://localhost:8080/"
        },
        "outputId": "181b2eae-ba1d-4a43-ff57-8d475112357e"
      },
      "execution_count": null,
      "outputs": [
        {
          "output_type": "stream",
          "name": "stdout",
          "text": [
            "Collecting category_encoders\n",
            "  Downloading category_encoders-2.8.0-py3-none-any.whl.metadata (7.9 kB)\n",
            "Requirement already satisfied: numpy>=1.14.0 in /usr/local/lib/python3.11/dist-packages (from category_encoders) (1.26.4)\n",
            "Requirement already satisfied: pandas>=1.0.5 in /usr/local/lib/python3.11/dist-packages (from category_encoders) (2.2.2)\n",
            "Requirement already satisfied: patsy>=0.5.1 in /usr/local/lib/python3.11/dist-packages (from category_encoders) (1.0.1)\n",
            "Requirement already satisfied: scikit-learn>=1.6.0 in /usr/local/lib/python3.11/dist-packages (from category_encoders) (1.6.1)\n",
            "Requirement already satisfied: scipy>=1.0.0 in /usr/local/lib/python3.11/dist-packages (from category_encoders) (1.13.1)\n",
            "Requirement already satisfied: statsmodels>=0.9.0 in /usr/local/lib/python3.11/dist-packages (from category_encoders) (0.14.4)\n",
            "Requirement already satisfied: python-dateutil>=2.8.2 in /usr/local/lib/python3.11/dist-packages (from pandas>=1.0.5->category_encoders) (2.8.2)\n",
            "Requirement already satisfied: pytz>=2020.1 in /usr/local/lib/python3.11/dist-packages (from pandas>=1.0.5->category_encoders) (2025.1)\n",
            "Requirement already satisfied: tzdata>=2022.7 in /usr/local/lib/python3.11/dist-packages (from pandas>=1.0.5->category_encoders) (2025.1)\n",
            "Requirement already satisfied: joblib>=1.2.0 in /usr/local/lib/python3.11/dist-packages (from scikit-learn>=1.6.0->category_encoders) (1.4.2)\n",
            "Requirement already satisfied: threadpoolctl>=3.1.0 in /usr/local/lib/python3.11/dist-packages (from scikit-learn>=1.6.0->category_encoders) (3.5.0)\n",
            "Requirement already satisfied: packaging>=21.3 in /usr/local/lib/python3.11/dist-packages (from statsmodels>=0.9.0->category_encoders) (24.2)\n",
            "Requirement already satisfied: six>=1.5 in /usr/local/lib/python3.11/dist-packages (from python-dateutil>=2.8.2->pandas>=1.0.5->category_encoders) (1.17.0)\n",
            "Downloading category_encoders-2.8.0-py3-none-any.whl (85 kB)\n",
            "\u001b[2K   \u001b[90m━━━━━━━━━━━━━━━━━━━━━━━━━━━━━━━━━━━━━━━━\u001b[0m \u001b[32m85.7/85.7 kB\u001b[0m \u001b[31m831.6 kB/s\u001b[0m eta \u001b[36m0:00:00\u001b[0m\n",
            "\u001b[?25hInstalling collected packages: category_encoders\n",
            "Successfully installed category_encoders-2.8.0\n"
          ]
        }
      ]
    },
    {
      "cell_type": "markdown",
      "source": [
        "- import"
      ],
      "metadata": {
        "id": "OhVIqt8hpUi-"
      }
    },
    {
      "cell_type": "code",
      "source": [
        "import category_encoders as ce"
      ],
      "metadata": {
        "id": "rUPBWVtKpTjl"
      },
      "execution_count": null,
      "outputs": []
    },
    {
      "cell_type": "code",
      "source": [
        "train_ft.columns"
      ],
      "metadata": {
        "id": "ZpYL4D8T-Za2",
        "colab": {
          "base_uri": "https://localhost:8080/"
        },
        "outputId": "c67daed4-fdb2-45aa-a382-99f4d13542b0"
      },
      "execution_count": null,
      "outputs": [
        {
          "output_type": "execute_result",
          "data": {
            "text/plain": [
              "Index(['age', 'sibsp', 'parch', 'fare', 'pclass', 'gender', 'embarked',\n",
              "       'cabin'],\n",
              "      dtype='object')"
            ]
          },
          "metadata": {},
          "execution_count": 14
        }
      ]
    },
    {
      "cell_type": "markdown",
      "source": [
        "- One- Hot Encoding\n"
      ],
      "metadata": {
        "id": "nihv9B51sEHI"
      }
    },
    {
      "cell_type": "code",
      "source": [
        "cols = ['gender', 'embarked']\n",
        "\n",
        "enc = ce.one_hot.OneHotEncoder(return_df=True)\n",
        "\n",
        "# 학습데이터\n",
        "tmp = enc.fit_transform(train_ft[cols]).add_prefix(\"onehot_\")\n",
        "train_ft = pd.concat([train_ft,tmp],axis=1)\n",
        "\n",
        "# 테스트데이터\n",
        "tmp = enc.transform(test_ft[cols]).add_prefix(\"onehot_\")\n",
        "test_ft = pd.concat([test_ft,tmp],axis=1)"
      ],
      "metadata": {
        "id": "4pEIOX-asDn5"
      },
      "execution_count": null,
      "outputs": []
    },
    {
      "cell_type": "markdown",
      "source": [
        "- Count Encoding"
      ],
      "metadata": {
        "id": "LTHtXahXsQ_W"
      }
    },
    {
      "cell_type": "code",
      "source": [
        "cols = ['cabin']\n",
        "\n",
        "enc = ce.count.CountEncoder(return_df=True,handle_unknown=0)\n",
        "\n",
        "# 학습데이터\n",
        "tmp = enc.fit_transform(train_ft[cols]).add_prefix(\"count_\")\n",
        "train_ft = pd.concat([train_ft,tmp],axis=1)\n",
        "\n",
        "# 테스트데이터\n",
        "tmp = enc.transform(test_ft[cols]).add_prefix(\"count_\")\n",
        "test_ft = pd.concat([test_ft,tmp],axis=1)"
      ],
      "metadata": {
        "id": "Zdp5oVtjs7My"
      },
      "execution_count": null,
      "outputs": []
    },
    {
      "cell_type": "markdown",
      "source": [
        "- 범주형 컬럼 제거"
      ],
      "metadata": {
        "id": "1q7EG59h4kkv"
      }
    },
    {
      "cell_type": "code",
      "source": [
        "cols = ['gender', 'embarked','cabin']\n",
        "train_ft = train_ft.drop(columns = cols)\n",
        "test_ft = test_ft.drop(columns = cols)\n",
        "\n",
        "train_ft.shape , test_ft.shape"
      ],
      "metadata": {
        "id": "24erp-yR4ZZn",
        "colab": {
          "base_uri": "https://localhost:8080/"
        },
        "outputId": "302b4d03-bcd0-423c-b45d-4d1e3278e71a"
      },
      "execution_count": null,
      "outputs": [
        {
          "output_type": "execute_result",
          "data": {
            "text/plain": [
              "((916, 11), (393, 11))"
            ]
          },
          "metadata": {},
          "execution_count": 17
        }
      ]
    },
    {
      "cell_type": "markdown",
      "source": [
        "- 스케일링"
      ],
      "metadata": {
        "id": "umYYC-xC4o_I"
      }
    },
    {
      "cell_type": "code",
      "source": [
        "from sklearn.preprocessing import StandardScaler\n",
        "scaler = StandardScaler()\n",
        "\n",
        "\n",
        "# 학습데이터\n",
        "train_ft = pd.DataFrame(\n",
        "    scaler.fit_transform(train_ft),\n",
        "    columns = train_ft.columns\n",
        ")\n",
        "\n",
        "# 테스트 데이터\n",
        "test_ft = pd.DataFrame(\n",
        "    scaler.transform(test_ft),\n",
        "    columns = test_ft.columns\n",
        ")"
      ],
      "metadata": {
        "id": "zReHei9m4osY"
      },
      "execution_count": null,
      "outputs": []
    },
    {
      "cell_type": "markdown",
      "source": [
        "- 타겟값 target 변수에 저장"
      ],
      "metadata": {
        "id": "2UO8U3sVs8tg"
      }
    },
    {
      "cell_type": "code",
      "source": [
        "target = train[\"survived\"]\n",
        "target"
      ],
      "metadata": {
        "id": "zoExUhels-As",
        "colab": {
          "base_uri": "https://localhost:8080/",
          "height": 458
        },
        "outputId": "2ab6247a-8ae2-4d1a-a177-f91d2dad5d02"
      },
      "execution_count": null,
      "outputs": [
        {
          "output_type": "execute_result",
          "data": {
            "text/plain": [
              "0      0\n",
              "1      0\n",
              "2      0\n",
              "3      1\n",
              "4      1\n",
              "      ..\n",
              "911    1\n",
              "912    0\n",
              "913    0\n",
              "914    0\n",
              "915    0\n",
              "Name: survived, Length: 916, dtype: int64"
            ],
            "text/html": [
              "<div>\n",
              "<style scoped>\n",
              "    .dataframe tbody tr th:only-of-type {\n",
              "        vertical-align: middle;\n",
              "    }\n",
              "\n",
              "    .dataframe tbody tr th {\n",
              "        vertical-align: top;\n",
              "    }\n",
              "\n",
              "    .dataframe thead th {\n",
              "        text-align: right;\n",
              "    }\n",
              "</style>\n",
              "<table border=\"1\" class=\"dataframe\">\n",
              "  <thead>\n",
              "    <tr style=\"text-align: right;\">\n",
              "      <th></th>\n",
              "      <th>survived</th>\n",
              "    </tr>\n",
              "  </thead>\n",
              "  <tbody>\n",
              "    <tr>\n",
              "      <th>0</th>\n",
              "      <td>0</td>\n",
              "    </tr>\n",
              "    <tr>\n",
              "      <th>1</th>\n",
              "      <td>0</td>\n",
              "    </tr>\n",
              "    <tr>\n",
              "      <th>2</th>\n",
              "      <td>0</td>\n",
              "    </tr>\n",
              "    <tr>\n",
              "      <th>3</th>\n",
              "      <td>1</td>\n",
              "    </tr>\n",
              "    <tr>\n",
              "      <th>4</th>\n",
              "      <td>1</td>\n",
              "    </tr>\n",
              "    <tr>\n",
              "      <th>...</th>\n",
              "      <td>...</td>\n",
              "    </tr>\n",
              "    <tr>\n",
              "      <th>911</th>\n",
              "      <td>1</td>\n",
              "    </tr>\n",
              "    <tr>\n",
              "      <th>912</th>\n",
              "      <td>0</td>\n",
              "    </tr>\n",
              "    <tr>\n",
              "      <th>913</th>\n",
              "      <td>0</td>\n",
              "    </tr>\n",
              "    <tr>\n",
              "      <th>914</th>\n",
              "      <td>0</td>\n",
              "    </tr>\n",
              "    <tr>\n",
              "      <th>915</th>\n",
              "      <td>0</td>\n",
              "    </tr>\n",
              "  </tbody>\n",
              "</table>\n",
              "<p>916 rows × 1 columns</p>\n",
              "</div><br><label><b>dtype:</b> int64</label>"
            ]
          },
          "metadata": {},
          "execution_count": 19
        }
      ]
    },
    {
      "cell_type": "markdown",
      "source": [
        "# AutoML(Automated machine learning)\n",
        "- 시간 소모적이고 반복적인 기계 학습 모델 개발 작업을 자동화하는 프로세스\n",
        "- 데이터 과학자, 분석가 및 개발자는 모델 품질을 유지하면서 확장성, 효율성 및 생산성이 높은 ML 모델을 빌드할 수 있다."
      ],
      "metadata": {
        "id": "FzAmi5ZdA_Yj"
      }
    },
    {
      "cell_type": "markdown",
      "source": [
        "## FLAML(A Fast Library for Automated Machine Learning & Tuning)\n",
        "- 머신러닝 학습 및 하이퍼파라미터 튜닝을 자동화해 주는 라이브러리\n",
        "- https://microsoft.github.io/FLAML/docs/Use-Cases/Task-Oriented-AutoML"
      ],
      "metadata": {
        "id": "aVGljoB4Bp61"
      }
    },
    {
      "cell_type": "markdown",
      "source": [
        "- flaml 설치하기"
      ],
      "metadata": {
        "id": "AcXSQYtACQYT"
      }
    },
    {
      "cell_type": "code",
      "source": [
        "!pip install flaml"
      ],
      "metadata": {
        "id": "JIqzx13GCQ8_",
        "colab": {
          "base_uri": "https://localhost:8080/"
        },
        "outputId": "d096561e-77bf-43d8-d85b-a9a9ea2aa4b8"
      },
      "execution_count": null,
      "outputs": [
        {
          "output_type": "stream",
          "name": "stdout",
          "text": [
            "Collecting flaml\n",
            "  Downloading FLAML-2.3.4-py3-none-any.whl.metadata (16 kB)\n",
            "Requirement already satisfied: NumPy>=1.17 in /usr/local/lib/python3.11/dist-packages (from flaml) (1.26.4)\n",
            "Downloading FLAML-2.3.4-py3-none-any.whl (314 kB)\n",
            "\u001b[2K   \u001b[90m━━━━━━━━━━━━━━━━━━━━━━━━━━━━━━━━━━━━━━━━\u001b[0m \u001b[32m314.2/314.2 kB\u001b[0m \u001b[31m4.3 MB/s\u001b[0m eta \u001b[36m0:00:00\u001b[0m\n",
            "\u001b[?25hInstalling collected packages: flaml\n",
            "Successfully installed flaml-2.3.4\n"
          ]
        }
      ]
    },
    {
      "cell_type": "markdown",
      "source": [
        "- `AutoML` 클래스의 `fit` 메서드 주요 파라미터\n",
        "    - metric\n",
        "        - 평가지표\n",
        "        - ex) 'roc_auc'\n",
        "    - task\n",
        "        - 작업 유형\n",
        "        - ex) 'classification'\n",
        "    - estimator_list\n",
        "        - FLAML에서 제공해주는 모델들의 별칭을 리스트에 넣어주면 된다.\n",
        "        - 생략시 자동으로 모델들이 선택된다.\n",
        "        - ex) ['lgbm', 'rf', 'xgboost', 'extra_tree', 'xgb_limitdepth', 'lrl1']\n",
        "    - time_budget\n",
        "        - 수행 시간\n",
        "    - ensemble\n",
        "        - 튜닝 후 스태킹 앙상블 여부\n",
        "        - False(기본값) : 최상의 모델을 선택해서 학습\n",
        "        - True: 스태킹하여 앙상블\n",
        "        - `dict` 예시\n",
        "            - {'final_estimator' : 사이킷런 모델 객체 }\n",
        "    - n_splits\n",
        "        - 교차검증 폴드 수(기본 5)\n",
        "    - seed\n",
        "        - 시드값\n",
        "    - early_stop\n",
        "        - True or False(기본값)\n",
        "        - 튜닝이 수렴할 경우 조기 중지여부"
      ],
      "metadata": {
        "id": "HldeCLLYCgAn"
      }
    },
    {
      "cell_type": "code",
      "source": [
        "from flaml import AutoML"
      ],
      "metadata": {
        "id": "LC_3xliktDdQ",
        "colab": {
          "base_uri": "https://localhost:8080/"
        },
        "outputId": "792dd59b-6353-4005-8dd0-ddaa9ecb9f1f"
      },
      "execution_count": null,
      "outputs": [
        {
          "output_type": "stream",
          "name": "stderr",
          "text": [
            "/usr/local/lib/python3.11/dist-packages/dask/dataframe/__init__.py:42: FutureWarning: \n",
            "Dask dataframe query planning is disabled because dask-expr is not installed.\n",
            "\n",
            "You can install it with `pip install dask[dataframe]` or `conda install dask`.\n",
            "This will raise in a future version.\n",
            "\n",
            "  warnings.warn(msg, FutureWarning)\n"
          ]
        }
      ]
    },
    {
      "cell_type": "code",
      "source": [
        "auto_ml = AutoML()\n",
        "params = {\n",
        "    \"metric\": \"roc_auc\",\n",
        "    \"task\": \"classification\",\n",
        "    \"time_budget\": 60, # 초단위\n",
        "    \"seed\": SEED,\n",
        "    \"early_stop\":True\n",
        "}\n",
        "auto_ml.fit(train_ft, target, **params)"
      ],
      "metadata": {
        "id": "IxV6XaYitDao",
        "colab": {
          "base_uri": "https://localhost:8080/"
        },
        "outputId": "72c44f5b-81d9-4458-9ca4-ec433345254b"
      },
      "execution_count": null,
      "outputs": [
        {
          "output_type": "stream",
          "name": "stdout",
          "text": [
            "[flaml.automl.logger: 02-26 09:33:45] {1728} INFO - task = classification\n",
            "[flaml.automl.logger: 02-26 09:33:45] {1739} INFO - Evaluation method: cv\n",
            "[flaml.automl.logger: 02-26 09:33:45] {1838} INFO - Minimizing error metric: 1-roc_auc\n",
            "[flaml.automl.logger: 02-26 09:33:45] {1955} INFO - List of ML learners in AutoML Run: ['lgbm', 'rf', 'xgboost', 'extra_tree', 'xgb_limitdepth', 'sgd', 'lrl1']\n",
            "[flaml.automl.logger: 02-26 09:33:45] {2258} INFO - iteration 0, current learner lgbm\n",
            "[flaml.automl.logger: 02-26 09:33:46] {2393} INFO - Estimated sufficient time budget=11052s. Estimated necessary time budget=256s.\n",
            "[flaml.automl.logger: 02-26 09:33:46] {2442} INFO -  at 1.2s,\testimator lgbm's best error=0.1018,\tbest estimator lgbm's best error=0.1018\n",
            "[flaml.automl.logger: 02-26 09:33:46] {2258} INFO - iteration 1, current learner lgbm\n",
            "[flaml.automl.logger: 02-26 09:33:47] {2442} INFO -  at 2.2s,\testimator lgbm's best error=0.1018,\tbest estimator lgbm's best error=0.1018\n",
            "[flaml.automl.logger: 02-26 09:33:47] {2258} INFO - iteration 2, current learner lgbm\n",
            "[flaml.automl.logger: 02-26 09:33:48] {2442} INFO -  at 3.4s,\testimator lgbm's best error=0.1018,\tbest estimator lgbm's best error=0.1018\n",
            "[flaml.automl.logger: 02-26 09:33:48] {2258} INFO - iteration 3, current learner sgd\n"
          ]
        },
        {
          "output_type": "stream",
          "name": "stderr",
          "text": [
            "INFO:flaml.tune.searcher.blendsearch:No low-cost partial config given to the search algorithm. For cost-frugal search, consider providing low-cost values for cost-related hps via 'low_cost_partial_config'. More info can be found at https://microsoft.github.io/FLAML/docs/FAQ#about-low_cost_partial_config-in-tune\n"
          ]
        },
        {
          "output_type": "stream",
          "name": "stdout",
          "text": [
            "[flaml.automl.logger: 02-26 09:33:49] {2442} INFO -  at 4.3s,\testimator sgd's best error=0.1113,\tbest estimator lgbm's best error=0.1018\n",
            "[flaml.automl.logger: 02-26 09:33:49] {2258} INFO - iteration 4, current learner lgbm\n",
            "[flaml.automl.logger: 02-26 09:33:50] {2442} INFO -  at 5.0s,\testimator lgbm's best error=0.0989,\tbest estimator lgbm's best error=0.0989\n",
            "[flaml.automl.logger: 02-26 09:33:50] {2258} INFO - iteration 5, current learner sgd\n",
            "[flaml.automl.logger: 02-26 09:33:50] {2442} INFO -  at 5.6s,\testimator sgd's best error=0.1113,\tbest estimator lgbm's best error=0.0989\n",
            "[flaml.automl.logger: 02-26 09:33:50] {2258} INFO - iteration 6, current learner xgboost\n",
            "[flaml.automl.logger: 02-26 09:33:52] {2442} INFO -  at 6.7s,\testimator xgboost's best error=0.0987,\tbest estimator xgboost's best error=0.0987\n",
            "[flaml.automl.logger: 02-26 09:33:52] {2258} INFO - iteration 7, current learner lgbm\n",
            "[flaml.automl.logger: 02-26 09:33:52] {2442} INFO -  at 6.9s,\testimator lgbm's best error=0.0963,\tbest estimator lgbm's best error=0.0963\n",
            "[flaml.automl.logger: 02-26 09:33:52] {2258} INFO - iteration 8, current learner lgbm\n",
            "[flaml.automl.logger: 02-26 09:33:52] {2442} INFO -  at 7.1s,\testimator lgbm's best error=0.0963,\tbest estimator lgbm's best error=0.0963\n",
            "[flaml.automl.logger: 02-26 09:33:52] {2258} INFO - iteration 9, current learner lgbm\n",
            "[flaml.automl.logger: 02-26 09:33:52] {2442} INFO -  at 7.2s,\testimator lgbm's best error=0.0963,\tbest estimator lgbm's best error=0.0963\n",
            "[flaml.automl.logger: 02-26 09:33:52] {2258} INFO - iteration 10, current learner lgbm\n",
            "[flaml.automl.logger: 02-26 09:33:52] {2442} INFO -  at 7.3s,\testimator lgbm's best error=0.0963,\tbest estimator lgbm's best error=0.0963\n",
            "[flaml.automl.logger: 02-26 09:33:52] {2258} INFO - iteration 11, current learner lgbm\n",
            "[flaml.automl.logger: 02-26 09:33:53] {2442} INFO -  at 8.0s,\testimator lgbm's best error=0.0963,\tbest estimator lgbm's best error=0.0963\n",
            "[flaml.automl.logger: 02-26 09:33:53] {2258} INFO - iteration 12, current learner xgboost\n",
            "[flaml.automl.logger: 02-26 09:33:54] {2442} INFO -  at 8.7s,\testimator xgboost's best error=0.0987,\tbest estimator lgbm's best error=0.0963\n",
            "[flaml.automl.logger: 02-26 09:33:54] {2258} INFO - iteration 13, current learner lgbm\n",
            "[flaml.automl.logger: 02-26 09:33:54] {2442} INFO -  at 9.1s,\testimator lgbm's best error=0.0952,\tbest estimator lgbm's best error=0.0952\n",
            "[flaml.automl.logger: 02-26 09:33:54] {2258} INFO - iteration 14, current learner xgboost\n",
            "[flaml.automl.logger: 02-26 09:33:55] {2442} INFO -  at 10.3s,\testimator xgboost's best error=0.0972,\tbest estimator lgbm's best error=0.0952\n",
            "[flaml.automl.logger: 02-26 09:33:55] {2258} INFO - iteration 15, current learner lgbm\n",
            "[flaml.automl.logger: 02-26 09:33:56] {2442} INFO -  at 10.7s,\testimator lgbm's best error=0.0952,\tbest estimator lgbm's best error=0.0952\n",
            "[flaml.automl.logger: 02-26 09:33:56] {2258} INFO - iteration 16, current learner xgboost\n",
            "[flaml.automl.logger: 02-26 09:33:56] {2442} INFO -  at 11.3s,\testimator xgboost's best error=0.0972,\tbest estimator lgbm's best error=0.0952\n",
            "[flaml.automl.logger: 02-26 09:33:56] {2258} INFO - iteration 17, current learner lgbm\n",
            "[flaml.automl.logger: 02-26 09:33:57] {2442} INFO -  at 12.1s,\testimator lgbm's best error=0.0952,\tbest estimator lgbm's best error=0.0952\n",
            "[flaml.automl.logger: 02-26 09:33:57] {2258} INFO - iteration 18, current learner lgbm\n",
            "[flaml.automl.logger: 02-26 09:33:57] {2442} INFO -  at 12.3s,\testimator lgbm's best error=0.0952,\tbest estimator lgbm's best error=0.0952\n",
            "[flaml.automl.logger: 02-26 09:33:57] {2258} INFO - iteration 19, current learner lgbm\n",
            "[flaml.automl.logger: 02-26 09:33:58] {2442} INFO -  at 13.4s,\testimator lgbm's best error=0.0952,\tbest estimator lgbm's best error=0.0952\n",
            "[flaml.automl.logger: 02-26 09:33:58] {2258} INFO - iteration 20, current learner extra_tree\n",
            "[flaml.automl.logger: 02-26 09:33:59] {2442} INFO -  at 13.9s,\testimator extra_tree's best error=0.1152,\tbest estimator lgbm's best error=0.0952\n",
            "[flaml.automl.logger: 02-26 09:33:59] {2258} INFO - iteration 21, current learner extra_tree\n",
            "[flaml.automl.logger: 02-26 09:33:59] {2442} INFO -  at 14.3s,\testimator extra_tree's best error=0.1152,\tbest estimator lgbm's best error=0.0952\n",
            "[flaml.automl.logger: 02-26 09:33:59] {2258} INFO - iteration 22, current learner lgbm\n",
            "[flaml.automl.logger: 02-26 09:34:00] {2442} INFO -  at 14.6s,\testimator lgbm's best error=0.0952,\tbest estimator lgbm's best error=0.0952\n",
            "[flaml.automl.logger: 02-26 09:34:00] {2258} INFO - iteration 23, current learner extra_tree\n",
            "[flaml.automl.logger: 02-26 09:34:00] {2442} INFO -  at 15.1s,\testimator extra_tree's best error=0.1152,\tbest estimator lgbm's best error=0.0952\n",
            "[flaml.automl.logger: 02-26 09:34:00] {2258} INFO - iteration 24, current learner extra_tree\n",
            "[flaml.automl.logger: 02-26 09:34:00] {2442} INFO -  at 15.6s,\testimator extra_tree's best error=0.1009,\tbest estimator lgbm's best error=0.0952\n",
            "[flaml.automl.logger: 02-26 09:34:00] {2258} INFO - iteration 25, current learner extra_tree\n",
            "[flaml.automl.logger: 02-26 09:34:01] {2442} INFO -  at 16.2s,\testimator extra_tree's best error=0.1009,\tbest estimator lgbm's best error=0.0952\n",
            "[flaml.automl.logger: 02-26 09:34:01] {2258} INFO - iteration 26, current learner lgbm\n",
            "[flaml.automl.logger: 02-26 09:34:02] {2442} INFO -  at 17.1s,\testimator lgbm's best error=0.0909,\tbest estimator lgbm's best error=0.0909\n",
            "[flaml.automl.logger: 02-26 09:34:02] {2258} INFO - iteration 27, current learner rf\n",
            "[flaml.automl.logger: 02-26 09:34:03] {2442} INFO -  at 17.7s,\testimator rf's best error=0.1006,\tbest estimator lgbm's best error=0.0909\n",
            "[flaml.automl.logger: 02-26 09:34:03] {2258} INFO - iteration 28, current learner rf\n",
            "[flaml.automl.logger: 02-26 09:34:03] {2442} INFO -  at 18.3s,\testimator rf's best error=0.1006,\tbest estimator lgbm's best error=0.0909\n",
            "[flaml.automl.logger: 02-26 09:34:03] {2258} INFO - iteration 29, current learner extra_tree\n",
            "[flaml.automl.logger: 02-26 09:34:04] {2442} INFO -  at 19.3s,\testimator extra_tree's best error=0.1009,\tbest estimator lgbm's best error=0.0909\n",
            "[flaml.automl.logger: 02-26 09:34:04] {2258} INFO - iteration 30, current learner extra_tree\n",
            "[flaml.automl.logger: 02-26 09:34:05] {2442} INFO -  at 19.8s,\testimator extra_tree's best error=0.1009,\tbest estimator lgbm's best error=0.0909\n",
            "[flaml.automl.logger: 02-26 09:34:05] {2258} INFO - iteration 31, current learner lgbm\n",
            "[flaml.automl.logger: 02-26 09:34:05] {2442} INFO -  at 20.0s,\testimator lgbm's best error=0.0909,\tbest estimator lgbm's best error=0.0909\n",
            "[flaml.automl.logger: 02-26 09:34:05] {2258} INFO - iteration 32, current learner lgbm\n",
            "[flaml.automl.logger: 02-26 09:34:05] {2442} INFO -  at 20.2s,\testimator lgbm's best error=0.0909,\tbest estimator lgbm's best error=0.0909\n",
            "[flaml.automl.logger: 02-26 09:34:05] {2258} INFO - iteration 33, current learner rf\n",
            "[flaml.automl.logger: 02-26 09:34:06] {2442} INFO -  at 20.8s,\testimator rf's best error=0.1006,\tbest estimator lgbm's best error=0.0909\n",
            "[flaml.automl.logger: 02-26 09:34:06] {2258} INFO - iteration 34, current learner extra_tree\n",
            "[flaml.automl.logger: 02-26 09:34:06] {2442} INFO -  at 21.4s,\testimator extra_tree's best error=0.1000,\tbest estimator lgbm's best error=0.0909\n",
            "[flaml.automl.logger: 02-26 09:34:06] {2258} INFO - iteration 35, current learner lgbm\n",
            "[flaml.automl.logger: 02-26 09:34:07] {2442} INFO -  at 22.4s,\testimator lgbm's best error=0.0909,\tbest estimator lgbm's best error=0.0909\n",
            "[flaml.automl.logger: 02-26 09:34:07] {2258} INFO - iteration 36, current learner rf\n",
            "[flaml.automl.logger: 02-26 09:34:08] {2442} INFO -  at 23.2s,\testimator rf's best error=0.0955,\tbest estimator lgbm's best error=0.0909\n",
            "[flaml.automl.logger: 02-26 09:34:08] {2258} INFO - iteration 37, current learner xgboost\n",
            "[flaml.automl.logger: 02-26 09:34:09] {2442} INFO -  at 24.4s,\testimator xgboost's best error=0.0966,\tbest estimator lgbm's best error=0.0909\n",
            "[flaml.automl.logger: 02-26 09:34:09] {2258} INFO - iteration 38, current learner rf\n",
            "[flaml.automl.logger: 02-26 09:34:10] {2442} INFO -  at 24.7s,\testimator rf's best error=0.0955,\tbest estimator lgbm's best error=0.0909\n",
            "[flaml.automl.logger: 02-26 09:34:10] {2258} INFO - iteration 39, current learner rf\n",
            "[flaml.automl.logger: 02-26 09:34:10] {2442} INFO -  at 25.2s,\testimator rf's best error=0.0955,\tbest estimator lgbm's best error=0.0909\n",
            "[flaml.automl.logger: 02-26 09:34:10] {2258} INFO - iteration 40, current learner lgbm\n",
            "[flaml.automl.logger: 02-26 09:34:11] {2442} INFO -  at 25.9s,\testimator lgbm's best error=0.0909,\tbest estimator lgbm's best error=0.0909\n",
            "[flaml.automl.logger: 02-26 09:34:11] {2258} INFO - iteration 41, current learner rf\n",
            "[flaml.automl.logger: 02-26 09:34:11] {2442} INFO -  at 26.2s,\testimator rf's best error=0.0955,\tbest estimator lgbm's best error=0.0909\n",
            "[flaml.automl.logger: 02-26 09:34:11] {2258} INFO - iteration 42, current learner rf\n",
            "[flaml.automl.logger: 02-26 09:34:12] {2442} INFO -  at 26.6s,\testimator rf's best error=0.0955,\tbest estimator lgbm's best error=0.0909\n",
            "[flaml.automl.logger: 02-26 09:34:12] {2258} INFO - iteration 43, current learner lgbm\n",
            "[flaml.automl.logger: 02-26 09:34:12] {2442} INFO -  at 26.8s,\testimator lgbm's best error=0.0909,\tbest estimator lgbm's best error=0.0909\n",
            "[flaml.automl.logger: 02-26 09:34:12] {2258} INFO - iteration 44, current learner rf\n",
            "[flaml.automl.logger: 02-26 09:34:12] {2442} INFO -  at 27.5s,\testimator rf's best error=0.0955,\tbest estimator lgbm's best error=0.0909\n",
            "[flaml.automl.logger: 02-26 09:34:12] {2258} INFO - iteration 45, current learner extra_tree\n",
            "[flaml.automl.logger: 02-26 09:34:13] {2442} INFO -  at 28.0s,\testimator extra_tree's best error=0.1000,\tbest estimator lgbm's best error=0.0909\n",
            "[flaml.automl.logger: 02-26 09:34:13] {2258} INFO - iteration 46, current learner rf\n",
            "[flaml.automl.logger: 02-26 09:34:14] {2442} INFO -  at 28.8s,\testimator rf's best error=0.0955,\tbest estimator lgbm's best error=0.0909\n",
            "[flaml.automl.logger: 02-26 09:34:14] {2258} INFO - iteration 47, current learner lgbm\n",
            "[flaml.automl.logger: 02-26 09:34:14] {2442} INFO -  at 28.9s,\testimator lgbm's best error=0.0909,\tbest estimator lgbm's best error=0.0909\n",
            "[flaml.automl.logger: 02-26 09:34:14] {2258} INFO - iteration 48, current learner rf\n",
            "[flaml.automl.logger: 02-26 09:34:14] {2442} INFO -  at 29.2s,\testimator rf's best error=0.0955,\tbest estimator lgbm's best error=0.0909\n",
            "[flaml.automl.logger: 02-26 09:34:14] {2258} INFO - iteration 49, current learner lgbm\n",
            "[flaml.automl.logger: 02-26 09:34:15] {2442} INFO -  at 29.8s,\testimator lgbm's best error=0.0909,\tbest estimator lgbm's best error=0.0909\n",
            "[flaml.automl.logger: 02-26 09:34:15] {2258} INFO - iteration 50, current learner lgbm\n",
            "[flaml.automl.logger: 02-26 09:34:15] {2442} INFO -  at 30.5s,\testimator lgbm's best error=0.0909,\tbest estimator lgbm's best error=0.0909\n",
            "[flaml.automl.logger: 02-26 09:34:15] {2258} INFO - iteration 51, current learner xgboost\n",
            "[flaml.automl.logger: 02-26 09:34:17] {2442} INFO -  at 31.8s,\testimator xgboost's best error=0.0965,\tbest estimator lgbm's best error=0.0909\n",
            "[flaml.automl.logger: 02-26 09:34:17] {2258} INFO - iteration 52, current learner lgbm\n",
            "[flaml.automl.logger: 02-26 09:34:19] {2442} INFO -  at 34.0s,\testimator lgbm's best error=0.0909,\tbest estimator lgbm's best error=0.0909\n",
            "[flaml.automl.logger: 02-26 09:34:19] {2258} INFO - iteration 53, current learner lgbm\n",
            "[flaml.automl.logger: 02-26 09:34:20] {2442} INFO -  at 35.4s,\testimator lgbm's best error=0.0909,\tbest estimator lgbm's best error=0.0909\n",
            "[flaml.automl.logger: 02-26 09:34:20] {2258} INFO - iteration 54, current learner lgbm\n",
            "[flaml.automl.logger: 02-26 09:34:20] {2442} INFO -  at 35.6s,\testimator lgbm's best error=0.0909,\tbest estimator lgbm's best error=0.0909\n",
            "[flaml.automl.logger: 02-26 09:34:20] {2258} INFO - iteration 55, current learner lgbm\n",
            "[flaml.automl.logger: 02-26 09:34:21] {2442} INFO -  at 35.8s,\testimator lgbm's best error=0.0896,\tbest estimator lgbm's best error=0.0896\n",
            "[flaml.automl.logger: 02-26 09:34:21] {2258} INFO - iteration 56, current learner rf\n",
            "[flaml.automl.logger: 02-26 09:34:21] {2442} INFO -  at 36.4s,\testimator rf's best error=0.0955,\tbest estimator lgbm's best error=0.0896\n",
            "[flaml.automl.logger: 02-26 09:34:21] {2258} INFO - iteration 57, current learner lgbm\n",
            "[flaml.automl.logger: 02-26 09:34:22] {2442} INFO -  at 36.9s,\testimator lgbm's best error=0.0896,\tbest estimator lgbm's best error=0.0896\n",
            "[flaml.automl.logger: 02-26 09:34:22] {2258} INFO - iteration 58, current learner lgbm\n",
            "[flaml.automl.logger: 02-26 09:34:22] {2442} INFO -  at 37.0s,\testimator lgbm's best error=0.0896,\tbest estimator lgbm's best error=0.0896\n",
            "[flaml.automl.logger: 02-26 09:34:22] {2258} INFO - iteration 59, current learner lgbm\n",
            "[flaml.automl.logger: 02-26 09:34:22] {2442} INFO -  at 37.0s,\testimator lgbm's best error=0.0896,\tbest estimator lgbm's best error=0.0896\n",
            "[flaml.automl.logger: 02-26 09:34:22] {2258} INFO - iteration 60, current learner lgbm\n",
            "[flaml.automl.logger: 02-26 09:34:22] {2442} INFO -  at 37.1s,\testimator lgbm's best error=0.0896,\tbest estimator lgbm's best error=0.0896\n",
            "[flaml.automl.logger: 02-26 09:34:22] {2258} INFO - iteration 61, current learner lgbm\n",
            "[flaml.automl.logger: 02-26 09:34:22] {2442} INFO -  at 37.2s,\testimator lgbm's best error=0.0896,\tbest estimator lgbm's best error=0.0896\n",
            "[flaml.automl.logger: 02-26 09:34:22] {2258} INFO - iteration 62, current learner lgbm\n",
            "[flaml.automl.logger: 02-26 09:34:22] {2442} INFO -  at 37.3s,\testimator lgbm's best error=0.0896,\tbest estimator lgbm's best error=0.0896\n",
            "[flaml.automl.logger: 02-26 09:34:22] {2258} INFO - iteration 63, current learner rf\n",
            "[flaml.automl.logger: 02-26 09:34:22] {2442} INFO -  at 37.6s,\testimator rf's best error=0.0930,\tbest estimator lgbm's best error=0.0896\n",
            "[flaml.automl.logger: 02-26 09:34:22] {2258} INFO - iteration 64, current learner rf\n",
            "[flaml.automl.logger: 02-26 09:34:23] {2442} INFO -  at 37.9s,\testimator rf's best error=0.0930,\tbest estimator lgbm's best error=0.0896\n",
            "[flaml.automl.logger: 02-26 09:34:23] {2258} INFO - iteration 65, current learner lgbm\n",
            "[flaml.automl.logger: 02-26 09:34:23] {2442} INFO -  at 37.9s,\testimator lgbm's best error=0.0896,\tbest estimator lgbm's best error=0.0896\n",
            "[flaml.automl.logger: 02-26 09:34:23] {2258} INFO - iteration 66, current learner lgbm\n",
            "[flaml.automl.logger: 02-26 09:34:23] {2442} INFO -  at 38.0s,\testimator lgbm's best error=0.0896,\tbest estimator lgbm's best error=0.0896\n",
            "[flaml.automl.logger: 02-26 09:34:23] {2258} INFO - iteration 67, current learner rf\n",
            "[flaml.automl.logger: 02-26 09:34:23] {2442} INFO -  at 38.3s,\testimator rf's best error=0.0930,\tbest estimator lgbm's best error=0.0896\n",
            "[flaml.automl.logger: 02-26 09:34:23] {2258} INFO - iteration 68, current learner lgbm\n",
            "[flaml.automl.logger: 02-26 09:34:23] {2442} INFO -  at 38.3s,\testimator lgbm's best error=0.0896,\tbest estimator lgbm's best error=0.0896\n",
            "[flaml.automl.logger: 02-26 09:34:23] {2258} INFO - iteration 69, current learner lgbm\n",
            "[flaml.automl.logger: 02-26 09:34:23] {2442} INFO -  at 38.4s,\testimator lgbm's best error=0.0896,\tbest estimator lgbm's best error=0.0896\n",
            "[flaml.automl.logger: 02-26 09:34:23] {2258} INFO - iteration 70, current learner lgbm\n",
            "[flaml.automl.logger: 02-26 09:34:23] {2442} INFO -  at 38.5s,\testimator lgbm's best error=0.0896,\tbest estimator lgbm's best error=0.0896\n",
            "[flaml.automl.logger: 02-26 09:34:23] {2258} INFO - iteration 71, current learner rf\n",
            "[flaml.automl.logger: 02-26 09:34:24] {2442} INFO -  at 38.8s,\testimator rf's best error=0.0930,\tbest estimator lgbm's best error=0.0896\n",
            "[flaml.automl.logger: 02-26 09:34:24] {2258} INFO - iteration 72, current learner lgbm\n",
            "[flaml.automl.logger: 02-26 09:34:24] {2442} INFO -  at 38.9s,\testimator lgbm's best error=0.0896,\tbest estimator lgbm's best error=0.0896\n",
            "[flaml.automl.logger: 02-26 09:34:24] {2258} INFO - iteration 73, current learner extra_tree\n",
            "[flaml.automl.logger: 02-26 09:34:24] {2442} INFO -  at 39.1s,\testimator extra_tree's best error=0.1000,\tbest estimator lgbm's best error=0.0896\n",
            "[flaml.automl.logger: 02-26 09:34:24] {2258} INFO - iteration 74, current learner lgbm\n",
            "[flaml.automl.logger: 02-26 09:34:24] {2442} INFO -  at 39.2s,\testimator lgbm's best error=0.0896,\tbest estimator lgbm's best error=0.0896\n",
            "[flaml.automl.logger: 02-26 09:34:24] {2258} INFO - iteration 75, current learner rf\n",
            "[flaml.automl.logger: 02-26 09:34:24] {2442} INFO -  at 39.5s,\testimator rf's best error=0.0930,\tbest estimator lgbm's best error=0.0896\n",
            "[flaml.automl.logger: 02-26 09:34:24] {2258} INFO - iteration 76, current learner lgbm\n",
            "[flaml.automl.logger: 02-26 09:34:24] {2442} INFO -  at 39.6s,\testimator lgbm's best error=0.0896,\tbest estimator lgbm's best error=0.0896\n",
            "[flaml.automl.logger: 02-26 09:34:24] {2258} INFO - iteration 77, current learner lgbm\n",
            "[flaml.automl.logger: 02-26 09:34:25] {2442} INFO -  at 39.7s,\testimator lgbm's best error=0.0896,\tbest estimator lgbm's best error=0.0896\n",
            "[flaml.automl.logger: 02-26 09:34:25] {2258} INFO - iteration 78, current learner rf\n",
            "[flaml.automl.logger: 02-26 09:34:25] {2442} INFO -  at 39.9s,\testimator rf's best error=0.0925,\tbest estimator lgbm's best error=0.0896\n",
            "[flaml.automl.logger: 02-26 09:34:25] {2258} INFO - iteration 79, current learner lgbm\n",
            "[flaml.automl.logger: 02-26 09:34:25] {2442} INFO -  at 40.0s,\testimator lgbm's best error=0.0896,\tbest estimator lgbm's best error=0.0896\n",
            "[flaml.automl.logger: 02-26 09:34:25] {2258} INFO - iteration 80, current learner lgbm\n",
            "[flaml.automl.logger: 02-26 09:34:25] {2442} INFO -  at 40.1s,\testimator lgbm's best error=0.0896,\tbest estimator lgbm's best error=0.0896\n",
            "[flaml.automl.logger: 02-26 09:34:25] {2258} INFO - iteration 81, current learner xgboost\n",
            "[flaml.automl.logger: 02-26 09:34:25] {2442} INFO -  at 40.3s,\testimator xgboost's best error=0.0965,\tbest estimator lgbm's best error=0.0896\n",
            "[flaml.automl.logger: 02-26 09:34:25] {2258} INFO - iteration 82, current learner lgbm\n",
            "[flaml.automl.logger: 02-26 09:34:25] {2442} INFO -  at 40.4s,\testimator lgbm's best error=0.0896,\tbest estimator lgbm's best error=0.0896\n",
            "[flaml.automl.logger: 02-26 09:34:25] {2258} INFO - iteration 83, current learner rf\n",
            "[flaml.automl.logger: 02-26 09:34:26] {2442} INFO -  at 40.6s,\testimator rf's best error=0.0925,\tbest estimator lgbm's best error=0.0896\n",
            "[flaml.automl.logger: 02-26 09:34:26] {2258} INFO - iteration 84, current learner rf\n",
            "[flaml.automl.logger: 02-26 09:34:26] {2442} INFO -  at 40.9s,\testimator rf's best error=0.0925,\tbest estimator lgbm's best error=0.0896\n",
            "[flaml.automl.logger: 02-26 09:34:26] {2258} INFO - iteration 85, current learner rf\n",
            "[flaml.automl.logger: 02-26 09:34:26] {2442} INFO -  at 41.2s,\testimator rf's best error=0.0925,\tbest estimator lgbm's best error=0.0896\n",
            "[flaml.automl.logger: 02-26 09:34:26] {2258} INFO - iteration 86, current learner lgbm\n",
            "[flaml.automl.logger: 02-26 09:34:26] {2442} INFO -  at 41.3s,\testimator lgbm's best error=0.0896,\tbest estimator lgbm's best error=0.0896\n",
            "[flaml.automl.logger: 02-26 09:34:26] {2258} INFO - iteration 87, current learner rf\n",
            "[flaml.automl.logger: 02-26 09:34:26] {2442} INFO -  at 41.5s,\testimator rf's best error=0.0925,\tbest estimator lgbm's best error=0.0896\n",
            "[flaml.automl.logger: 02-26 09:34:26] {2258} INFO - iteration 88, current learner lgbm\n",
            "[flaml.automl.logger: 02-26 09:34:27] {2442} INFO -  at 41.7s,\testimator lgbm's best error=0.0896,\tbest estimator lgbm's best error=0.0896\n",
            "[flaml.automl.logger: 02-26 09:34:27] {2258} INFO - iteration 89, current learner lgbm\n",
            "[flaml.automl.logger: 02-26 09:34:27] {2442} INFO -  at 41.7s,\testimator lgbm's best error=0.0896,\tbest estimator lgbm's best error=0.0896\n",
            "[flaml.automl.logger: 02-26 09:34:27] {2258} INFO - iteration 90, current learner rf\n",
            "[flaml.automl.logger: 02-26 09:34:27] {2442} INFO -  at 41.9s,\testimator rf's best error=0.0925,\tbest estimator lgbm's best error=0.0896\n",
            "[flaml.automl.logger: 02-26 09:34:27] {2258} INFO - iteration 91, current learner lgbm\n",
            "[flaml.automl.logger: 02-26 09:34:27] {2442} INFO -  at 42.0s,\testimator lgbm's best error=0.0896,\tbest estimator lgbm's best error=0.0896\n",
            "[flaml.automl.logger: 02-26 09:34:27] {2258} INFO - iteration 92, current learner extra_tree\n",
            "[flaml.automl.logger: 02-26 09:34:27] {2442} INFO -  at 42.2s,\testimator extra_tree's best error=0.1000,\tbest estimator lgbm's best error=0.0896\n",
            "[flaml.automl.logger: 02-26 09:34:27] {2258} INFO - iteration 93, current learner lgbm\n",
            "[flaml.automl.logger: 02-26 09:34:27] {2442} INFO -  at 42.3s,\testimator lgbm's best error=0.0896,\tbest estimator lgbm's best error=0.0896\n",
            "[flaml.automl.logger: 02-26 09:34:27] {2258} INFO - iteration 94, current learner lgbm\n",
            "[flaml.automl.logger: 02-26 09:34:27] {2442} INFO -  at 42.4s,\testimator lgbm's best error=0.0885,\tbest estimator lgbm's best error=0.0885\n",
            "[flaml.automl.logger: 02-26 09:34:27] {2258} INFO - iteration 95, current learner lgbm\n",
            "[flaml.automl.logger: 02-26 09:34:27] {2442} INFO -  at 42.5s,\testimator lgbm's best error=0.0885,\tbest estimator lgbm's best error=0.0885\n",
            "[flaml.automl.logger: 02-26 09:34:27] {2258} INFO - iteration 96, current learner rf\n",
            "[flaml.automl.logger: 02-26 09:34:28] {2442} INFO -  at 42.7s,\testimator rf's best error=0.0925,\tbest estimator lgbm's best error=0.0885\n",
            "[flaml.automl.logger: 02-26 09:34:28] {2258} INFO - iteration 97, current learner lgbm\n",
            "[flaml.automl.logger: 02-26 09:34:28] {2442} INFO -  at 42.8s,\testimator lgbm's best error=0.0885,\tbest estimator lgbm's best error=0.0885\n",
            "[flaml.automl.logger: 02-26 09:34:28] {2258} INFO - iteration 98, current learner lgbm\n",
            "[flaml.automl.logger: 02-26 09:34:28] {2442} INFO -  at 42.9s,\testimator lgbm's best error=0.0885,\tbest estimator lgbm's best error=0.0885\n",
            "[flaml.automl.logger: 02-26 09:34:28] {2258} INFO - iteration 99, current learner lgbm\n",
            "[flaml.automl.logger: 02-26 09:34:28] {2442} INFO -  at 42.9s,\testimator lgbm's best error=0.0885,\tbest estimator lgbm's best error=0.0885\n",
            "[flaml.automl.logger: 02-26 09:34:28] {2258} INFO - iteration 100, current learner lgbm\n",
            "[flaml.automl.logger: 02-26 09:34:28] {2442} INFO -  at 43.1s,\testimator lgbm's best error=0.0885,\tbest estimator lgbm's best error=0.0885\n",
            "[flaml.automl.logger: 02-26 09:34:28] {2258} INFO - iteration 101, current learner lgbm\n",
            "[flaml.automl.logger: 02-26 09:34:28] {2442} INFO -  at 43.2s,\testimator lgbm's best error=0.0885,\tbest estimator lgbm's best error=0.0885\n",
            "[flaml.automl.logger: 02-26 09:34:28] {2258} INFO - iteration 102, current learner lgbm\n",
            "[flaml.automl.logger: 02-26 09:34:28] {2442} INFO -  at 43.3s,\testimator lgbm's best error=0.0885,\tbest estimator lgbm's best error=0.0885\n",
            "[flaml.automl.logger: 02-26 09:34:28] {2258} INFO - iteration 103, current learner lgbm\n",
            "[flaml.automl.logger: 02-26 09:34:28] {2442} INFO -  at 43.5s,\testimator lgbm's best error=0.0885,\tbest estimator lgbm's best error=0.0885\n",
            "[flaml.automl.logger: 02-26 09:34:28] {2258} INFO - iteration 104, current learner lgbm\n",
            "[flaml.automl.logger: 02-26 09:34:28] {2442} INFO -  at 43.6s,\testimator lgbm's best error=0.0885,\tbest estimator lgbm's best error=0.0885\n",
            "[flaml.automl.logger: 02-26 09:34:28] {2258} INFO - iteration 105, current learner lgbm\n",
            "[flaml.automl.logger: 02-26 09:34:29] {2442} INFO -  at 43.7s,\testimator lgbm's best error=0.0885,\tbest estimator lgbm's best error=0.0885\n",
            "[flaml.automl.logger: 02-26 09:34:29] {2258} INFO - iteration 106, current learner lgbm\n",
            "[flaml.automl.logger: 02-26 09:34:29] {2442} INFO -  at 43.8s,\testimator lgbm's best error=0.0885,\tbest estimator lgbm's best error=0.0885\n",
            "[flaml.automl.logger: 02-26 09:34:29] {2258} INFO - iteration 107, current learner lgbm\n",
            "[flaml.automl.logger: 02-26 09:34:29] {2442} INFO -  at 43.9s,\testimator lgbm's best error=0.0885,\tbest estimator lgbm's best error=0.0885\n",
            "[flaml.automl.logger: 02-26 09:34:29] {2258} INFO - iteration 108, current learner lgbm\n",
            "[flaml.automl.logger: 02-26 09:34:29] {2442} INFO -  at 44.1s,\testimator lgbm's best error=0.0885,\tbest estimator lgbm's best error=0.0885\n",
            "[flaml.automl.logger: 02-26 09:34:29] {2258} INFO - iteration 109, current learner lgbm\n",
            "[flaml.automl.logger: 02-26 09:34:29] {2442} INFO -  at 44.3s,\testimator lgbm's best error=0.0885,\tbest estimator lgbm's best error=0.0885\n",
            "[flaml.automl.logger: 02-26 09:34:29] {2258} INFO - iteration 110, current learner lgbm\n",
            "[flaml.automl.logger: 02-26 09:34:29] {2442} INFO -  at 44.4s,\testimator lgbm's best error=0.0885,\tbest estimator lgbm's best error=0.0885\n",
            "[flaml.automl.logger: 02-26 09:34:29] {2258} INFO - iteration 111, current learner lgbm\n",
            "[flaml.automl.logger: 02-26 09:34:29] {2442} INFO -  at 44.5s,\testimator lgbm's best error=0.0885,\tbest estimator lgbm's best error=0.0885\n",
            "[flaml.automl.logger: 02-26 09:34:29] {2258} INFO - iteration 112, current learner rf\n",
            "[flaml.automl.logger: 02-26 09:34:30] {2442} INFO -  at 44.9s,\testimator rf's best error=0.0925,\tbest estimator lgbm's best error=0.0885\n",
            "[flaml.automl.logger: 02-26 09:34:30] {2258} INFO - iteration 113, current learner lgbm\n",
            "[flaml.automl.logger: 02-26 09:34:30] {2442} INFO -  at 45.1s,\testimator lgbm's best error=0.0885,\tbest estimator lgbm's best error=0.0885\n",
            "[flaml.automl.logger: 02-26 09:34:30] {2258} INFO - iteration 114, current learner sgd\n",
            "[flaml.automl.logger: 02-26 09:34:30] {2442} INFO -  at 45.3s,\testimator sgd's best error=0.1113,\tbest estimator lgbm's best error=0.0885\n",
            "[flaml.automl.logger: 02-26 09:34:30] {2258} INFO - iteration 115, current learner lgbm\n",
            "[flaml.automl.logger: 02-26 09:34:31] {2442} INFO -  at 46.3s,\testimator lgbm's best error=0.0885,\tbest estimator lgbm's best error=0.0885\n",
            "[flaml.automl.logger: 02-26 09:34:31] {2258} INFO - iteration 116, current learner lgbm\n",
            "[flaml.automl.logger: 02-26 09:34:31] {2442} INFO -  at 46.4s,\testimator lgbm's best error=0.0885,\tbest estimator lgbm's best error=0.0885\n",
            "[flaml.automl.logger: 02-26 09:34:31] {2258} INFO - iteration 117, current learner rf\n",
            "[flaml.automl.logger: 02-26 09:34:32] {2442} INFO -  at 46.7s,\testimator rf's best error=0.0925,\tbest estimator lgbm's best error=0.0885\n",
            "[flaml.automl.logger: 02-26 09:34:32] {2258} INFO - iteration 118, current learner lgbm\n",
            "[flaml.automl.logger: 02-26 09:34:32] {2442} INFO -  at 47.2s,\testimator lgbm's best error=0.0885,\tbest estimator lgbm's best error=0.0885\n",
            "[flaml.automl.logger: 02-26 09:34:32] {2258} INFO - iteration 119, current learner lgbm\n",
            "[flaml.automl.logger: 02-26 09:34:33] {2442} INFO -  at 47.7s,\testimator lgbm's best error=0.0885,\tbest estimator lgbm's best error=0.0885\n",
            "[flaml.automl.logger: 02-26 09:34:33] {2258} INFO - iteration 120, current learner lgbm\n",
            "[flaml.automl.logger: 02-26 09:34:33] {2442} INFO -  at 47.8s,\testimator lgbm's best error=0.0885,\tbest estimator lgbm's best error=0.0885\n",
            "[flaml.automl.logger: 02-26 09:34:33] {2258} INFO - iteration 121, current learner lgbm\n",
            "[flaml.automl.logger: 02-26 09:34:33] {2442} INFO -  at 48.4s,\testimator lgbm's best error=0.0885,\tbest estimator lgbm's best error=0.0885\n",
            "[flaml.automl.logger: 02-26 09:34:33] {2258} INFO - iteration 122, current learner rf\n",
            "[flaml.automl.logger: 02-26 09:34:34] {2442} INFO -  at 48.7s,\testimator rf's best error=0.0925,\tbest estimator lgbm's best error=0.0885\n",
            "[flaml.automl.logger: 02-26 09:34:34] {2258} INFO - iteration 123, current learner lgbm\n",
            "[flaml.automl.logger: 02-26 09:34:34] {2442} INFO -  at 48.8s,\testimator lgbm's best error=0.0885,\tbest estimator lgbm's best error=0.0885\n",
            "[flaml.automl.logger: 02-26 09:34:34] {2258} INFO - iteration 124, current learner lgbm\n",
            "[flaml.automl.logger: 02-26 09:34:34] {2442} INFO -  at 49.0s,\testimator lgbm's best error=0.0885,\tbest estimator lgbm's best error=0.0885\n",
            "[flaml.automl.logger: 02-26 09:34:34] {2258} INFO - iteration 125, current learner lgbm\n",
            "[flaml.automl.logger: 02-26 09:34:34] {2442} INFO -  at 49.1s,\testimator lgbm's best error=0.0885,\tbest estimator lgbm's best error=0.0885\n",
            "[flaml.automl.logger: 02-26 09:34:34] {2258} INFO - iteration 126, current learner lgbm\n",
            "[flaml.automl.logger: 02-26 09:34:34] {2442} INFO -  at 49.2s,\testimator lgbm's best error=0.0885,\tbest estimator lgbm's best error=0.0885\n",
            "[flaml.automl.logger: 02-26 09:34:34] {2258} INFO - iteration 127, current learner lgbm\n",
            "[flaml.automl.logger: 02-26 09:34:34] {2442} INFO -  at 49.3s,\testimator lgbm's best error=0.0885,\tbest estimator lgbm's best error=0.0885\n",
            "[flaml.automl.logger: 02-26 09:34:34] {2258} INFO - iteration 128, current learner lgbm\n",
            "[flaml.automl.logger: 02-26 09:34:34] {2442} INFO -  at 49.5s,\testimator lgbm's best error=0.0885,\tbest estimator lgbm's best error=0.0885\n",
            "[flaml.automl.logger: 02-26 09:34:34] {2258} INFO - iteration 129, current learner rf\n",
            "[flaml.automl.logger: 02-26 09:34:35] {2442} INFO -  at 49.7s,\testimator rf's best error=0.0925,\tbest estimator lgbm's best error=0.0885\n",
            "[flaml.automl.logger: 02-26 09:34:35] {2258} INFO - iteration 130, current learner lgbm\n",
            "[flaml.automl.logger: 02-26 09:34:35] {2442} INFO -  at 49.8s,\testimator lgbm's best error=0.0885,\tbest estimator lgbm's best error=0.0885\n",
            "[flaml.automl.logger: 02-26 09:34:35] {2258} INFO - iteration 131, current learner lgbm\n",
            "[flaml.automl.logger: 02-26 09:34:35] {2442} INFO -  at 49.9s,\testimator lgbm's best error=0.0885,\tbest estimator lgbm's best error=0.0885\n",
            "[flaml.automl.logger: 02-26 09:34:35] {2258} INFO - iteration 132, current learner rf\n",
            "[flaml.automl.logger: 02-26 09:34:35] {2442} INFO -  at 50.2s,\testimator rf's best error=0.0925,\tbest estimator lgbm's best error=0.0885\n",
            "[flaml.automl.logger: 02-26 09:34:35] {2258} INFO - iteration 133, current learner lgbm\n",
            "[flaml.automl.logger: 02-26 09:34:35] {2442} INFO -  at 50.3s,\testimator lgbm's best error=0.0885,\tbest estimator lgbm's best error=0.0885\n",
            "[flaml.automl.logger: 02-26 09:34:35] {2258} INFO - iteration 134, current learner lgbm\n",
            "[flaml.automl.logger: 02-26 09:34:35] {2442} INFO -  at 50.4s,\testimator lgbm's best error=0.0885,\tbest estimator lgbm's best error=0.0885\n",
            "[flaml.automl.logger: 02-26 09:34:35] {2258} INFO - iteration 135, current learner lgbm\n",
            "[flaml.automl.logger: 02-26 09:34:35] {2442} INFO -  at 50.5s,\testimator lgbm's best error=0.0885,\tbest estimator lgbm's best error=0.0885\n",
            "[flaml.automl.logger: 02-26 09:34:35] {2258} INFO - iteration 136, current learner extra_tree\n",
            "[flaml.automl.logger: 02-26 09:34:36] {2442} INFO -  at 50.7s,\testimator extra_tree's best error=0.1000,\tbest estimator lgbm's best error=0.0885\n",
            "[flaml.automl.logger: 02-26 09:34:36] {2258} INFO - iteration 137, current learner lgbm\n",
            "[flaml.automl.logger: 02-26 09:34:36] {2442} INFO -  at 50.8s,\testimator lgbm's best error=0.0885,\tbest estimator lgbm's best error=0.0885\n",
            "[flaml.automl.logger: 02-26 09:34:36] {2258} INFO - iteration 138, current learner lgbm\n",
            "[flaml.automl.logger: 02-26 09:34:36] {2442} INFO -  at 50.9s,\testimator lgbm's best error=0.0885,\tbest estimator lgbm's best error=0.0885\n",
            "[flaml.automl.logger: 02-26 09:34:36] {2258} INFO - iteration 139, current learner lgbm\n",
            "[flaml.automl.logger: 02-26 09:34:36] {2442} INFO -  at 51.0s,\testimator lgbm's best error=0.0885,\tbest estimator lgbm's best error=0.0885\n",
            "[flaml.automl.logger: 02-26 09:34:36] {2258} INFO - iteration 140, current learner lgbm\n",
            "[flaml.automl.logger: 02-26 09:34:36] {2442} INFO -  at 51.3s,\testimator lgbm's best error=0.0885,\tbest estimator lgbm's best error=0.0885\n",
            "[flaml.automl.logger: 02-26 09:34:36] {2258} INFO - iteration 141, current learner lgbm\n",
            "[flaml.automl.logger: 02-26 09:34:36] {2442} INFO -  at 51.4s,\testimator lgbm's best error=0.0885,\tbest estimator lgbm's best error=0.0885\n",
            "[flaml.automl.logger: 02-26 09:34:36] {2258} INFO - iteration 142, current learner lgbm\n",
            "[flaml.automl.logger: 02-26 09:34:36] {2442} INFO -  at 51.5s,\testimator lgbm's best error=0.0885,\tbest estimator lgbm's best error=0.0885\n",
            "[flaml.automl.logger: 02-26 09:34:36] {2258} INFO - iteration 143, current learner rf\n",
            "[flaml.automl.logger: 02-26 09:34:37] {2442} INFO -  at 51.8s,\testimator rf's best error=0.0925,\tbest estimator lgbm's best error=0.0885\n",
            "[flaml.automl.logger: 02-26 09:34:37] {2258} INFO - iteration 144, current learner lgbm\n",
            "[flaml.automl.logger: 02-26 09:34:37] {2442} INFO -  at 52.0s,\testimator lgbm's best error=0.0885,\tbest estimator lgbm's best error=0.0885\n",
            "[flaml.automl.logger: 02-26 09:34:37] {2258} INFO - iteration 145, current learner lgbm\n",
            "[flaml.automl.logger: 02-26 09:34:37] {2442} INFO -  at 52.1s,\testimator lgbm's best error=0.0885,\tbest estimator lgbm's best error=0.0885\n",
            "[flaml.automl.logger: 02-26 09:34:37] {2258} INFO - iteration 146, current learner lgbm\n",
            "[flaml.automl.logger: 02-26 09:34:37] {2442} INFO -  at 52.2s,\testimator lgbm's best error=0.0885,\tbest estimator lgbm's best error=0.0885\n",
            "[flaml.automl.logger: 02-26 09:34:37] {2258} INFO - iteration 147, current learner lgbm\n",
            "[flaml.automl.logger: 02-26 09:34:37] {2442} INFO -  at 52.3s,\testimator lgbm's best error=0.0885,\tbest estimator lgbm's best error=0.0885\n",
            "[flaml.automl.logger: 02-26 09:34:37] {2258} INFO - iteration 148, current learner lgbm\n",
            "[flaml.automl.logger: 02-26 09:34:37] {2442} INFO -  at 52.4s,\testimator lgbm's best error=0.0885,\tbest estimator lgbm's best error=0.0885\n",
            "[flaml.automl.logger: 02-26 09:34:37] {2258} INFO - iteration 149, current learner lgbm\n",
            "[flaml.automl.logger: 02-26 09:34:37] {2442} INFO -  at 52.5s,\testimator lgbm's best error=0.0885,\tbest estimator lgbm's best error=0.0885\n",
            "[flaml.automl.logger: 02-26 09:34:37] {2258} INFO - iteration 150, current learner lgbm\n",
            "[flaml.automl.logger: 02-26 09:34:38] {2442} INFO -  at 52.6s,\testimator lgbm's best error=0.0885,\tbest estimator lgbm's best error=0.0885\n",
            "[flaml.automl.logger: 02-26 09:34:38] {2258} INFO - iteration 151, current learner lgbm\n",
            "[flaml.automl.logger: 02-26 09:34:38] {2442} INFO -  at 52.7s,\testimator lgbm's best error=0.0885,\tbest estimator lgbm's best error=0.0885\n",
            "[flaml.automl.logger: 02-26 09:34:38] {2258} INFO - iteration 152, current learner lgbm\n",
            "[flaml.automl.logger: 02-26 09:34:38] {2442} INFO -  at 52.8s,\testimator lgbm's best error=0.0885,\tbest estimator lgbm's best error=0.0885\n",
            "[flaml.automl.logger: 02-26 09:34:38] {2258} INFO - iteration 153, current learner lgbm\n",
            "[flaml.automl.logger: 02-26 09:34:38] {2442} INFO -  at 53.0s,\testimator lgbm's best error=0.0885,\tbest estimator lgbm's best error=0.0885\n",
            "[flaml.automl.logger: 02-26 09:34:38] {2258} INFO - iteration 154, current learner lgbm\n",
            "[flaml.automl.logger: 02-26 09:34:38] {2442} INFO -  at 53.1s,\testimator lgbm's best error=0.0885,\tbest estimator lgbm's best error=0.0885\n",
            "[flaml.automl.logger: 02-26 09:34:38] {2258} INFO - iteration 155, current learner lgbm\n",
            "[flaml.automl.logger: 02-26 09:34:38] {2442} INFO -  at 53.2s,\testimator lgbm's best error=0.0885,\tbest estimator lgbm's best error=0.0885\n",
            "[flaml.automl.logger: 02-26 09:34:38] {2258} INFO - iteration 156, current learner extra_tree\n",
            "[flaml.automl.logger: 02-26 09:34:38] {2442} INFO -  at 53.4s,\testimator extra_tree's best error=0.1000,\tbest estimator lgbm's best error=0.0885\n",
            "[flaml.automl.logger: 02-26 09:34:38] {2258} INFO - iteration 157, current learner lgbm\n",
            "[flaml.automl.logger: 02-26 09:34:38] {2442} INFO -  at 53.6s,\testimator lgbm's best error=0.0885,\tbest estimator lgbm's best error=0.0885\n",
            "[flaml.automl.logger: 02-26 09:34:38] {2258} INFO - iteration 158, current learner lgbm\n",
            "[flaml.automl.logger: 02-26 09:34:39] {2442} INFO -  at 53.6s,\testimator lgbm's best error=0.0885,\tbest estimator lgbm's best error=0.0885\n",
            "[flaml.automl.logger: 02-26 09:34:39] {2258} INFO - iteration 159, current learner lgbm\n",
            "[flaml.automl.logger: 02-26 09:34:39] {2442} INFO -  at 53.7s,\testimator lgbm's best error=0.0885,\tbest estimator lgbm's best error=0.0885\n",
            "[flaml.automl.logger: 02-26 09:34:39] {2258} INFO - iteration 160, current learner lgbm\n",
            "[flaml.automl.logger: 02-26 09:34:39] {2442} INFO -  at 53.8s,\testimator lgbm's best error=0.0885,\tbest estimator lgbm's best error=0.0885\n",
            "[flaml.automl.logger: 02-26 09:34:39] {2258} INFO - iteration 161, current learner lgbm\n",
            "[flaml.automl.logger: 02-26 09:34:39] {2442} INFO -  at 53.9s,\testimator lgbm's best error=0.0885,\tbest estimator lgbm's best error=0.0885\n",
            "[flaml.automl.logger: 02-26 09:34:39] {2258} INFO - iteration 162, current learner lgbm\n",
            "[flaml.automl.logger: 02-26 09:34:39] {2442} INFO -  at 54.1s,\testimator lgbm's best error=0.0885,\tbest estimator lgbm's best error=0.0885\n",
            "[flaml.automl.logger: 02-26 09:34:39] {2258} INFO - iteration 163, current learner extra_tree\n",
            "[flaml.automl.logger: 02-26 09:34:39] {2442} INFO -  at 54.3s,\testimator extra_tree's best error=0.1000,\tbest estimator lgbm's best error=0.0885\n",
            "[flaml.automl.logger: 02-26 09:34:39] {2258} INFO - iteration 164, current learner rf\n",
            "[flaml.automl.logger: 02-26 09:34:39] {2442} INFO -  at 54.5s,\testimator rf's best error=0.0925,\tbest estimator lgbm's best error=0.0885\n",
            "[flaml.automl.logger: 02-26 09:34:39] {2258} INFO - iteration 165, current learner lgbm\n",
            "[flaml.automl.logger: 02-26 09:34:39] {2442} INFO -  at 54.6s,\testimator lgbm's best error=0.0885,\tbest estimator lgbm's best error=0.0885\n",
            "[flaml.automl.logger: 02-26 09:34:39] {2258} INFO - iteration 166, current learner lgbm\n",
            "[flaml.automl.logger: 02-26 09:34:40] {2442} INFO -  at 54.7s,\testimator lgbm's best error=0.0885,\tbest estimator lgbm's best error=0.0885\n",
            "[flaml.automl.logger: 02-26 09:34:40] {2258} INFO - iteration 167, current learner lgbm\n",
            "[flaml.automl.logger: 02-26 09:34:40] {2442} INFO -  at 54.8s,\testimator lgbm's best error=0.0885,\tbest estimator lgbm's best error=0.0885\n",
            "[flaml.automl.logger: 02-26 09:34:40] {2258} INFO - iteration 168, current learner rf\n",
            "[flaml.automl.logger: 02-26 09:34:40] {2442} INFO -  at 55.1s,\testimator rf's best error=0.0925,\tbest estimator lgbm's best error=0.0885\n",
            "[flaml.automl.logger: 02-26 09:34:40] {2258} INFO - iteration 169, current learner lgbm\n",
            "[flaml.automl.logger: 02-26 09:34:40] {2442} INFO -  at 55.2s,\testimator lgbm's best error=0.0885,\tbest estimator lgbm's best error=0.0885\n",
            "[flaml.automl.logger: 02-26 09:34:40] {2258} INFO - iteration 170, current learner lgbm\n",
            "[flaml.automl.logger: 02-26 09:34:40] {2442} INFO -  at 55.3s,\testimator lgbm's best error=0.0885,\tbest estimator lgbm's best error=0.0885\n",
            "[flaml.automl.logger: 02-26 09:34:40] {2258} INFO - iteration 171, current learner lgbm\n",
            "[flaml.automl.logger: 02-26 09:34:40] {2442} INFO -  at 55.5s,\testimator lgbm's best error=0.0885,\tbest estimator lgbm's best error=0.0885\n",
            "[flaml.automl.logger: 02-26 09:34:40] {2258} INFO - iteration 172, current learner lgbm\n",
            "[flaml.automl.logger: 02-26 09:34:40] {2442} INFO -  at 55.6s,\testimator lgbm's best error=0.0885,\tbest estimator lgbm's best error=0.0885\n",
            "[flaml.automl.logger: 02-26 09:34:40] {2258} INFO - iteration 173, current learner lgbm\n",
            "[flaml.automl.logger: 02-26 09:34:41] {2442} INFO -  at 55.7s,\testimator lgbm's best error=0.0885,\tbest estimator lgbm's best error=0.0885\n",
            "[flaml.automl.logger: 02-26 09:34:41] {2258} INFO - iteration 174, current learner lgbm\n",
            "[flaml.automl.logger: 02-26 09:34:41] {2442} INFO -  at 55.8s,\testimator lgbm's best error=0.0885,\tbest estimator lgbm's best error=0.0885\n",
            "[flaml.automl.logger: 02-26 09:34:41] {2258} INFO - iteration 175, current learner lgbm\n",
            "[flaml.automl.logger: 02-26 09:34:41] {2442} INFO -  at 55.9s,\testimator lgbm's best error=0.0885,\tbest estimator lgbm's best error=0.0885\n",
            "[flaml.automl.logger: 02-26 09:34:41] {2258} INFO - iteration 176, current learner extra_tree\n",
            "[flaml.automl.logger: 02-26 09:34:41] {2442} INFO -  at 56.1s,\testimator extra_tree's best error=0.1000,\tbest estimator lgbm's best error=0.0885\n",
            "[flaml.automl.logger: 02-26 09:34:41] {2258} INFO - iteration 177, current learner lgbm\n",
            "[flaml.automl.logger: 02-26 09:34:41] {2442} INFO -  at 56.3s,\testimator lgbm's best error=0.0885,\tbest estimator lgbm's best error=0.0885\n",
            "[flaml.automl.logger: 02-26 09:34:41] {2258} INFO - iteration 178, current learner lgbm\n",
            "[flaml.automl.logger: 02-26 09:34:41] {2442} INFO -  at 56.4s,\testimator lgbm's best error=0.0885,\tbest estimator lgbm's best error=0.0885\n",
            "[flaml.automl.logger: 02-26 09:34:41] {2258} INFO - iteration 179, current learner lgbm\n",
            "[flaml.automl.logger: 02-26 09:34:41] {2442} INFO -  at 56.5s,\testimator lgbm's best error=0.0885,\tbest estimator lgbm's best error=0.0885\n",
            "[flaml.automl.logger: 02-26 09:34:41] {2258} INFO - iteration 180, current learner lgbm\n",
            "[flaml.automl.logger: 02-26 09:34:41] {2442} INFO -  at 56.6s,\testimator lgbm's best error=0.0885,\tbest estimator lgbm's best error=0.0885\n",
            "[flaml.automl.logger: 02-26 09:34:41] {2258} INFO - iteration 181, current learner lgbm\n",
            "[flaml.automl.logger: 02-26 09:34:42] {2442} INFO -  at 56.7s,\testimator lgbm's best error=0.0885,\tbest estimator lgbm's best error=0.0885\n",
            "[flaml.automl.logger: 02-26 09:34:42] {2258} INFO - iteration 182, current learner lgbm\n",
            "[flaml.automl.logger: 02-26 09:34:42] {2442} INFO -  at 56.8s,\testimator lgbm's best error=0.0885,\tbest estimator lgbm's best error=0.0885\n",
            "[flaml.automl.logger: 02-26 09:34:42] {2258} INFO - iteration 183, current learner lgbm\n",
            "[flaml.automl.logger: 02-26 09:34:42] {2442} INFO -  at 56.9s,\testimator lgbm's best error=0.0885,\tbest estimator lgbm's best error=0.0885\n",
            "[flaml.automl.logger: 02-26 09:34:42] {2258} INFO - iteration 184, current learner lgbm\n",
            "[flaml.automl.logger: 02-26 09:34:42] {2442} INFO -  at 57.0s,\testimator lgbm's best error=0.0885,\tbest estimator lgbm's best error=0.0885\n",
            "[flaml.automl.logger: 02-26 09:34:42] {2258} INFO - iteration 185, current learner lgbm\n",
            "[flaml.automl.logger: 02-26 09:34:42] {2442} INFO -  at 57.1s,\testimator lgbm's best error=0.0885,\tbest estimator lgbm's best error=0.0885\n",
            "[flaml.automl.logger: 02-26 09:34:42] {2258} INFO - iteration 186, current learner lgbm\n",
            "[flaml.automl.logger: 02-26 09:34:42] {2442} INFO -  at 57.2s,\testimator lgbm's best error=0.0885,\tbest estimator lgbm's best error=0.0885\n",
            "[flaml.automl.logger: 02-26 09:34:42] {2258} INFO - iteration 187, current learner lgbm\n",
            "[flaml.automl.logger: 02-26 09:34:42] {2442} INFO -  at 57.4s,\testimator lgbm's best error=0.0885,\tbest estimator lgbm's best error=0.0885\n",
            "[flaml.automl.logger: 02-26 09:34:42] {2258} INFO - iteration 188, current learner lgbm\n",
            "[flaml.automl.logger: 02-26 09:34:42] {2442} INFO -  at 57.6s,\testimator lgbm's best error=0.0885,\tbest estimator lgbm's best error=0.0885\n",
            "[flaml.automl.logger: 02-26 09:34:42] {2258} INFO - iteration 189, current learner lgbm\n",
            "[flaml.automl.logger: 02-26 09:34:43] {2442} INFO -  at 57.6s,\testimator lgbm's best error=0.0885,\tbest estimator lgbm's best error=0.0885\n",
            "[flaml.automl.logger: 02-26 09:34:43] {2258} INFO - iteration 190, current learner rf\n",
            "[flaml.automl.logger: 02-26 09:34:43] {2442} INFO -  at 57.9s,\testimator rf's best error=0.0925,\tbest estimator lgbm's best error=0.0885\n",
            "[flaml.automl.logger: 02-26 09:34:43] {2258} INFO - iteration 191, current learner lgbm\n",
            "[flaml.automl.logger: 02-26 09:34:43] {2442} INFO -  at 58.0s,\testimator lgbm's best error=0.0885,\tbest estimator lgbm's best error=0.0885\n",
            "[flaml.automl.logger: 02-26 09:34:43] {2258} INFO - iteration 192, current learner lgbm\n",
            "[flaml.automl.logger: 02-26 09:34:43] {2442} INFO -  at 58.1s,\testimator lgbm's best error=0.0885,\tbest estimator lgbm's best error=0.0885\n",
            "[flaml.automl.logger: 02-26 09:34:43] {2258} INFO - iteration 193, current learner lgbm\n",
            "[flaml.automl.logger: 02-26 09:34:43] {2442} INFO -  at 58.4s,\testimator lgbm's best error=0.0885,\tbest estimator lgbm's best error=0.0885\n",
            "[flaml.automl.logger: 02-26 09:34:43] {2258} INFO - iteration 194, current learner extra_tree\n",
            "[flaml.automl.logger: 02-26 09:34:43] {2442} INFO -  at 58.6s,\testimator extra_tree's best error=0.1000,\tbest estimator lgbm's best error=0.0885\n",
            "[flaml.automl.logger: 02-26 09:34:43] {2258} INFO - iteration 195, current learner lgbm\n",
            "[flaml.automl.logger: 02-26 09:34:44] {2442} INFO -  at 58.6s,\testimator lgbm's best error=0.0885,\tbest estimator lgbm's best error=0.0885\n",
            "[flaml.automl.logger: 02-26 09:34:44] {2258} INFO - iteration 196, current learner lgbm\n",
            "[flaml.automl.logger: 02-26 09:34:44] {2442} INFO -  at 59.0s,\testimator lgbm's best error=0.0885,\tbest estimator lgbm's best error=0.0885\n",
            "[flaml.automl.logger: 02-26 09:34:44] {2258} INFO - iteration 197, current learner lgbm\n",
            "[flaml.automl.logger: 02-26 09:34:44] {2442} INFO -  at 59.2s,\testimator lgbm's best error=0.0885,\tbest estimator lgbm's best error=0.0885\n",
            "[flaml.automl.logger: 02-26 09:34:44] {2258} INFO - iteration 198, current learner lgbm\n",
            "[flaml.automl.logger: 02-26 09:34:45] {2442} INFO -  at 59.9s,\testimator lgbm's best error=0.0885,\tbest estimator lgbm's best error=0.0885\n",
            "[flaml.automl.logger: 02-26 09:34:45] {2258} INFO - iteration 199, current learner xgb_limitdepth\n",
            "[flaml.automl.logger: 02-26 09:34:45] {2442} INFO -  at 60.2s,\testimator xgb_limitdepth's best error=0.1092,\tbest estimator lgbm's best error=0.0885\n",
            "[flaml.automl.logger: 02-26 09:34:45] {2685} INFO - retrain lgbm for 0.0s\n",
            "[flaml.automl.logger: 02-26 09:34:45] {2688} INFO - retrained model: LGBMClassifier(colsample_bytree=0.9253539584169304,\n",
            "               learning_rate=0.06981033920507693, max_bin=63,\n",
            "               min_child_samples=4, n_estimators=21, n_jobs=-1, num_leaves=14,\n",
            "               reg_alpha=0.0013176806294550453, reg_lambda=10.23225524421718,\n",
            "               verbose=-1)\n",
            "[flaml.automl.logger: 02-26 09:34:45] {1985} INFO - fit succeeded\n",
            "[flaml.automl.logger: 02-26 09:34:45] {1986} INFO - Time taken to find the best model: 42.40065121650696\n"
          ]
        }
      ]
    },
    {
      "cell_type": "markdown",
      "source": [
        "- 선택된 모델"
      ],
      "metadata": {
        "id": "wuDL8nc3M4Ss"
      }
    },
    {
      "cell_type": "code",
      "source": [
        "auto_ml.model.estimator"
      ],
      "metadata": {
        "id": "i93O-KvKtDXq",
        "colab": {
          "base_uri": "https://localhost:8080/",
          "height": 149
        },
        "outputId": "6cf107f0-0b16-44d5-d897-d80c49bf7978"
      },
      "execution_count": null,
      "outputs": [
        {
          "output_type": "execute_result",
          "data": {
            "text/plain": [
              "LGBMClassifier(colsample_bytree=0.9253539584169304,\n",
              "               learning_rate=0.06981033920507693, max_bin=63,\n",
              "               min_child_samples=4, n_estimators=21, n_jobs=-1, num_leaves=14,\n",
              "               reg_alpha=0.0013176806294550453, reg_lambda=10.23225524421718,\n",
              "               verbose=-1)"
            ],
            "text/html": [
              "<style>#sk-container-id-1 {\n",
              "  /* Definition of color scheme common for light and dark mode */\n",
              "  --sklearn-color-text: #000;\n",
              "  --sklearn-color-text-muted: #666;\n",
              "  --sklearn-color-line: gray;\n",
              "  /* Definition of color scheme for unfitted estimators */\n",
              "  --sklearn-color-unfitted-level-0: #fff5e6;\n",
              "  --sklearn-color-unfitted-level-1: #f6e4d2;\n",
              "  --sklearn-color-unfitted-level-2: #ffe0b3;\n",
              "  --sklearn-color-unfitted-level-3: chocolate;\n",
              "  /* Definition of color scheme for fitted estimators */\n",
              "  --sklearn-color-fitted-level-0: #f0f8ff;\n",
              "  --sklearn-color-fitted-level-1: #d4ebff;\n",
              "  --sklearn-color-fitted-level-2: #b3dbfd;\n",
              "  --sklearn-color-fitted-level-3: cornflowerblue;\n",
              "\n",
              "  /* Specific color for light theme */\n",
              "  --sklearn-color-text-on-default-background: var(--sg-text-color, var(--theme-code-foreground, var(--jp-content-font-color1, black)));\n",
              "  --sklearn-color-background: var(--sg-background-color, var(--theme-background, var(--jp-layout-color0, white)));\n",
              "  --sklearn-color-border-box: var(--sg-text-color, var(--theme-code-foreground, var(--jp-content-font-color1, black)));\n",
              "  --sklearn-color-icon: #696969;\n",
              "\n",
              "  @media (prefers-color-scheme: dark) {\n",
              "    /* Redefinition of color scheme for dark theme */\n",
              "    --sklearn-color-text-on-default-background: var(--sg-text-color, var(--theme-code-foreground, var(--jp-content-font-color1, white)));\n",
              "    --sklearn-color-background: var(--sg-background-color, var(--theme-background, var(--jp-layout-color0, #111)));\n",
              "    --sklearn-color-border-box: var(--sg-text-color, var(--theme-code-foreground, var(--jp-content-font-color1, white)));\n",
              "    --sklearn-color-icon: #878787;\n",
              "  }\n",
              "}\n",
              "\n",
              "#sk-container-id-1 {\n",
              "  color: var(--sklearn-color-text);\n",
              "}\n",
              "\n",
              "#sk-container-id-1 pre {\n",
              "  padding: 0;\n",
              "}\n",
              "\n",
              "#sk-container-id-1 input.sk-hidden--visually {\n",
              "  border: 0;\n",
              "  clip: rect(1px 1px 1px 1px);\n",
              "  clip: rect(1px, 1px, 1px, 1px);\n",
              "  height: 1px;\n",
              "  margin: -1px;\n",
              "  overflow: hidden;\n",
              "  padding: 0;\n",
              "  position: absolute;\n",
              "  width: 1px;\n",
              "}\n",
              "\n",
              "#sk-container-id-1 div.sk-dashed-wrapped {\n",
              "  border: 1px dashed var(--sklearn-color-line);\n",
              "  margin: 0 0.4em 0.5em 0.4em;\n",
              "  box-sizing: border-box;\n",
              "  padding-bottom: 0.4em;\n",
              "  background-color: var(--sklearn-color-background);\n",
              "}\n",
              "\n",
              "#sk-container-id-1 div.sk-container {\n",
              "  /* jupyter's `normalize.less` sets `[hidden] { display: none; }`\n",
              "     but bootstrap.min.css set `[hidden] { display: none !important; }`\n",
              "     so we also need the `!important` here to be able to override the\n",
              "     default hidden behavior on the sphinx rendered scikit-learn.org.\n",
              "     See: https://github.com/scikit-learn/scikit-learn/issues/21755 */\n",
              "  display: inline-block !important;\n",
              "  position: relative;\n",
              "}\n",
              "\n",
              "#sk-container-id-1 div.sk-text-repr-fallback {\n",
              "  display: none;\n",
              "}\n",
              "\n",
              "div.sk-parallel-item,\n",
              "div.sk-serial,\n",
              "div.sk-item {\n",
              "  /* draw centered vertical line to link estimators */\n",
              "  background-image: linear-gradient(var(--sklearn-color-text-on-default-background), var(--sklearn-color-text-on-default-background));\n",
              "  background-size: 2px 100%;\n",
              "  background-repeat: no-repeat;\n",
              "  background-position: center center;\n",
              "}\n",
              "\n",
              "/* Parallel-specific style estimator block */\n",
              "\n",
              "#sk-container-id-1 div.sk-parallel-item::after {\n",
              "  content: \"\";\n",
              "  width: 100%;\n",
              "  border-bottom: 2px solid var(--sklearn-color-text-on-default-background);\n",
              "  flex-grow: 1;\n",
              "}\n",
              "\n",
              "#sk-container-id-1 div.sk-parallel {\n",
              "  display: flex;\n",
              "  align-items: stretch;\n",
              "  justify-content: center;\n",
              "  background-color: var(--sklearn-color-background);\n",
              "  position: relative;\n",
              "}\n",
              "\n",
              "#sk-container-id-1 div.sk-parallel-item {\n",
              "  display: flex;\n",
              "  flex-direction: column;\n",
              "}\n",
              "\n",
              "#sk-container-id-1 div.sk-parallel-item:first-child::after {\n",
              "  align-self: flex-end;\n",
              "  width: 50%;\n",
              "}\n",
              "\n",
              "#sk-container-id-1 div.sk-parallel-item:last-child::after {\n",
              "  align-self: flex-start;\n",
              "  width: 50%;\n",
              "}\n",
              "\n",
              "#sk-container-id-1 div.sk-parallel-item:only-child::after {\n",
              "  width: 0;\n",
              "}\n",
              "\n",
              "/* Serial-specific style estimator block */\n",
              "\n",
              "#sk-container-id-1 div.sk-serial {\n",
              "  display: flex;\n",
              "  flex-direction: column;\n",
              "  align-items: center;\n",
              "  background-color: var(--sklearn-color-background);\n",
              "  padding-right: 1em;\n",
              "  padding-left: 1em;\n",
              "}\n",
              "\n",
              "\n",
              "/* Toggleable style: style used for estimator/Pipeline/ColumnTransformer box that is\n",
              "clickable and can be expanded/collapsed.\n",
              "- Pipeline and ColumnTransformer use this feature and define the default style\n",
              "- Estimators will overwrite some part of the style using the `sk-estimator` class\n",
              "*/\n",
              "\n",
              "/* Pipeline and ColumnTransformer style (default) */\n",
              "\n",
              "#sk-container-id-1 div.sk-toggleable {\n",
              "  /* Default theme specific background. It is overwritten whether we have a\n",
              "  specific estimator or a Pipeline/ColumnTransformer */\n",
              "  background-color: var(--sklearn-color-background);\n",
              "}\n",
              "\n",
              "/* Toggleable label */\n",
              "#sk-container-id-1 label.sk-toggleable__label {\n",
              "  cursor: pointer;\n",
              "  display: flex;\n",
              "  width: 100%;\n",
              "  margin-bottom: 0;\n",
              "  padding: 0.5em;\n",
              "  box-sizing: border-box;\n",
              "  text-align: center;\n",
              "  align-items: start;\n",
              "  justify-content: space-between;\n",
              "  gap: 0.5em;\n",
              "}\n",
              "\n",
              "#sk-container-id-1 label.sk-toggleable__label .caption {\n",
              "  font-size: 0.6rem;\n",
              "  font-weight: lighter;\n",
              "  color: var(--sklearn-color-text-muted);\n",
              "}\n",
              "\n",
              "#sk-container-id-1 label.sk-toggleable__label-arrow:before {\n",
              "  /* Arrow on the left of the label */\n",
              "  content: \"▸\";\n",
              "  float: left;\n",
              "  margin-right: 0.25em;\n",
              "  color: var(--sklearn-color-icon);\n",
              "}\n",
              "\n",
              "#sk-container-id-1 label.sk-toggleable__label-arrow:hover:before {\n",
              "  color: var(--sklearn-color-text);\n",
              "}\n",
              "\n",
              "/* Toggleable content - dropdown */\n",
              "\n",
              "#sk-container-id-1 div.sk-toggleable__content {\n",
              "  max-height: 0;\n",
              "  max-width: 0;\n",
              "  overflow: hidden;\n",
              "  text-align: left;\n",
              "  /* unfitted */\n",
              "  background-color: var(--sklearn-color-unfitted-level-0);\n",
              "}\n",
              "\n",
              "#sk-container-id-1 div.sk-toggleable__content.fitted {\n",
              "  /* fitted */\n",
              "  background-color: var(--sklearn-color-fitted-level-0);\n",
              "}\n",
              "\n",
              "#sk-container-id-1 div.sk-toggleable__content pre {\n",
              "  margin: 0.2em;\n",
              "  border-radius: 0.25em;\n",
              "  color: var(--sklearn-color-text);\n",
              "  /* unfitted */\n",
              "  background-color: var(--sklearn-color-unfitted-level-0);\n",
              "}\n",
              "\n",
              "#sk-container-id-1 div.sk-toggleable__content.fitted pre {\n",
              "  /* unfitted */\n",
              "  background-color: var(--sklearn-color-fitted-level-0);\n",
              "}\n",
              "\n",
              "#sk-container-id-1 input.sk-toggleable__control:checked~div.sk-toggleable__content {\n",
              "  /* Expand drop-down */\n",
              "  max-height: 200px;\n",
              "  max-width: 100%;\n",
              "  overflow: auto;\n",
              "}\n",
              "\n",
              "#sk-container-id-1 input.sk-toggleable__control:checked~label.sk-toggleable__label-arrow:before {\n",
              "  content: \"▾\";\n",
              "}\n",
              "\n",
              "/* Pipeline/ColumnTransformer-specific style */\n",
              "\n",
              "#sk-container-id-1 div.sk-label input.sk-toggleable__control:checked~label.sk-toggleable__label {\n",
              "  color: var(--sklearn-color-text);\n",
              "  background-color: var(--sklearn-color-unfitted-level-2);\n",
              "}\n",
              "\n",
              "#sk-container-id-1 div.sk-label.fitted input.sk-toggleable__control:checked~label.sk-toggleable__label {\n",
              "  background-color: var(--sklearn-color-fitted-level-2);\n",
              "}\n",
              "\n",
              "/* Estimator-specific style */\n",
              "\n",
              "/* Colorize estimator box */\n",
              "#sk-container-id-1 div.sk-estimator input.sk-toggleable__control:checked~label.sk-toggleable__label {\n",
              "  /* unfitted */\n",
              "  background-color: var(--sklearn-color-unfitted-level-2);\n",
              "}\n",
              "\n",
              "#sk-container-id-1 div.sk-estimator.fitted input.sk-toggleable__control:checked~label.sk-toggleable__label {\n",
              "  /* fitted */\n",
              "  background-color: var(--sklearn-color-fitted-level-2);\n",
              "}\n",
              "\n",
              "#sk-container-id-1 div.sk-label label.sk-toggleable__label,\n",
              "#sk-container-id-1 div.sk-label label {\n",
              "  /* The background is the default theme color */\n",
              "  color: var(--sklearn-color-text-on-default-background);\n",
              "}\n",
              "\n",
              "/* On hover, darken the color of the background */\n",
              "#sk-container-id-1 div.sk-label:hover label.sk-toggleable__label {\n",
              "  color: var(--sklearn-color-text);\n",
              "  background-color: var(--sklearn-color-unfitted-level-2);\n",
              "}\n",
              "\n",
              "/* Label box, darken color on hover, fitted */\n",
              "#sk-container-id-1 div.sk-label.fitted:hover label.sk-toggleable__label.fitted {\n",
              "  color: var(--sklearn-color-text);\n",
              "  background-color: var(--sklearn-color-fitted-level-2);\n",
              "}\n",
              "\n",
              "/* Estimator label */\n",
              "\n",
              "#sk-container-id-1 div.sk-label label {\n",
              "  font-family: monospace;\n",
              "  font-weight: bold;\n",
              "  display: inline-block;\n",
              "  line-height: 1.2em;\n",
              "}\n",
              "\n",
              "#sk-container-id-1 div.sk-label-container {\n",
              "  text-align: center;\n",
              "}\n",
              "\n",
              "/* Estimator-specific */\n",
              "#sk-container-id-1 div.sk-estimator {\n",
              "  font-family: monospace;\n",
              "  border: 1px dotted var(--sklearn-color-border-box);\n",
              "  border-radius: 0.25em;\n",
              "  box-sizing: border-box;\n",
              "  margin-bottom: 0.5em;\n",
              "  /* unfitted */\n",
              "  background-color: var(--sklearn-color-unfitted-level-0);\n",
              "}\n",
              "\n",
              "#sk-container-id-1 div.sk-estimator.fitted {\n",
              "  /* fitted */\n",
              "  background-color: var(--sklearn-color-fitted-level-0);\n",
              "}\n",
              "\n",
              "/* on hover */\n",
              "#sk-container-id-1 div.sk-estimator:hover {\n",
              "  /* unfitted */\n",
              "  background-color: var(--sklearn-color-unfitted-level-2);\n",
              "}\n",
              "\n",
              "#sk-container-id-1 div.sk-estimator.fitted:hover {\n",
              "  /* fitted */\n",
              "  background-color: var(--sklearn-color-fitted-level-2);\n",
              "}\n",
              "\n",
              "/* Specification for estimator info (e.g. \"i\" and \"?\") */\n",
              "\n",
              "/* Common style for \"i\" and \"?\" */\n",
              "\n",
              ".sk-estimator-doc-link,\n",
              "a:link.sk-estimator-doc-link,\n",
              "a:visited.sk-estimator-doc-link {\n",
              "  float: right;\n",
              "  font-size: smaller;\n",
              "  line-height: 1em;\n",
              "  font-family: monospace;\n",
              "  background-color: var(--sklearn-color-background);\n",
              "  border-radius: 1em;\n",
              "  height: 1em;\n",
              "  width: 1em;\n",
              "  text-decoration: none !important;\n",
              "  margin-left: 0.5em;\n",
              "  text-align: center;\n",
              "  /* unfitted */\n",
              "  border: var(--sklearn-color-unfitted-level-1) 1pt solid;\n",
              "  color: var(--sklearn-color-unfitted-level-1);\n",
              "}\n",
              "\n",
              ".sk-estimator-doc-link.fitted,\n",
              "a:link.sk-estimator-doc-link.fitted,\n",
              "a:visited.sk-estimator-doc-link.fitted {\n",
              "  /* fitted */\n",
              "  border: var(--sklearn-color-fitted-level-1) 1pt solid;\n",
              "  color: var(--sklearn-color-fitted-level-1);\n",
              "}\n",
              "\n",
              "/* On hover */\n",
              "div.sk-estimator:hover .sk-estimator-doc-link:hover,\n",
              ".sk-estimator-doc-link:hover,\n",
              "div.sk-label-container:hover .sk-estimator-doc-link:hover,\n",
              ".sk-estimator-doc-link:hover {\n",
              "  /* unfitted */\n",
              "  background-color: var(--sklearn-color-unfitted-level-3);\n",
              "  color: var(--sklearn-color-background);\n",
              "  text-decoration: none;\n",
              "}\n",
              "\n",
              "div.sk-estimator.fitted:hover .sk-estimator-doc-link.fitted:hover,\n",
              ".sk-estimator-doc-link.fitted:hover,\n",
              "div.sk-label-container:hover .sk-estimator-doc-link.fitted:hover,\n",
              ".sk-estimator-doc-link.fitted:hover {\n",
              "  /* fitted */\n",
              "  background-color: var(--sklearn-color-fitted-level-3);\n",
              "  color: var(--sklearn-color-background);\n",
              "  text-decoration: none;\n",
              "}\n",
              "\n",
              "/* Span, style for the box shown on hovering the info icon */\n",
              ".sk-estimator-doc-link span {\n",
              "  display: none;\n",
              "  z-index: 9999;\n",
              "  position: relative;\n",
              "  font-weight: normal;\n",
              "  right: .2ex;\n",
              "  padding: .5ex;\n",
              "  margin: .5ex;\n",
              "  width: min-content;\n",
              "  min-width: 20ex;\n",
              "  max-width: 50ex;\n",
              "  color: var(--sklearn-color-text);\n",
              "  box-shadow: 2pt 2pt 4pt #999;\n",
              "  /* unfitted */\n",
              "  background: var(--sklearn-color-unfitted-level-0);\n",
              "  border: .5pt solid var(--sklearn-color-unfitted-level-3);\n",
              "}\n",
              "\n",
              ".sk-estimator-doc-link.fitted span {\n",
              "  /* fitted */\n",
              "  background: var(--sklearn-color-fitted-level-0);\n",
              "  border: var(--sklearn-color-fitted-level-3);\n",
              "}\n",
              "\n",
              ".sk-estimator-doc-link:hover span {\n",
              "  display: block;\n",
              "}\n",
              "\n",
              "/* \"?\"-specific style due to the `<a>` HTML tag */\n",
              "\n",
              "#sk-container-id-1 a.estimator_doc_link {\n",
              "  float: right;\n",
              "  font-size: 1rem;\n",
              "  line-height: 1em;\n",
              "  font-family: monospace;\n",
              "  background-color: var(--sklearn-color-background);\n",
              "  border-radius: 1rem;\n",
              "  height: 1rem;\n",
              "  width: 1rem;\n",
              "  text-decoration: none;\n",
              "  /* unfitted */\n",
              "  color: var(--sklearn-color-unfitted-level-1);\n",
              "  border: var(--sklearn-color-unfitted-level-1) 1pt solid;\n",
              "}\n",
              "\n",
              "#sk-container-id-1 a.estimator_doc_link.fitted {\n",
              "  /* fitted */\n",
              "  border: var(--sklearn-color-fitted-level-1) 1pt solid;\n",
              "  color: var(--sklearn-color-fitted-level-1);\n",
              "}\n",
              "\n",
              "/* On hover */\n",
              "#sk-container-id-1 a.estimator_doc_link:hover {\n",
              "  /* unfitted */\n",
              "  background-color: var(--sklearn-color-unfitted-level-3);\n",
              "  color: var(--sklearn-color-background);\n",
              "  text-decoration: none;\n",
              "}\n",
              "\n",
              "#sk-container-id-1 a.estimator_doc_link.fitted:hover {\n",
              "  /* fitted */\n",
              "  background-color: var(--sklearn-color-fitted-level-3);\n",
              "}\n",
              "</style><div id=\"sk-container-id-1\" class=\"sk-top-container\"><div class=\"sk-text-repr-fallback\"><pre>LGBMClassifier(colsample_bytree=0.9253539584169304,\n",
              "               learning_rate=0.06981033920507693, max_bin=63,\n",
              "               min_child_samples=4, n_estimators=21, n_jobs=-1, num_leaves=14,\n",
              "               reg_alpha=0.0013176806294550453, reg_lambda=10.23225524421718,\n",
              "               verbose=-1)</pre><b>In a Jupyter environment, please rerun this cell to show the HTML representation or trust the notebook. <br />On GitHub, the HTML representation is unable to render, please try loading this page with nbviewer.org.</b></div><div class=\"sk-container\" hidden><div class=\"sk-item\"><div class=\"sk-estimator fitted sk-toggleable\"><input class=\"sk-toggleable__control sk-hidden--visually\" id=\"sk-estimator-id-1\" type=\"checkbox\" checked><label for=\"sk-estimator-id-1\" class=\"sk-toggleable__label fitted sk-toggleable__label-arrow\"><div><div>LGBMClassifier</div></div><div><span class=\"sk-estimator-doc-link fitted\">i<span>Fitted</span></span></div></label><div class=\"sk-toggleable__content fitted\"><pre>LGBMClassifier(colsample_bytree=0.9253539584169304,\n",
              "               learning_rate=0.06981033920507693, max_bin=63,\n",
              "               min_child_samples=4, n_estimators=21, n_jobs=-1, num_leaves=14,\n",
              "               reg_alpha=0.0013176806294550453, reg_lambda=10.23225524421718,\n",
              "               verbose=-1)</pre></div> </div></div></div></div>"
            ]
          },
          "metadata": {},
          "execution_count": 23
        }
      ]
    },
    {
      "cell_type": "markdown",
      "source": [
        "- 튜닝된 하이퍼파라미터"
      ],
      "metadata": {
        "id": "CMKyFaRBM7Qf"
      }
    },
    {
      "cell_type": "code",
      "source": [
        "auto_ml.best_config"
      ],
      "metadata": {
        "id": "NQplsYettbNa",
        "colab": {
          "base_uri": "https://localhost:8080/"
        },
        "outputId": "11dc95fe-8785-48e0-eb91-a5750c791169"
      },
      "execution_count": null,
      "outputs": [
        {
          "output_type": "execute_result",
          "data": {
            "text/plain": [
              "{'n_estimators': 21,\n",
              " 'num_leaves': 14,\n",
              " 'min_child_samples': 4,\n",
              " 'learning_rate': 0.06981033920507693,\n",
              " 'log_max_bin': 6,\n",
              " 'colsample_bytree': 0.9253539584169304,\n",
              " 'reg_alpha': 0.0013176806294550453,\n",
              " 'reg_lambda': 10.23225524421718}"
            ]
          },
          "metadata": {},
          "execution_count": 24
        }
      ]
    },
    {
      "cell_type": "markdown",
      "source": [
        "- 선택된 모델 교차검증 best 점수"
      ],
      "metadata": {
        "id": "1ej4Ws5cNBtb"
      }
    },
    {
      "cell_type": "code",
      "source": [
        "auto_ml.best_loss"
      ],
      "metadata": {
        "colab": {
          "base_uri": "https://localhost:8080/"
        },
        "id": "3ia83kKv8Hj1",
        "outputId": "4780a053-92a2-4291-f0d8-80fad4151414"
      },
      "execution_count": null,
      "outputs": [
        {
          "output_type": "execute_result",
          "data": {
            "text/plain": [
              "0.08851676292179725"
            ]
          },
          "metadata": {},
          "execution_count": 25
        }
      ]
    },
    {
      "cell_type": "code",
      "source": [
        "1 - auto_ml.best_loss"
      ],
      "metadata": {
        "id": "XI3LN5gmtbMf",
        "colab": {
          "base_uri": "https://localhost:8080/"
        },
        "outputId": "a24c4ed2-02e3-4040-ac92-352d166a767f"
      },
      "execution_count": null,
      "outputs": [
        {
          "output_type": "execute_result",
          "data": {
            "text/plain": [
              "0.9114832370782028"
            ]
          },
          "metadata": {},
          "execution_count": 26
        }
      ]
    },
    {
      "cell_type": "markdown",
      "source": [
        "- 테스트 데이터 예측및 평가"
      ],
      "metadata": {
        "id": "XjF2lb26QMSJ"
      }
    },
    {
      "cell_type": "code",
      "source": [
        "from sklearn.metrics import roc_auc_score\n",
        "y_test = test_target[\"survived\"] # 테스트셋 y값\n",
        "pred = auto_ml.predict_proba(test_ft)[:,1] # 예측\n",
        "roc_auc_score(y_test,pred) # AUC 평가"
      ],
      "metadata": {
        "id": "XhTLlTY1wnsg",
        "colab": {
          "base_uri": "https://localhost:8080/"
        },
        "outputId": "dd5a0d1c-3b38-4ddd-ad05-7aa5c6261ad8"
      },
      "execution_count": null,
      "outputs": [
        {
          "output_type": "execute_result",
          "data": {
            "text/plain": [
              "0.8886238279095422"
            ]
          },
          "metadata": {},
          "execution_count": 27
        }
      ]
    },
    {
      "cell_type": "markdown",
      "source": [
        "- ensemble 해보기"
      ],
      "metadata": {
        "id": "npjCx7ySqf46"
      }
    },
    {
      "cell_type": "code",
      "source": [
        "auto_ml = AutoML()\n",
        "params = {\n",
        "    \"metric\": \"roc_auc\",\n",
        "    \"task\": \"classification\",\n",
        "    \"time_budget\": 60, # 초단위\n",
        "    \"seed\": SEED,\n",
        "    \"ensemble\": True,\n",
        "    \"early_stop\":True\n",
        "}\n",
        "auto_ml.fit(train_ft, target, **params)"
      ],
      "metadata": {
        "id": "073iUU1cta_w",
        "colab": {
          "base_uri": "https://localhost:8080/"
        },
        "outputId": "27529861-3f5b-41bb-a60e-41063099f712"
      },
      "execution_count": null,
      "outputs": [
        {
          "output_type": "stream",
          "name": "stdout",
          "text": [
            "[flaml.automl.logger: 02-26 09:34:45] {1728} INFO - task = classification\n",
            "[flaml.automl.logger: 02-26 09:34:45] {1739} INFO - Evaluation method: cv\n",
            "[flaml.automl.logger: 02-26 09:34:45] {1838} INFO - Minimizing error metric: 1-roc_auc\n",
            "[flaml.automl.logger: 02-26 09:34:45] {1955} INFO - List of ML learners in AutoML Run: ['lgbm', 'rf', 'xgboost', 'extra_tree', 'xgb_limitdepth', 'sgd', 'lrl1']\n",
            "[flaml.automl.logger: 02-26 09:34:45] {2258} INFO - iteration 0, current learner lgbm\n",
            "[flaml.automl.logger: 02-26 09:34:45] {2393} INFO - Estimated sufficient time budget=1670s. Estimated necessary time budget=39s.\n",
            "[flaml.automl.logger: 02-26 09:34:45] {2442} INFO -  at 0.2s,\testimator lgbm's best error=0.1018,\tbest estimator lgbm's best error=0.1018\n",
            "[flaml.automl.logger: 02-26 09:34:46] {2258} INFO - iteration 1, current learner lgbm\n",
            "[flaml.automl.logger: 02-26 09:34:46] {2442} INFO -  at 0.6s,\testimator lgbm's best error=0.1018,\tbest estimator lgbm's best error=0.1018\n",
            "[flaml.automl.logger: 02-26 09:34:46] {2258} INFO - iteration 2, current learner sgd\n"
          ]
        },
        {
          "output_type": "stream",
          "name": "stderr",
          "text": [
            "INFO:flaml.tune.searcher.blendsearch:No low-cost partial config given to the search algorithm. For cost-frugal search, consider providing low-cost values for cost-related hps via 'low_cost_partial_config'. More info can be found at https://microsoft.github.io/FLAML/docs/FAQ#about-low_cost_partial_config-in-tune\n"
          ]
        },
        {
          "output_type": "stream",
          "name": "stdout",
          "text": [
            "[flaml.automl.logger: 02-26 09:34:46] {2442} INFO -  at 1.1s,\testimator sgd's best error=0.1113,\tbest estimator lgbm's best error=0.1018\n",
            "[flaml.automl.logger: 02-26 09:34:46] {2258} INFO - iteration 3, current learner xgboost\n",
            "[flaml.automl.logger: 02-26 09:34:47] {2442} INFO -  at 1.6s,\testimator xgboost's best error=0.0987,\tbest estimator xgboost's best error=0.0987\n",
            "[flaml.automl.logger: 02-26 09:34:47] {2258} INFO - iteration 4, current learner extra_tree\n",
            "[flaml.automl.logger: 02-26 09:34:47] {2442} INFO -  at 1.8s,\testimator extra_tree's best error=0.1152,\tbest estimator xgboost's best error=0.0987\n",
            "[flaml.automl.logger: 02-26 09:34:47] {2258} INFO - iteration 5, current learner extra_tree\n",
            "[flaml.automl.logger: 02-26 09:34:47] {2442} INFO -  at 2.1s,\testimator extra_tree's best error=0.1152,\tbest estimator xgboost's best error=0.0987\n",
            "[flaml.automl.logger: 02-26 09:34:47] {2258} INFO - iteration 6, current learner lgbm\n",
            "[flaml.automl.logger: 02-26 09:34:48] {2442} INFO -  at 2.3s,\testimator lgbm's best error=0.1018,\tbest estimator xgboost's best error=0.0987\n",
            "[flaml.automl.logger: 02-26 09:34:48] {2258} INFO - iteration 7, current learner xgboost\n",
            "[flaml.automl.logger: 02-26 09:34:48] {2442} INFO -  at 2.4s,\testimator xgboost's best error=0.0987,\tbest estimator xgboost's best error=0.0987\n",
            "[flaml.automl.logger: 02-26 09:34:48] {2258} INFO - iteration 8, current learner lgbm\n",
            "[flaml.automl.logger: 02-26 09:34:48] {2442} INFO -  at 2.5s,\testimator lgbm's best error=0.0989,\tbest estimator xgboost's best error=0.0987\n",
            "[flaml.automl.logger: 02-26 09:34:48] {2258} INFO - iteration 9, current learner lgbm\n",
            "[flaml.automl.logger: 02-26 09:34:48] {2442} INFO -  at 2.5s,\testimator lgbm's best error=0.0963,\tbest estimator lgbm's best error=0.0963\n",
            "[flaml.automl.logger: 02-26 09:34:48] {2258} INFO - iteration 10, current learner lgbm\n",
            "[flaml.automl.logger: 02-26 09:34:48] {2442} INFO -  at 2.6s,\testimator lgbm's best error=0.0963,\tbest estimator lgbm's best error=0.0963\n",
            "[flaml.automl.logger: 02-26 09:34:48] {2258} INFO - iteration 11, current learner lgbm\n",
            "[flaml.automl.logger: 02-26 09:34:48] {2442} INFO -  at 2.7s,\testimator lgbm's best error=0.0963,\tbest estimator lgbm's best error=0.0963\n",
            "[flaml.automl.logger: 02-26 09:34:48] {2258} INFO - iteration 12, current learner lgbm\n",
            "[flaml.automl.logger: 02-26 09:34:48] {2442} INFO -  at 2.8s,\testimator lgbm's best error=0.0963,\tbest estimator lgbm's best error=0.0963\n",
            "[flaml.automl.logger: 02-26 09:34:48] {2258} INFO - iteration 13, current learner xgboost\n",
            "[flaml.automl.logger: 02-26 09:34:48] {2442} INFO -  at 2.9s,\testimator xgboost's best error=0.0972,\tbest estimator lgbm's best error=0.0963\n",
            "[flaml.automl.logger: 02-26 09:34:48] {2258} INFO - iteration 14, current learner xgboost\n",
            "[flaml.automl.logger: 02-26 09:34:48] {2442} INFO -  at 3.1s,\testimator xgboost's best error=0.0972,\tbest estimator lgbm's best error=0.0963\n",
            "[flaml.automl.logger: 02-26 09:34:48] {2258} INFO - iteration 15, current learner extra_tree\n",
            "[flaml.automl.logger: 02-26 09:34:49] {2442} INFO -  at 3.3s,\testimator extra_tree's best error=0.1152,\tbest estimator lgbm's best error=0.0963\n",
            "[flaml.automl.logger: 02-26 09:34:49] {2258} INFO - iteration 16, current learner lgbm\n",
            "[flaml.automl.logger: 02-26 09:34:49] {2442} INFO -  at 3.4s,\testimator lgbm's best error=0.0963,\tbest estimator lgbm's best error=0.0963\n",
            "[flaml.automl.logger: 02-26 09:34:49] {2258} INFO - iteration 17, current learner sgd\n",
            "[flaml.automl.logger: 02-26 09:34:49] {2442} INFO -  at 3.5s,\testimator sgd's best error=0.1113,\tbest estimator lgbm's best error=0.0963\n",
            "[flaml.automl.logger: 02-26 09:34:49] {2258} INFO - iteration 18, current learner lgbm\n",
            "[flaml.automl.logger: 02-26 09:34:49] {2442} INFO -  at 3.6s,\testimator lgbm's best error=0.0952,\tbest estimator lgbm's best error=0.0952\n",
            "[flaml.automl.logger: 02-26 09:34:49] {2258} INFO - iteration 19, current learner sgd\n",
            "[flaml.automl.logger: 02-26 09:34:49] {2442} INFO -  at 3.7s,\testimator sgd's best error=0.1113,\tbest estimator lgbm's best error=0.0952\n",
            "[flaml.automl.logger: 02-26 09:34:49] {2258} INFO - iteration 20, current learner xgboost\n",
            "[flaml.automl.logger: 02-26 09:34:49] {2442} INFO -  at 3.8s,\testimator xgboost's best error=0.0966,\tbest estimator lgbm's best error=0.0952\n",
            "[flaml.automl.logger: 02-26 09:34:49] {2258} INFO - iteration 21, current learner sgd\n",
            "[flaml.automl.logger: 02-26 09:34:49] {2442} INFO -  at 4.0s,\testimator sgd's best error=0.1113,\tbest estimator lgbm's best error=0.0952\n",
            "[flaml.automl.logger: 02-26 09:34:49] {2258} INFO - iteration 22, current learner lgbm\n",
            "[flaml.automl.logger: 02-26 09:34:49] {2442} INFO -  at 4.1s,\testimator lgbm's best error=0.0952,\tbest estimator lgbm's best error=0.0952\n",
            "[flaml.automl.logger: 02-26 09:34:49] {2258} INFO - iteration 23, current learner lgbm\n",
            "[flaml.automl.logger: 02-26 09:34:49] {2442} INFO -  at 4.1s,\testimator lgbm's best error=0.0952,\tbest estimator lgbm's best error=0.0952\n",
            "[flaml.automl.logger: 02-26 09:34:49] {2258} INFO - iteration 24, current learner sgd\n",
            "[flaml.automl.logger: 02-26 09:34:50] {2442} INFO -  at 4.4s,\testimator sgd's best error=0.1113,\tbest estimator lgbm's best error=0.0952\n",
            "[flaml.automl.logger: 02-26 09:34:50] {2258} INFO - iteration 25, current learner sgd\n",
            "[flaml.automl.logger: 02-26 09:34:50] {2442} INFO -  at 4.6s,\testimator sgd's best error=0.1110,\tbest estimator lgbm's best error=0.0952\n",
            "[flaml.automl.logger: 02-26 09:34:50] {2258} INFO - iteration 26, current learner xgboost\n",
            "[flaml.automl.logger: 02-26 09:34:50] {2442} INFO -  at 4.7s,\testimator xgboost's best error=0.0965,\tbest estimator lgbm's best error=0.0952\n",
            "[flaml.automl.logger: 02-26 09:34:50] {2258} INFO - iteration 27, current learner xgboost\n",
            "[flaml.automl.logger: 02-26 09:34:50] {2442} INFO -  at 4.9s,\testimator xgboost's best error=0.0965,\tbest estimator lgbm's best error=0.0952\n",
            "[flaml.automl.logger: 02-26 09:34:50] {2258} INFO - iteration 28, current learner extra_tree\n",
            "[flaml.automl.logger: 02-26 09:34:50] {2442} INFO -  at 5.1s,\testimator extra_tree's best error=0.1009,\tbest estimator lgbm's best error=0.0952\n",
            "[flaml.automl.logger: 02-26 09:34:50] {2258} INFO - iteration 29, current learner sgd\n",
            "[flaml.automl.logger: 02-26 09:34:51] {2442} INFO -  at 5.3s,\testimator sgd's best error=0.1110,\tbest estimator lgbm's best error=0.0952\n",
            "[flaml.automl.logger: 02-26 09:34:51] {2258} INFO - iteration 30, current learner lgbm\n",
            "[flaml.automl.logger: 02-26 09:34:51] {2442} INFO -  at 5.4s,\testimator lgbm's best error=0.0952,\tbest estimator lgbm's best error=0.0952\n",
            "[flaml.automl.logger: 02-26 09:34:51] {2258} INFO - iteration 31, current learner lgbm\n",
            "[flaml.automl.logger: 02-26 09:34:51] {2442} INFO -  at 5.5s,\testimator lgbm's best error=0.0952,\tbest estimator lgbm's best error=0.0952\n",
            "[flaml.automl.logger: 02-26 09:34:51] {2258} INFO - iteration 32, current learner lgbm\n",
            "[flaml.automl.logger: 02-26 09:34:51] {2442} INFO -  at 5.5s,\testimator lgbm's best error=0.0952,\tbest estimator lgbm's best error=0.0952\n",
            "[flaml.automl.logger: 02-26 09:34:51] {2258} INFO - iteration 33, current learner extra_tree\n",
            "[flaml.automl.logger: 02-26 09:34:51] {2442} INFO -  at 5.8s,\testimator extra_tree's best error=0.1009,\tbest estimator lgbm's best error=0.0952\n",
            "[flaml.automl.logger: 02-26 09:34:51] {2258} INFO - iteration 34, current learner lgbm\n",
            "[flaml.automl.logger: 02-26 09:34:51] {2442} INFO -  at 5.8s,\testimator lgbm's best error=0.0909,\tbest estimator lgbm's best error=0.0909\n",
            "[flaml.automl.logger: 02-26 09:34:51] {2258} INFO - iteration 35, current learner xgboost\n",
            "[flaml.automl.logger: 02-26 09:34:51] {2442} INFO -  at 6.0s,\testimator xgboost's best error=0.0965,\tbest estimator lgbm's best error=0.0909\n",
            "[flaml.automl.logger: 02-26 09:34:51] {2258} INFO - iteration 36, current learner sgd\n",
            "[flaml.automl.logger: 02-26 09:34:51] {2442} INFO -  at 6.1s,\testimator sgd's best error=0.1110,\tbest estimator lgbm's best error=0.0909\n",
            "[flaml.automl.logger: 02-26 09:34:51] {2258} INFO - iteration 37, current learner xgboost\n",
            "[flaml.automl.logger: 02-26 09:34:51] {2442} INFO -  at 6.2s,\testimator xgboost's best error=0.0965,\tbest estimator lgbm's best error=0.0909\n",
            "[flaml.automl.logger: 02-26 09:34:51] {2258} INFO - iteration 38, current learner rf\n",
            "[flaml.automl.logger: 02-26 09:34:52] {2442} INFO -  at 6.4s,\testimator rf's best error=0.1006,\tbest estimator lgbm's best error=0.0909\n",
            "[flaml.automl.logger: 02-26 09:34:52] {2258} INFO - iteration 39, current learner xgboost\n",
            "[flaml.automl.logger: 02-26 09:34:52] {2442} INFO -  at 6.5s,\testimator xgboost's best error=0.0965,\tbest estimator lgbm's best error=0.0909\n",
            "[flaml.automl.logger: 02-26 09:34:52] {2258} INFO - iteration 40, current learner rf\n",
            "[flaml.automl.logger: 02-26 09:34:52] {2442} INFO -  at 6.8s,\testimator rf's best error=0.1006,\tbest estimator lgbm's best error=0.0909\n",
            "[flaml.automl.logger: 02-26 09:34:52] {2258} INFO - iteration 41, current learner xgboost\n",
            "[flaml.automl.logger: 02-26 09:34:52] {2442} INFO -  at 6.9s,\testimator xgboost's best error=0.0918,\tbest estimator lgbm's best error=0.0909\n",
            "[flaml.automl.logger: 02-26 09:34:52] {2258} INFO - iteration 42, current learner extra_tree\n",
            "[flaml.automl.logger: 02-26 09:34:53] {2442} INFO -  at 7.2s,\testimator extra_tree's best error=0.1009,\tbest estimator lgbm's best error=0.0909\n",
            "[flaml.automl.logger: 02-26 09:34:53] {2258} INFO - iteration 43, current learner lgbm\n",
            "[flaml.automl.logger: 02-26 09:34:53] {2442} INFO -  at 7.3s,\testimator lgbm's best error=0.0909,\tbest estimator lgbm's best error=0.0909\n",
            "[flaml.automl.logger: 02-26 09:34:53] {2258} INFO - iteration 44, current learner extra_tree\n",
            "[flaml.automl.logger: 02-26 09:34:53] {2442} INFO -  at 7.5s,\testimator extra_tree's best error=0.1009,\tbest estimator lgbm's best error=0.0909\n",
            "[flaml.automl.logger: 02-26 09:34:53] {2258} INFO - iteration 45, current learner sgd\n",
            "[flaml.automl.logger: 02-26 09:34:53] {2442} INFO -  at 7.6s,\testimator sgd's best error=0.1082,\tbest estimator lgbm's best error=0.0909\n",
            "[flaml.automl.logger: 02-26 09:34:53] {2258} INFO - iteration 46, current learner sgd\n",
            "[flaml.automl.logger: 02-26 09:34:53] {2442} INFO -  at 7.6s,\testimator sgd's best error=0.1082,\tbest estimator lgbm's best error=0.0909\n",
            "[flaml.automl.logger: 02-26 09:34:53] {2258} INFO - iteration 47, current learner rf\n",
            "[flaml.automl.logger: 02-26 09:34:53] {2442} INFO -  at 7.9s,\testimator rf's best error=0.1006,\tbest estimator lgbm's best error=0.0909\n",
            "[flaml.automl.logger: 02-26 09:34:53] {2258} INFO - iteration 48, current learner sgd\n",
            "[flaml.automl.logger: 02-26 09:34:53] {2442} INFO -  at 7.9s,\testimator sgd's best error=0.1076,\tbest estimator lgbm's best error=0.0909\n",
            "[flaml.automl.logger: 02-26 09:34:53] {2258} INFO - iteration 49, current learner lgbm\n",
            "[flaml.automl.logger: 02-26 09:34:53] {2442} INFO -  at 8.0s,\testimator lgbm's best error=0.0909,\tbest estimator lgbm's best error=0.0909\n",
            "[flaml.automl.logger: 02-26 09:34:53] {2258} INFO - iteration 50, current learner extra_tree\n",
            "[flaml.automl.logger: 02-26 09:34:53] {2442} INFO -  at 8.2s,\testimator extra_tree's best error=0.1000,\tbest estimator lgbm's best error=0.0909\n",
            "[flaml.automl.logger: 02-26 09:34:53] {2258} INFO - iteration 51, current learner sgd\n",
            "[flaml.automl.logger: 02-26 09:34:54] {2442} INFO -  at 8.3s,\testimator sgd's best error=0.1076,\tbest estimator lgbm's best error=0.0909\n",
            "[flaml.automl.logger: 02-26 09:34:54] {2258} INFO - iteration 52, current learner rf\n",
            "[flaml.automl.logger: 02-26 09:34:54] {2442} INFO -  at 8.6s,\testimator rf's best error=0.0955,\tbest estimator lgbm's best error=0.0909\n",
            "[flaml.automl.logger: 02-26 09:34:54] {2258} INFO - iteration 53, current learner xgboost\n",
            "[flaml.automl.logger: 02-26 09:34:54] {2442} INFO -  at 8.7s,\testimator xgboost's best error=0.0918,\tbest estimator lgbm's best error=0.0909\n",
            "[flaml.automl.logger: 02-26 09:34:54] {2258} INFO - iteration 54, current learner lgbm\n",
            "[flaml.automl.logger: 02-26 09:34:54] {2442} INFO -  at 8.9s,\testimator lgbm's best error=0.0909,\tbest estimator lgbm's best error=0.0909\n",
            "[flaml.automl.logger: 02-26 09:34:54] {2258} INFO - iteration 55, current learner lgbm\n",
            "[flaml.automl.logger: 02-26 09:34:54] {2442} INFO -  at 9.0s,\testimator lgbm's best error=0.0909,\tbest estimator lgbm's best error=0.0909\n",
            "[flaml.automl.logger: 02-26 09:34:54] {2258} INFO - iteration 56, current learner sgd\n",
            "[flaml.automl.logger: 02-26 09:34:54] {2442} INFO -  at 9.1s,\testimator sgd's best error=0.1076,\tbest estimator lgbm's best error=0.0909\n",
            "[flaml.automl.logger: 02-26 09:34:54] {2258} INFO - iteration 57, current learner rf\n",
            "[flaml.automl.logger: 02-26 09:34:55] {2442} INFO -  at 9.2s,\testimator rf's best error=0.0955,\tbest estimator lgbm's best error=0.0909\n",
            "[flaml.automl.logger: 02-26 09:34:55] {2258} INFO - iteration 58, current learner rf\n",
            "[flaml.automl.logger: 02-26 09:34:55] {2442} INFO -  at 9.6s,\testimator rf's best error=0.0955,\tbest estimator lgbm's best error=0.0909\n",
            "[flaml.automl.logger: 02-26 09:34:55] {2258} INFO - iteration 59, current learner sgd\n",
            "[flaml.automl.logger: 02-26 09:34:55] {2442} INFO -  at 9.7s,\testimator sgd's best error=0.1076,\tbest estimator lgbm's best error=0.0909\n",
            "[flaml.automl.logger: 02-26 09:34:55] {2258} INFO - iteration 60, current learner lgbm\n",
            "[flaml.automl.logger: 02-26 09:34:55] {2442} INFO -  at 9.7s,\testimator lgbm's best error=0.0909,\tbest estimator lgbm's best error=0.0909\n",
            "[flaml.automl.logger: 02-26 09:34:55] {2258} INFO - iteration 61, current learner sgd\n",
            "[flaml.automl.logger: 02-26 09:34:55] {2442} INFO -  at 9.8s,\testimator sgd's best error=0.1076,\tbest estimator lgbm's best error=0.0909\n",
            "[flaml.automl.logger: 02-26 09:34:55] {2258} INFO - iteration 62, current learner lgbm\n",
            "[flaml.automl.logger: 02-26 09:34:55] {2442} INFO -  at 9.9s,\testimator lgbm's best error=0.0909,\tbest estimator lgbm's best error=0.0909\n",
            "[flaml.automl.logger: 02-26 09:34:55] {2258} INFO - iteration 63, current learner extra_tree\n",
            "[flaml.automl.logger: 02-26 09:34:55] {2442} INFO -  at 10.2s,\testimator extra_tree's best error=0.1000,\tbest estimator lgbm's best error=0.0909\n",
            "[flaml.automl.logger: 02-26 09:34:55] {2258} INFO - iteration 64, current learner sgd\n",
            "[flaml.automl.logger: 02-26 09:34:56] {2442} INFO -  at 10.3s,\testimator sgd's best error=0.1076,\tbest estimator lgbm's best error=0.0909\n",
            "[flaml.automl.logger: 02-26 09:34:56] {2258} INFO - iteration 65, current learner lgbm\n",
            "[flaml.automl.logger: 02-26 09:34:56] {2442} INFO -  at 10.3s,\testimator lgbm's best error=0.0909,\tbest estimator lgbm's best error=0.0909\n",
            "[flaml.automl.logger: 02-26 09:34:56] {2258} INFO - iteration 66, current learner xgboost\n",
            "[flaml.automl.logger: 02-26 09:34:56] {2442} INFO -  at 10.5s,\testimator xgboost's best error=0.0918,\tbest estimator lgbm's best error=0.0909\n",
            "[flaml.automl.logger: 02-26 09:34:56] {2258} INFO - iteration 67, current learner sgd\n",
            "[flaml.automl.logger: 02-26 09:34:56] {2442} INFO -  at 10.5s,\testimator sgd's best error=0.1076,\tbest estimator lgbm's best error=0.0909\n",
            "[flaml.automl.logger: 02-26 09:34:56] {2258} INFO - iteration 68, current learner xgboost\n",
            "[flaml.automl.logger: 02-26 09:34:56] {2442} INFO -  at 10.7s,\testimator xgboost's best error=0.0918,\tbest estimator lgbm's best error=0.0909\n",
            "[flaml.automl.logger: 02-26 09:34:56] {2258} INFO - iteration 69, current learner lgbm\n",
            "[flaml.automl.logger: 02-26 09:34:56] {2442} INFO -  at 10.7s,\testimator lgbm's best error=0.0909,\tbest estimator lgbm's best error=0.0909\n",
            "[flaml.automl.logger: 02-26 09:34:56] {2258} INFO - iteration 70, current learner xgboost\n",
            "[flaml.automl.logger: 02-26 09:34:56] {2442} INFO -  at 10.9s,\testimator xgboost's best error=0.0918,\tbest estimator lgbm's best error=0.0909\n",
            "[flaml.automl.logger: 02-26 09:34:56] {2258} INFO - iteration 71, current learner extra_tree\n",
            "[flaml.automl.logger: 02-26 09:34:56] {2442} INFO -  at 11.2s,\testimator extra_tree's best error=0.1000,\tbest estimator lgbm's best error=0.0909\n",
            "[flaml.automl.logger: 02-26 09:34:56] {2258} INFO - iteration 72, current learner xgboost\n",
            "[flaml.automl.logger: 02-26 09:34:57] {2442} INFO -  at 11.3s,\testimator xgboost's best error=0.0918,\tbest estimator lgbm's best error=0.0909\n",
            "[flaml.automl.logger: 02-26 09:34:57] {2258} INFO - iteration 73, current learner sgd\n",
            "[flaml.automl.logger: 02-26 09:34:57] {2442} INFO -  at 11.5s,\testimator sgd's best error=0.1076,\tbest estimator lgbm's best error=0.0909\n",
            "[flaml.automl.logger: 02-26 09:34:57] {2258} INFO - iteration 74, current learner xgboost\n",
            "[flaml.automl.logger: 02-26 09:34:57] {2442} INFO -  at 11.6s,\testimator xgboost's best error=0.0918,\tbest estimator lgbm's best error=0.0909\n",
            "[flaml.automl.logger: 02-26 09:34:57] {2258} INFO - iteration 75, current learner sgd\n",
            "[flaml.automl.logger: 02-26 09:34:57] {2442} INFO -  at 11.7s,\testimator sgd's best error=0.1076,\tbest estimator lgbm's best error=0.0909\n",
            "[flaml.automl.logger: 02-26 09:34:57] {2258} INFO - iteration 76, current learner lgbm\n",
            "[flaml.automl.logger: 02-26 09:34:57] {2442} INFO -  at 11.8s,\testimator lgbm's best error=0.0909,\tbest estimator lgbm's best error=0.0909\n",
            "[flaml.automl.logger: 02-26 09:34:57] {2258} INFO - iteration 77, current learner lgbm\n",
            "[flaml.automl.logger: 02-26 09:34:57] {2442} INFO -  at 11.9s,\testimator lgbm's best error=0.0909,\tbest estimator lgbm's best error=0.0909\n",
            "[flaml.automl.logger: 02-26 09:34:57] {2258} INFO - iteration 78, current learner sgd\n",
            "[flaml.automl.logger: 02-26 09:34:57] {2442} INFO -  at 12.0s,\testimator sgd's best error=0.1076,\tbest estimator lgbm's best error=0.0909\n",
            "[flaml.automl.logger: 02-26 09:34:57] {2258} INFO - iteration 79, current learner rf\n",
            "[flaml.automl.logger: 02-26 09:34:57] {2442} INFO -  at 12.2s,\testimator rf's best error=0.0955,\tbest estimator lgbm's best error=0.0909\n",
            "[flaml.automl.logger: 02-26 09:34:57] {2258} INFO - iteration 80, current learner lgbm\n",
            "[flaml.automl.logger: 02-26 09:34:58] {2442} INFO -  at 12.3s,\testimator lgbm's best error=0.0909,\tbest estimator lgbm's best error=0.0909\n",
            "[flaml.automl.logger: 02-26 09:34:58] {2258} INFO - iteration 81, current learner sgd\n",
            "[flaml.automl.logger: 02-26 09:34:58] {2442} INFO -  at 12.5s,\testimator sgd's best error=0.1076,\tbest estimator lgbm's best error=0.0909\n",
            "[flaml.automl.logger: 02-26 09:34:58] {2258} INFO - iteration 82, current learner rf\n",
            "[flaml.automl.logger: 02-26 09:34:58] {2442} INFO -  at 12.7s,\testimator rf's best error=0.0955,\tbest estimator lgbm's best error=0.0909\n",
            "[flaml.automl.logger: 02-26 09:34:58] {2258} INFO - iteration 83, current learner extra_tree\n",
            "[flaml.automl.logger: 02-26 09:34:58] {2442} INFO -  at 13.0s,\testimator extra_tree's best error=0.1000,\tbest estimator lgbm's best error=0.0909\n",
            "[flaml.automl.logger: 02-26 09:34:58] {2258} INFO - iteration 84, current learner extra_tree\n",
            "[flaml.automl.logger: 02-26 09:34:58] {2442} INFO -  at 13.2s,\testimator extra_tree's best error=0.1000,\tbest estimator lgbm's best error=0.0909\n",
            "[flaml.automl.logger: 02-26 09:34:58] {2258} INFO - iteration 85, current learner sgd\n",
            "[flaml.automl.logger: 02-26 09:34:59] {2442} INFO -  at 13.4s,\testimator sgd's best error=0.1076,\tbest estimator lgbm's best error=0.0909\n",
            "[flaml.automl.logger: 02-26 09:34:59] {2258} INFO - iteration 86, current learner extra_tree\n",
            "[flaml.automl.logger: 02-26 09:34:59] {2442} INFO -  at 13.7s,\testimator extra_tree's best error=0.1000,\tbest estimator lgbm's best error=0.0909\n",
            "[flaml.automl.logger: 02-26 09:34:59] {2258} INFO - iteration 87, current learner extra_tree\n",
            "[flaml.automl.logger: 02-26 09:34:59] {2442} INFO -  at 13.9s,\testimator extra_tree's best error=0.1000,\tbest estimator lgbm's best error=0.0909\n",
            "[flaml.automl.logger: 02-26 09:34:59] {2258} INFO - iteration 88, current learner rf\n",
            "[flaml.automl.logger: 02-26 09:35:00] {2442} INFO -  at 14.4s,\testimator rf's best error=0.0955,\tbest estimator lgbm's best error=0.0909\n",
            "[flaml.automl.logger: 02-26 09:35:00] {2258} INFO - iteration 89, current learner rf\n",
            "[flaml.automl.logger: 02-26 09:35:00] {2442} INFO -  at 14.8s,\testimator rf's best error=0.0955,\tbest estimator lgbm's best error=0.0909\n",
            "[flaml.automl.logger: 02-26 09:35:00] {2258} INFO - iteration 90, current learner sgd\n",
            "[flaml.automl.logger: 02-26 09:35:00] {2442} INFO -  at 14.9s,\testimator sgd's best error=0.1076,\tbest estimator lgbm's best error=0.0909\n",
            "[flaml.automl.logger: 02-26 09:35:00] {2258} INFO - iteration 91, current learner xgboost\n",
            "[flaml.automl.logger: 02-26 09:35:01] {2442} INFO -  at 15.6s,\testimator xgboost's best error=0.0918,\tbest estimator lgbm's best error=0.0909\n",
            "[flaml.automl.logger: 02-26 09:35:01] {2258} INFO - iteration 92, current learner sgd\n",
            "[flaml.automl.logger: 02-26 09:35:01] {2442} INFO -  at 15.7s,\testimator sgd's best error=0.1075,\tbest estimator lgbm's best error=0.0909\n",
            "[flaml.automl.logger: 02-26 09:35:01] {2258} INFO - iteration 93, current learner extra_tree\n",
            "[flaml.automl.logger: 02-26 09:35:01] {2442} INFO -  at 16.0s,\testimator extra_tree's best error=0.1000,\tbest estimator lgbm's best error=0.0909\n",
            "[flaml.automl.logger: 02-26 09:35:01] {2258} INFO - iteration 94, current learner xgboost\n",
            "[flaml.automl.logger: 02-26 09:35:01] {2442} INFO -  at 16.1s,\testimator xgboost's best error=0.0918,\tbest estimator lgbm's best error=0.0909\n",
            "[flaml.automl.logger: 02-26 09:35:01] {2258} INFO - iteration 95, current learner lgbm\n",
            "[flaml.automl.logger: 02-26 09:35:01] {2442} INFO -  at 16.2s,\testimator lgbm's best error=0.0896,\tbest estimator lgbm's best error=0.0896\n",
            "[flaml.automl.logger: 02-26 09:35:01] {2258} INFO - iteration 96, current learner sgd\n",
            "[flaml.automl.logger: 02-26 09:35:02] {2442} INFO -  at 16.2s,\testimator sgd's best error=0.1075,\tbest estimator lgbm's best error=0.0896\n",
            "[flaml.automl.logger: 02-26 09:35:02] {2258} INFO - iteration 97, current learner xgboost\n",
            "[flaml.automl.logger: 02-26 09:35:02] {2442} INFO -  at 16.4s,\testimator xgboost's best error=0.0918,\tbest estimator lgbm's best error=0.0896\n",
            "[flaml.automl.logger: 02-26 09:35:02] {2258} INFO - iteration 98, current learner xgboost\n",
            "[flaml.automl.logger: 02-26 09:35:02] {2442} INFO -  at 16.5s,\testimator xgboost's best error=0.0918,\tbest estimator lgbm's best error=0.0896\n",
            "[flaml.automl.logger: 02-26 09:35:02] {2258} INFO - iteration 99, current learner rf\n",
            "[flaml.automl.logger: 02-26 09:35:02] {2442} INFO -  at 16.7s,\testimator rf's best error=0.0955,\tbest estimator lgbm's best error=0.0896\n",
            "[flaml.automl.logger: 02-26 09:35:02] {2258} INFO - iteration 100, current learner lgbm\n",
            "[flaml.automl.logger: 02-26 09:35:02] {2442} INFO -  at 16.9s,\testimator lgbm's best error=0.0896,\tbest estimator lgbm's best error=0.0896\n",
            "[flaml.automl.logger: 02-26 09:35:02] {2258} INFO - iteration 101, current learner sgd\n",
            "[flaml.automl.logger: 02-26 09:35:02] {2442} INFO -  at 17.0s,\testimator sgd's best error=0.1075,\tbest estimator lgbm's best error=0.0896\n",
            "[flaml.automl.logger: 02-26 09:35:02] {2258} INFO - iteration 102, current learner xgboost\n",
            "[flaml.automl.logger: 02-26 09:35:02] {2442} INFO -  at 17.1s,\testimator xgboost's best error=0.0918,\tbest estimator lgbm's best error=0.0896\n",
            "[flaml.automl.logger: 02-26 09:35:02] {2258} INFO - iteration 103, current learner lgbm\n",
            "[flaml.automl.logger: 02-26 09:35:02] {2442} INFO -  at 17.2s,\testimator lgbm's best error=0.0896,\tbest estimator lgbm's best error=0.0896\n",
            "[flaml.automl.logger: 02-26 09:35:02] {2258} INFO - iteration 104, current learner extra_tree\n",
            "[flaml.automl.logger: 02-26 09:35:03] {2442} INFO -  at 17.5s,\testimator extra_tree's best error=0.1000,\tbest estimator lgbm's best error=0.0896\n",
            "[flaml.automl.logger: 02-26 09:35:03] {2258} INFO - iteration 105, current learner rf\n",
            "[flaml.automl.logger: 02-26 09:35:03] {2442} INFO -  at 17.8s,\testimator rf's best error=0.0955,\tbest estimator lgbm's best error=0.0896\n",
            "[flaml.automl.logger: 02-26 09:35:03] {2258} INFO - iteration 106, current learner xgboost\n",
            "[flaml.automl.logger: 02-26 09:35:03] {2442} INFO -  at 18.0s,\testimator xgboost's best error=0.0918,\tbest estimator lgbm's best error=0.0896\n",
            "[flaml.automl.logger: 02-26 09:35:03] {2258} INFO - iteration 107, current learner sgd\n",
            "[flaml.automl.logger: 02-26 09:35:03] {2442} INFO -  at 18.1s,\testimator sgd's best error=0.1075,\tbest estimator lgbm's best error=0.0896\n",
            "[flaml.automl.logger: 02-26 09:35:03] {2258} INFO - iteration 108, current learner rf\n",
            "[flaml.automl.logger: 02-26 09:35:04] {2442} INFO -  at 18.4s,\testimator rf's best error=0.0930,\tbest estimator lgbm's best error=0.0896\n",
            "[flaml.automl.logger: 02-26 09:35:04] {2258} INFO - iteration 109, current learner sgd\n",
            "[flaml.automl.logger: 02-26 09:35:04] {2442} INFO -  at 18.4s,\testimator sgd's best error=0.1075,\tbest estimator lgbm's best error=0.0896\n",
            "[flaml.automl.logger: 02-26 09:35:04] {2258} INFO - iteration 110, current learner extra_tree\n",
            "[flaml.automl.logger: 02-26 09:35:04] {2442} INFO -  at 18.6s,\testimator extra_tree's best error=0.1000,\tbest estimator lgbm's best error=0.0896\n",
            "[flaml.automl.logger: 02-26 09:35:04] {2258} INFO - iteration 111, current learner lgbm\n",
            "[flaml.automl.logger: 02-26 09:35:04] {2442} INFO -  at 18.7s,\testimator lgbm's best error=0.0896,\tbest estimator lgbm's best error=0.0896\n",
            "[flaml.automl.logger: 02-26 09:35:04] {2258} INFO - iteration 112, current learner sgd\n",
            "[flaml.automl.logger: 02-26 09:35:04] {2442} INFO -  at 18.8s,\testimator sgd's best error=0.1075,\tbest estimator lgbm's best error=0.0896\n",
            "[flaml.automl.logger: 02-26 09:35:04] {2258} INFO - iteration 113, current learner extra_tree\n",
            "[flaml.automl.logger: 02-26 09:35:04] {2442} INFO -  at 19.0s,\testimator extra_tree's best error=0.1000,\tbest estimator lgbm's best error=0.0896\n",
            "[flaml.automl.logger: 02-26 09:35:04] {2258} INFO - iteration 114, current learner sgd\n",
            "[flaml.automl.logger: 02-26 09:35:04] {2442} INFO -  at 19.1s,\testimator sgd's best error=0.1075,\tbest estimator lgbm's best error=0.0896\n",
            "[flaml.automl.logger: 02-26 09:35:04] {2258} INFO - iteration 115, current learner lgbm\n",
            "[flaml.automl.logger: 02-26 09:35:04] {2442} INFO -  at 19.2s,\testimator lgbm's best error=0.0896,\tbest estimator lgbm's best error=0.0896\n",
            "[flaml.automl.logger: 02-26 09:35:04] {2258} INFO - iteration 116, current learner lgbm\n",
            "[flaml.automl.logger: 02-26 09:35:05] {2442} INFO -  at 19.3s,\testimator lgbm's best error=0.0896,\tbest estimator lgbm's best error=0.0896\n",
            "[flaml.automl.logger: 02-26 09:35:05] {2258} INFO - iteration 117, current learner sgd\n",
            "[flaml.automl.logger: 02-26 09:35:05] {2442} INFO -  at 19.3s,\testimator sgd's best error=0.1075,\tbest estimator lgbm's best error=0.0896\n",
            "[flaml.automl.logger: 02-26 09:35:05] {2258} INFO - iteration 118, current learner extra_tree\n",
            "[flaml.automl.logger: 02-26 09:35:05] {2442} INFO -  at 19.6s,\testimator extra_tree's best error=0.1000,\tbest estimator lgbm's best error=0.0896\n",
            "[flaml.automl.logger: 02-26 09:35:05] {2258} INFO - iteration 119, current learner lgbm\n",
            "[flaml.automl.logger: 02-26 09:35:05] {2442} INFO -  at 19.7s,\testimator lgbm's best error=0.0896,\tbest estimator lgbm's best error=0.0896\n",
            "[flaml.automl.logger: 02-26 09:35:05] {2258} INFO - iteration 120, current learner sgd\n",
            "[flaml.automl.logger: 02-26 09:35:05] {2442} INFO -  at 19.8s,\testimator sgd's best error=0.1075,\tbest estimator lgbm's best error=0.0896\n",
            "[flaml.automl.logger: 02-26 09:35:05] {2258} INFO - iteration 121, current learner sgd\n",
            "[flaml.automl.logger: 02-26 09:35:05] {2442} INFO -  at 19.8s,\testimator sgd's best error=0.1075,\tbest estimator lgbm's best error=0.0896\n",
            "[flaml.automl.logger: 02-26 09:35:05] {2258} INFO - iteration 122, current learner sgd\n",
            "[flaml.automl.logger: 02-26 09:35:05] {2442} INFO -  at 19.9s,\testimator sgd's best error=0.1075,\tbest estimator lgbm's best error=0.0896\n",
            "[flaml.automl.logger: 02-26 09:35:05] {2258} INFO - iteration 123, current learner extra_tree\n",
            "[flaml.automl.logger: 02-26 09:35:05] {2442} INFO -  at 20.1s,\testimator extra_tree's best error=0.1000,\tbest estimator lgbm's best error=0.0896\n",
            "[flaml.automl.logger: 02-26 09:35:05] {2258} INFO - iteration 124, current learner lgbm\n",
            "[flaml.automl.logger: 02-26 09:35:05] {2442} INFO -  at 20.2s,\testimator lgbm's best error=0.0896,\tbest estimator lgbm's best error=0.0896\n",
            "[flaml.automl.logger: 02-26 09:35:05] {2258} INFO - iteration 125, current learner lgbm\n",
            "[flaml.automl.logger: 02-26 09:35:06] {2442} INFO -  at 20.3s,\testimator lgbm's best error=0.0896,\tbest estimator lgbm's best error=0.0896\n",
            "[flaml.automl.logger: 02-26 09:35:06] {2258} INFO - iteration 126, current learner lgbm\n",
            "[flaml.automl.logger: 02-26 09:35:06] {2442} INFO -  at 20.4s,\testimator lgbm's best error=0.0896,\tbest estimator lgbm's best error=0.0896\n",
            "[flaml.automl.logger: 02-26 09:35:06] {2258} INFO - iteration 127, current learner lgbm\n",
            "[flaml.automl.logger: 02-26 09:35:06] {2442} INFO -  at 20.5s,\testimator lgbm's best error=0.0896,\tbest estimator lgbm's best error=0.0896\n",
            "[flaml.automl.logger: 02-26 09:35:06] {2258} INFO - iteration 128, current learner lgbm\n",
            "[flaml.automl.logger: 02-26 09:35:06] {2442} INFO -  at 20.5s,\testimator lgbm's best error=0.0896,\tbest estimator lgbm's best error=0.0896\n",
            "[flaml.automl.logger: 02-26 09:35:06] {2258} INFO - iteration 129, current learner sgd\n",
            "[flaml.automl.logger: 02-26 09:35:06] {2442} INFO -  at 20.6s,\testimator sgd's best error=0.1075,\tbest estimator lgbm's best error=0.0896\n",
            "[flaml.automl.logger: 02-26 09:35:06] {2258} INFO - iteration 130, current learner xgboost\n",
            "[flaml.automl.logger: 02-26 09:35:06] {2442} INFO -  at 20.8s,\testimator xgboost's best error=0.0918,\tbest estimator lgbm's best error=0.0896\n",
            "[flaml.automl.logger: 02-26 09:35:06] {2258} INFO - iteration 131, current learner xgboost\n",
            "[flaml.automl.logger: 02-26 09:35:06] {2442} INFO -  at 20.9s,\testimator xgboost's best error=0.0918,\tbest estimator lgbm's best error=0.0896\n",
            "[flaml.automl.logger: 02-26 09:35:06] {2258} INFO - iteration 132, current learner sgd\n",
            "[flaml.automl.logger: 02-26 09:35:06] {2442} INFO -  at 21.0s,\testimator sgd's best error=0.1075,\tbest estimator lgbm's best error=0.0896\n",
            "[flaml.automl.logger: 02-26 09:35:06] {2258} INFO - iteration 133, current learner lgbm\n",
            "[flaml.automl.logger: 02-26 09:35:06] {2442} INFO -  at 21.1s,\testimator lgbm's best error=0.0896,\tbest estimator lgbm's best error=0.0896\n",
            "[flaml.automl.logger: 02-26 09:35:06] {2258} INFO - iteration 134, current learner lgbm\n",
            "[flaml.automl.logger: 02-26 09:35:06] {2442} INFO -  at 21.1s,\testimator lgbm's best error=0.0896,\tbest estimator lgbm's best error=0.0896\n",
            "[flaml.automl.logger: 02-26 09:35:06] {2258} INFO - iteration 135, current learner xgboost\n",
            "[flaml.automl.logger: 02-26 09:35:07] {2442} INFO -  at 21.3s,\testimator xgboost's best error=0.0918,\tbest estimator lgbm's best error=0.0896\n",
            "[flaml.automl.logger: 02-26 09:35:07] {2258} INFO - iteration 136, current learner sgd\n",
            "[flaml.automl.logger: 02-26 09:35:07] {2442} INFO -  at 21.4s,\testimator sgd's best error=0.1075,\tbest estimator lgbm's best error=0.0896\n",
            "[flaml.automl.logger: 02-26 09:35:07] {2258} INFO - iteration 137, current learner extra_tree\n",
            "[flaml.automl.logger: 02-26 09:35:07] {2442} INFO -  at 21.6s,\testimator extra_tree's best error=0.1000,\tbest estimator lgbm's best error=0.0896\n",
            "[flaml.automl.logger: 02-26 09:35:07] {2258} INFO - iteration 138, current learner lgbm\n",
            "[flaml.automl.logger: 02-26 09:35:07] {2442} INFO -  at 21.7s,\testimator lgbm's best error=0.0896,\tbest estimator lgbm's best error=0.0896\n",
            "[flaml.automl.logger: 02-26 09:35:07] {2258} INFO - iteration 139, current learner sgd\n",
            "[flaml.automl.logger: 02-26 09:35:07] {2442} INFO -  at 21.8s,\testimator sgd's best error=0.1075,\tbest estimator lgbm's best error=0.0896\n",
            "[flaml.automl.logger: 02-26 09:35:07] {2258} INFO - iteration 140, current learner lgbm\n",
            "[flaml.automl.logger: 02-26 09:35:07] {2442} INFO -  at 21.9s,\testimator lgbm's best error=0.0896,\tbest estimator lgbm's best error=0.0896\n",
            "[flaml.automl.logger: 02-26 09:35:07] {2258} INFO - iteration 141, current learner sgd\n",
            "[flaml.automl.logger: 02-26 09:35:07] {2442} INFO -  at 22.0s,\testimator sgd's best error=0.1075,\tbest estimator lgbm's best error=0.0896\n",
            "[flaml.automl.logger: 02-26 09:35:07] {2258} INFO - iteration 142, current learner rf\n",
            "[flaml.automl.logger: 02-26 09:35:08] {2442} INFO -  at 22.3s,\testimator rf's best error=0.0930,\tbest estimator lgbm's best error=0.0896\n",
            "[flaml.automl.logger: 02-26 09:35:08] {2258} INFO - iteration 143, current learner sgd\n",
            "[flaml.automl.logger: 02-26 09:35:08] {2442} INFO -  at 22.4s,\testimator sgd's best error=0.1075,\tbest estimator lgbm's best error=0.0896\n",
            "[flaml.automl.logger: 02-26 09:35:08] {2258} INFO - iteration 144, current learner sgd\n",
            "[flaml.automl.logger: 02-26 09:35:08] {2442} INFO -  at 22.5s,\testimator sgd's best error=0.1075,\tbest estimator lgbm's best error=0.0896\n",
            "[flaml.automl.logger: 02-26 09:35:08] {2258} INFO - iteration 145, current learner extra_tree\n",
            "[flaml.automl.logger: 02-26 09:35:08] {2442} INFO -  at 22.7s,\testimator extra_tree's best error=0.1000,\tbest estimator lgbm's best error=0.0896\n",
            "[flaml.automl.logger: 02-26 09:35:08] {2258} INFO - iteration 146, current learner lgbm\n",
            "[flaml.automl.logger: 02-26 09:35:08] {2442} INFO -  at 22.8s,\testimator lgbm's best error=0.0896,\tbest estimator lgbm's best error=0.0896\n",
            "[flaml.automl.logger: 02-26 09:35:08] {2258} INFO - iteration 147, current learner lgbm\n",
            "[flaml.automl.logger: 02-26 09:35:08] {2442} INFO -  at 22.9s,\testimator lgbm's best error=0.0896,\tbest estimator lgbm's best error=0.0896\n",
            "[flaml.automl.logger: 02-26 09:35:08] {2258} INFO - iteration 148, current learner lgbm\n",
            "[flaml.automl.logger: 02-26 09:35:08] {2442} INFO -  at 23.0s,\testimator lgbm's best error=0.0896,\tbest estimator lgbm's best error=0.0896\n",
            "[flaml.automl.logger: 02-26 09:35:08] {2258} INFO - iteration 149, current learner lgbm\n",
            "[flaml.automl.logger: 02-26 09:35:08] {2442} INFO -  at 23.1s,\testimator lgbm's best error=0.0896,\tbest estimator lgbm's best error=0.0896\n",
            "[flaml.automl.logger: 02-26 09:35:08] {2258} INFO - iteration 150, current learner lgbm\n",
            "[flaml.automl.logger: 02-26 09:35:08] {2442} INFO -  at 23.2s,\testimator lgbm's best error=0.0896,\tbest estimator lgbm's best error=0.0896\n",
            "[flaml.automl.logger: 02-26 09:35:08] {2258} INFO - iteration 151, current learner rf\n",
            "[flaml.automl.logger: 02-26 09:35:09] {2442} INFO -  at 23.5s,\testimator rf's best error=0.0930,\tbest estimator lgbm's best error=0.0896\n",
            "[flaml.automl.logger: 02-26 09:35:09] {2258} INFO - iteration 152, current learner sgd\n",
            "[flaml.automl.logger: 02-26 09:35:09] {2442} INFO -  at 23.6s,\testimator sgd's best error=0.1075,\tbest estimator lgbm's best error=0.0896\n",
            "[flaml.automl.logger: 02-26 09:35:09] {2258} INFO - iteration 153, current learner extra_tree\n",
            "[flaml.automl.logger: 02-26 09:35:09] {2442} INFO -  at 23.8s,\testimator extra_tree's best error=0.1000,\tbest estimator lgbm's best error=0.0896\n",
            "[flaml.automl.logger: 02-26 09:35:09] {2258} INFO - iteration 154, current learner lgbm\n",
            "[flaml.automl.logger: 02-26 09:35:09] {2442} INFO -  at 23.9s,\testimator lgbm's best error=0.0896,\tbest estimator lgbm's best error=0.0896\n",
            "[flaml.automl.logger: 02-26 09:35:09] {2258} INFO - iteration 155, current learner lgbm\n",
            "[flaml.automl.logger: 02-26 09:35:09] {2442} INFO -  at 24.0s,\testimator lgbm's best error=0.0896,\tbest estimator lgbm's best error=0.0896\n",
            "[flaml.automl.logger: 02-26 09:35:09] {2258} INFO - iteration 156, current learner sgd\n",
            "[flaml.automl.logger: 02-26 09:35:09] {2442} INFO -  at 24.1s,\testimator sgd's best error=0.1075,\tbest estimator lgbm's best error=0.0896\n",
            "[flaml.automl.logger: 02-26 09:35:09] {2258} INFO - iteration 157, current learner extra_tree\n",
            "[flaml.automl.logger: 02-26 09:35:10] {2442} INFO -  at 24.3s,\testimator extra_tree's best error=0.1000,\tbest estimator lgbm's best error=0.0896\n",
            "[flaml.automl.logger: 02-26 09:35:10] {2258} INFO - iteration 158, current learner lgbm\n",
            "[flaml.automl.logger: 02-26 09:35:10] {2442} INFO -  at 24.4s,\testimator lgbm's best error=0.0896,\tbest estimator lgbm's best error=0.0896\n",
            "[flaml.automl.logger: 02-26 09:35:10] {2258} INFO - iteration 159, current learner rf\n",
            "[flaml.automl.logger: 02-26 09:35:10] {2442} INFO -  at 24.7s,\testimator rf's best error=0.0930,\tbest estimator lgbm's best error=0.0896\n",
            "[flaml.automl.logger: 02-26 09:35:10] {2258} INFO - iteration 160, current learner sgd\n",
            "[flaml.automl.logger: 02-26 09:35:10] {2442} INFO -  at 24.7s,\testimator sgd's best error=0.1075,\tbest estimator lgbm's best error=0.0896\n",
            "[flaml.automl.logger: 02-26 09:35:10] {2258} INFO - iteration 161, current learner lgbm\n",
            "[flaml.automl.logger: 02-26 09:35:10] {2442} INFO -  at 24.8s,\testimator lgbm's best error=0.0885,\tbest estimator lgbm's best error=0.0885\n",
            "[flaml.automl.logger: 02-26 09:35:10] {2258} INFO - iteration 162, current learner extra_tree\n",
            "[flaml.automl.logger: 02-26 09:35:10] {2442} INFO -  at 25.1s,\testimator extra_tree's best error=0.1000,\tbest estimator lgbm's best error=0.0885\n",
            "[flaml.automl.logger: 02-26 09:35:10] {2258} INFO - iteration 163, current learner sgd\n",
            "[flaml.automl.logger: 02-26 09:35:10] {2442} INFO -  at 25.2s,\testimator sgd's best error=0.1075,\tbest estimator lgbm's best error=0.0885\n",
            "[flaml.automl.logger: 02-26 09:35:10] {2258} INFO - iteration 164, current learner sgd\n",
            "[flaml.automl.logger: 02-26 09:35:11] {2442} INFO -  at 25.3s,\testimator sgd's best error=0.1075,\tbest estimator lgbm's best error=0.0885\n",
            "[flaml.automl.logger: 02-26 09:35:11] {2258} INFO - iteration 165, current learner rf\n",
            "[flaml.automl.logger: 02-26 09:35:11] {2442} INFO -  at 25.5s,\testimator rf's best error=0.0930,\tbest estimator lgbm's best error=0.0885\n",
            "[flaml.automl.logger: 02-26 09:35:11] {2258} INFO - iteration 166, current learner extra_tree\n",
            "[flaml.automl.logger: 02-26 09:35:11] {2442} INFO -  at 25.7s,\testimator extra_tree's best error=0.0981,\tbest estimator lgbm's best error=0.0885\n",
            "[flaml.automl.logger: 02-26 09:35:11] {2258} INFO - iteration 167, current learner sgd\n",
            "[flaml.automl.logger: 02-26 09:35:11] {2442} INFO -  at 25.8s,\testimator sgd's best error=0.1075,\tbest estimator lgbm's best error=0.0885\n",
            "[flaml.automl.logger: 02-26 09:35:11] {2258} INFO - iteration 168, current learner sgd\n",
            "[flaml.automl.logger: 02-26 09:35:11] {2442} INFO -  at 25.9s,\testimator sgd's best error=0.1075,\tbest estimator lgbm's best error=0.0885\n",
            "[flaml.automl.logger: 02-26 09:35:11] {2258} INFO - iteration 169, current learner lgbm\n",
            "[flaml.automl.logger: 02-26 09:35:11] {2442} INFO -  at 25.9s,\testimator lgbm's best error=0.0885,\tbest estimator lgbm's best error=0.0885\n",
            "[flaml.automl.logger: 02-26 09:35:11] {2258} INFO - iteration 170, current learner lgbm\n",
            "[flaml.automl.logger: 02-26 09:35:11] {2442} INFO -  at 26.2s,\testimator lgbm's best error=0.0885,\tbest estimator lgbm's best error=0.0885\n",
            "[flaml.automl.logger: 02-26 09:35:11] {2258} INFO - iteration 171, current learner lgbm\n",
            "[flaml.automl.logger: 02-26 09:35:12] {2442} INFO -  at 26.8s,\testimator lgbm's best error=0.0885,\tbest estimator lgbm's best error=0.0885\n",
            "[flaml.automl.logger: 02-26 09:35:12] {2258} INFO - iteration 172, current learner xgboost\n",
            "[flaml.automl.logger: 02-26 09:35:13] {2442} INFO -  at 27.5s,\testimator xgboost's best error=0.0918,\tbest estimator lgbm's best error=0.0885\n",
            "[flaml.automl.logger: 02-26 09:35:13] {2258} INFO - iteration 173, current learner sgd\n",
            "[flaml.automl.logger: 02-26 09:35:13] {2442} INFO -  at 27.7s,\testimator sgd's best error=0.1075,\tbest estimator lgbm's best error=0.0885\n",
            "[flaml.automl.logger: 02-26 09:35:13] {2258} INFO - iteration 174, current learner extra_tree\n",
            "[flaml.automl.logger: 02-26 09:35:13] {2442} INFO -  at 28.0s,\testimator extra_tree's best error=0.0981,\tbest estimator lgbm's best error=0.0885\n",
            "[flaml.automl.logger: 02-26 09:35:13] {2258} INFO - iteration 175, current learner rf\n",
            "[flaml.automl.logger: 02-26 09:35:14] {2442} INFO -  at 28.3s,\testimator rf's best error=0.0925,\tbest estimator lgbm's best error=0.0885\n",
            "[flaml.automl.logger: 02-26 09:35:14] {2258} INFO - iteration 176, current learner sgd\n",
            "[flaml.automl.logger: 02-26 09:35:14] {2442} INFO -  at 28.4s,\testimator sgd's best error=0.1075,\tbest estimator lgbm's best error=0.0885\n",
            "[flaml.automl.logger: 02-26 09:35:14] {2258} INFO - iteration 177, current learner extra_tree\n",
            "[flaml.automl.logger: 02-26 09:35:14] {2442} INFO -  at 28.6s,\testimator extra_tree's best error=0.0981,\tbest estimator lgbm's best error=0.0885\n",
            "[flaml.automl.logger: 02-26 09:35:14] {2258} INFO - iteration 178, current learner rf\n",
            "[flaml.automl.logger: 02-26 09:35:14] {2442} INFO -  at 28.9s,\testimator rf's best error=0.0925,\tbest estimator lgbm's best error=0.0885\n",
            "[flaml.automl.logger: 02-26 09:35:14] {2258} INFO - iteration 179, current learner xgboost\n",
            "[flaml.automl.logger: 02-26 09:35:15] {2442} INFO -  at 29.2s,\testimator xgboost's best error=0.0918,\tbest estimator lgbm's best error=0.0885\n",
            "[flaml.automl.logger: 02-26 09:35:15] {2258} INFO - iteration 180, current learner sgd\n",
            "[flaml.automl.logger: 02-26 09:35:15] {2442} INFO -  at 29.6s,\testimator sgd's best error=0.1075,\tbest estimator lgbm's best error=0.0885\n",
            "[flaml.automl.logger: 02-26 09:35:15] {2258} INFO - iteration 181, current learner extra_tree\n",
            "[flaml.automl.logger: 02-26 09:35:15] {2442} INFO -  at 29.8s,\testimator extra_tree's best error=0.0981,\tbest estimator lgbm's best error=0.0885\n",
            "[flaml.automl.logger: 02-26 09:35:15] {2258} INFO - iteration 182, current learner rf\n",
            "[flaml.automl.logger: 02-26 09:35:15] {2442} INFO -  at 30.1s,\testimator rf's best error=0.0925,\tbest estimator lgbm's best error=0.0885\n",
            "[flaml.automl.logger: 02-26 09:35:15] {2258} INFO - iteration 183, current learner lgbm\n",
            "[flaml.automl.logger: 02-26 09:35:15] {2442} INFO -  at 30.2s,\testimator lgbm's best error=0.0885,\tbest estimator lgbm's best error=0.0885\n",
            "[flaml.automl.logger: 02-26 09:35:15] {2258} INFO - iteration 184, current learner rf\n",
            "[flaml.automl.logger: 02-26 09:35:16] {2442} INFO -  at 30.5s,\testimator rf's best error=0.0925,\tbest estimator lgbm's best error=0.0885\n",
            "[flaml.automl.logger: 02-26 09:35:16] {2258} INFO - iteration 185, current learner extra_tree\n",
            "[flaml.automl.logger: 02-26 09:35:16] {2442} INFO -  at 30.8s,\testimator extra_tree's best error=0.0981,\tbest estimator lgbm's best error=0.0885\n",
            "[flaml.automl.logger: 02-26 09:35:16] {2258} INFO - iteration 186, current learner rf\n",
            "[flaml.automl.logger: 02-26 09:35:16] {2442} INFO -  at 31.1s,\testimator rf's best error=0.0925,\tbest estimator lgbm's best error=0.0885\n",
            "[flaml.automl.logger: 02-26 09:35:16] {2258} INFO - iteration 187, current learner sgd\n",
            "[flaml.automl.logger: 02-26 09:35:16] {2442} INFO -  at 31.2s,\testimator sgd's best error=0.1075,\tbest estimator lgbm's best error=0.0885\n",
            "[flaml.automl.logger: 02-26 09:35:16] {2258} INFO - iteration 188, current learner lgbm\n",
            "[flaml.automl.logger: 02-26 09:35:17] {2442} INFO -  at 31.3s,\testimator lgbm's best error=0.0885,\tbest estimator lgbm's best error=0.0885\n",
            "[flaml.automl.logger: 02-26 09:35:17] {2258} INFO - iteration 189, current learner rf\n",
            "[flaml.automl.logger: 02-26 09:35:17] {2442} INFO -  at 31.5s,\testimator rf's best error=0.0925,\tbest estimator lgbm's best error=0.0885\n",
            "[flaml.automl.logger: 02-26 09:35:17] {2258} INFO - iteration 190, current learner sgd\n",
            "[flaml.automl.logger: 02-26 09:35:17] {2442} INFO -  at 31.6s,\testimator sgd's best error=0.1075,\tbest estimator lgbm's best error=0.0885\n",
            "[flaml.automl.logger: 02-26 09:35:17] {2258} INFO - iteration 191, current learner lgbm\n",
            "[flaml.automl.logger: 02-26 09:35:17] {2442} INFO -  at 31.7s,\testimator lgbm's best error=0.0885,\tbest estimator lgbm's best error=0.0885\n",
            "[flaml.automl.logger: 02-26 09:35:17] {2258} INFO - iteration 192, current learner extra_tree\n",
            "[flaml.automl.logger: 02-26 09:35:17] {2442} INFO -  at 31.9s,\testimator extra_tree's best error=0.0981,\tbest estimator lgbm's best error=0.0885\n",
            "[flaml.automl.logger: 02-26 09:35:17] {2258} INFO - iteration 193, current learner xgboost\n",
            "[flaml.automl.logger: 02-26 09:35:17] {2442} INFO -  at 32.1s,\testimator xgboost's best error=0.0918,\tbest estimator lgbm's best error=0.0885\n",
            "[flaml.automl.logger: 02-26 09:35:17] {2258} INFO - iteration 194, current learner sgd\n",
            "[flaml.automl.logger: 02-26 09:35:17] {2442} INFO -  at 32.2s,\testimator sgd's best error=0.1075,\tbest estimator lgbm's best error=0.0885\n",
            "[flaml.automl.logger: 02-26 09:35:17] {2258} INFO - iteration 195, current learner rf\n",
            "[flaml.automl.logger: 02-26 09:35:18] {2442} INFO -  at 32.4s,\testimator rf's best error=0.0925,\tbest estimator lgbm's best error=0.0885\n",
            "[flaml.automl.logger: 02-26 09:35:18] {2258} INFO - iteration 196, current learner lgbm\n",
            "[flaml.automl.logger: 02-26 09:35:18] {2442} INFO -  at 32.6s,\testimator lgbm's best error=0.0885,\tbest estimator lgbm's best error=0.0885\n",
            "[flaml.automl.logger: 02-26 09:35:18] {2258} INFO - iteration 197, current learner extra_tree\n",
            "[flaml.automl.logger: 02-26 09:35:18] {2442} INFO -  at 32.8s,\testimator extra_tree's best error=0.0981,\tbest estimator lgbm's best error=0.0885\n",
            "[flaml.automl.logger: 02-26 09:35:18] {2258} INFO - iteration 198, current learner sgd\n",
            "[flaml.automl.logger: 02-26 09:35:18] {2442} INFO -  at 32.8s,\testimator sgd's best error=0.1075,\tbest estimator lgbm's best error=0.0885\n",
            "[flaml.automl.logger: 02-26 09:35:18] {2258} INFO - iteration 199, current learner sgd\n",
            "[flaml.automl.logger: 02-26 09:35:18] {2442} INFO -  at 32.9s,\testimator sgd's best error=0.1075,\tbest estimator lgbm's best error=0.0885\n",
            "[flaml.automl.logger: 02-26 09:35:18] {2258} INFO - iteration 200, current learner sgd\n",
            "[flaml.automl.logger: 02-26 09:35:18] {2442} INFO -  at 33.0s,\testimator sgd's best error=0.1075,\tbest estimator lgbm's best error=0.0885\n",
            "[flaml.automl.logger: 02-26 09:35:18] {2258} INFO - iteration 201, current learner lgbm\n",
            "[flaml.automl.logger: 02-26 09:35:18] {2442} INFO -  at 33.1s,\testimator lgbm's best error=0.0885,\tbest estimator lgbm's best error=0.0885\n",
            "[flaml.automl.logger: 02-26 09:35:18] {2258} INFO - iteration 202, current learner rf\n",
            "[flaml.automl.logger: 02-26 09:35:19] {2442} INFO -  at 33.4s,\testimator rf's best error=0.0925,\tbest estimator lgbm's best error=0.0885\n",
            "[flaml.automl.logger: 02-26 09:35:19] {2258} INFO - iteration 203, current learner xgboost\n",
            "[flaml.automl.logger: 02-26 09:35:19] {2442} INFO -  at 33.6s,\testimator xgboost's best error=0.0918,\tbest estimator lgbm's best error=0.0885\n",
            "[flaml.automl.logger: 02-26 09:35:19] {2258} INFO - iteration 204, current learner sgd\n",
            "[flaml.automl.logger: 02-26 09:35:19] {2442} INFO -  at 33.7s,\testimator sgd's best error=0.1075,\tbest estimator lgbm's best error=0.0885\n",
            "[flaml.automl.logger: 02-26 09:35:19] {2258} INFO - iteration 205, current learner sgd\n",
            "[flaml.automl.logger: 02-26 09:35:19] {2442} INFO -  at 33.7s,\testimator sgd's best error=0.1075,\tbest estimator lgbm's best error=0.0885\n",
            "[flaml.automl.logger: 02-26 09:35:19] {2258} INFO - iteration 206, current learner xgboost\n",
            "[flaml.automl.logger: 02-26 09:35:19] {2442} INFO -  at 33.9s,\testimator xgboost's best error=0.0918,\tbest estimator lgbm's best error=0.0885\n",
            "[flaml.automl.logger: 02-26 09:35:19] {2258} INFO - iteration 207, current learner sgd\n",
            "[flaml.automl.logger: 02-26 09:35:19] {2442} INFO -  at 34.0s,\testimator sgd's best error=0.1075,\tbest estimator lgbm's best error=0.0885\n",
            "[flaml.automl.logger: 02-26 09:35:19] {2258} INFO - iteration 208, current learner extra_tree\n",
            "[flaml.automl.logger: 02-26 09:35:19] {2442} INFO -  at 34.2s,\testimator extra_tree's best error=0.0981,\tbest estimator lgbm's best error=0.0885\n",
            "[flaml.automl.logger: 02-26 09:35:19] {2258} INFO - iteration 209, current learner rf\n",
            "[flaml.automl.logger: 02-26 09:35:20] {2442} INFO -  at 34.4s,\testimator rf's best error=0.0925,\tbest estimator lgbm's best error=0.0885\n",
            "[flaml.automl.logger: 02-26 09:35:20] {2258} INFO - iteration 210, current learner rf\n",
            "[flaml.automl.logger: 02-26 09:35:20] {2442} INFO -  at 34.7s,\testimator rf's best error=0.0925,\tbest estimator lgbm's best error=0.0885\n",
            "[flaml.automl.logger: 02-26 09:35:20] {2258} INFO - iteration 211, current learner xgboost\n",
            "[flaml.automl.logger: 02-26 09:35:20] {2442} INFO -  at 34.8s,\testimator xgboost's best error=0.0918,\tbest estimator lgbm's best error=0.0885\n",
            "[flaml.automl.logger: 02-26 09:35:20] {2258} INFO - iteration 212, current learner xgboost\n",
            "[flaml.automl.logger: 02-26 09:35:20] {2442} INFO -  at 35.0s,\testimator xgboost's best error=0.0918,\tbest estimator lgbm's best error=0.0885\n",
            "[flaml.automl.logger: 02-26 09:35:20] {2258} INFO - iteration 213, current learner sgd\n",
            "[flaml.automl.logger: 02-26 09:35:20] {2442} INFO -  at 35.1s,\testimator sgd's best error=0.1075,\tbest estimator lgbm's best error=0.0885\n",
            "[flaml.automl.logger: 02-26 09:35:20] {2258} INFO - iteration 214, current learner sgd\n",
            "[flaml.automl.logger: 02-26 09:35:20] {2442} INFO -  at 35.2s,\testimator sgd's best error=0.1075,\tbest estimator lgbm's best error=0.0885\n",
            "[flaml.automl.logger: 02-26 09:35:20] {2258} INFO - iteration 215, current learner rf\n",
            "[flaml.automl.logger: 02-26 09:35:21] {2442} INFO -  at 35.4s,\testimator rf's best error=0.0925,\tbest estimator lgbm's best error=0.0885\n",
            "[flaml.automl.logger: 02-26 09:35:21] {2258} INFO - iteration 216, current learner sgd\n",
            "[flaml.automl.logger: 02-26 09:35:21] {2442} INFO -  at 35.5s,\testimator sgd's best error=0.1075,\tbest estimator lgbm's best error=0.0885\n",
            "[flaml.automl.logger: 02-26 09:35:21] {2258} INFO - iteration 217, current learner lgbm\n",
            "[flaml.automl.logger: 02-26 09:35:21] {2442} INFO -  at 35.6s,\testimator lgbm's best error=0.0885,\tbest estimator lgbm's best error=0.0885\n",
            "[flaml.automl.logger: 02-26 09:35:21] {2258} INFO - iteration 218, current learner lgbm\n",
            "[flaml.automl.logger: 02-26 09:35:21] {2442} INFO -  at 35.7s,\testimator lgbm's best error=0.0885,\tbest estimator lgbm's best error=0.0885\n",
            "[flaml.automl.logger: 02-26 09:35:21] {2258} INFO - iteration 219, current learner lgbm\n",
            "[flaml.automl.logger: 02-26 09:35:21] {2442} INFO -  at 35.9s,\testimator lgbm's best error=0.0885,\tbest estimator lgbm's best error=0.0885\n",
            "[flaml.automl.logger: 02-26 09:35:21] {2258} INFO - iteration 220, current learner xgboost\n",
            "[flaml.automl.logger: 02-26 09:35:21] {2442} INFO -  at 36.0s,\testimator xgboost's best error=0.0918,\tbest estimator lgbm's best error=0.0885\n",
            "[flaml.automl.logger: 02-26 09:35:21] {2258} INFO - iteration 221, current learner lgbm\n",
            "[flaml.automl.logger: 02-26 09:35:21] {2442} INFO -  at 36.1s,\testimator lgbm's best error=0.0885,\tbest estimator lgbm's best error=0.0885\n",
            "[flaml.automl.logger: 02-26 09:35:21] {2258} INFO - iteration 222, current learner sgd\n",
            "[flaml.automl.logger: 02-26 09:35:21] {2442} INFO -  at 36.2s,\testimator sgd's best error=0.1075,\tbest estimator lgbm's best error=0.0885\n",
            "[flaml.automl.logger: 02-26 09:35:21] {2258} INFO - iteration 223, current learner sgd\n",
            "[flaml.automl.logger: 02-26 09:35:22] {2442} INFO -  at 36.2s,\testimator sgd's best error=0.1075,\tbest estimator lgbm's best error=0.0885\n",
            "[flaml.automl.logger: 02-26 09:35:22] {2258} INFO - iteration 224, current learner lgbm\n",
            "[flaml.automl.logger: 02-26 09:35:22] {2442} INFO -  at 36.4s,\testimator lgbm's best error=0.0885,\tbest estimator lgbm's best error=0.0885\n",
            "[flaml.automl.logger: 02-26 09:35:22] {2258} INFO - iteration 225, current learner lgbm\n",
            "[flaml.automl.logger: 02-26 09:35:22] {2442} INFO -  at 36.4s,\testimator lgbm's best error=0.0885,\tbest estimator lgbm's best error=0.0885\n",
            "[flaml.automl.logger: 02-26 09:35:22] {2258} INFO - iteration 226, current learner rf\n",
            "[flaml.automl.logger: 02-26 09:35:22] {2442} INFO -  at 36.7s,\testimator rf's best error=0.0925,\tbest estimator lgbm's best error=0.0885\n",
            "[flaml.automl.logger: 02-26 09:35:22] {2258} INFO - iteration 227, current learner lgbm\n",
            "[flaml.automl.logger: 02-26 09:35:22] {2442} INFO -  at 36.8s,\testimator lgbm's best error=0.0885,\tbest estimator lgbm's best error=0.0885\n",
            "[flaml.automl.logger: 02-26 09:35:22] {2258} INFO - iteration 228, current learner sgd\n",
            "[flaml.automl.logger: 02-26 09:35:22] {2442} INFO -  at 36.9s,\testimator sgd's best error=0.1075,\tbest estimator lgbm's best error=0.0885\n",
            "[flaml.automl.logger: 02-26 09:35:22] {2258} INFO - iteration 229, current learner rf\n",
            "[flaml.automl.logger: 02-26 09:35:22] {2442} INFO -  at 37.2s,\testimator rf's best error=0.0925,\tbest estimator lgbm's best error=0.0885\n",
            "[flaml.automl.logger: 02-26 09:35:22] {2258} INFO - iteration 230, current learner sgd\n",
            "[flaml.automl.logger: 02-26 09:35:23] {2442} INFO -  at 37.3s,\testimator sgd's best error=0.1075,\tbest estimator lgbm's best error=0.0885\n",
            "[flaml.automl.logger: 02-26 09:35:23] {2258} INFO - iteration 231, current learner xgboost\n",
            "[flaml.automl.logger: 02-26 09:35:23] {2442} INFO -  at 37.4s,\testimator xgboost's best error=0.0918,\tbest estimator lgbm's best error=0.0885\n",
            "[flaml.automl.logger: 02-26 09:35:23] {2258} INFO - iteration 232, current learner sgd\n",
            "[flaml.automl.logger: 02-26 09:35:23] {2442} INFO -  at 37.5s,\testimator sgd's best error=0.1075,\tbest estimator lgbm's best error=0.0885\n",
            "[flaml.automl.logger: 02-26 09:35:23] {2258} INFO - iteration 233, current learner sgd\n",
            "[flaml.automl.logger: 02-26 09:35:23] {2442} INFO -  at 37.5s,\testimator sgd's best error=0.1075,\tbest estimator lgbm's best error=0.0885\n",
            "[flaml.automl.logger: 02-26 09:35:23] {2258} INFO - iteration 234, current learner sgd\n",
            "[flaml.automl.logger: 02-26 09:35:23] {2442} INFO -  at 37.6s,\testimator sgd's best error=0.1075,\tbest estimator lgbm's best error=0.0885\n",
            "[flaml.automl.logger: 02-26 09:35:23] {2258} INFO - iteration 235, current learner rf\n",
            "[flaml.automl.logger: 02-26 09:35:23] {2442} INFO -  at 37.8s,\testimator rf's best error=0.0925,\tbest estimator lgbm's best error=0.0885\n",
            "[flaml.automl.logger: 02-26 09:35:23] {2258} INFO - iteration 236, current learner xgboost\n",
            "[flaml.automl.logger: 02-26 09:35:23] {2442} INFO -  at 38.0s,\testimator xgboost's best error=0.0918,\tbest estimator lgbm's best error=0.0885\n",
            "[flaml.automl.logger: 02-26 09:35:23] {2258} INFO - iteration 237, current learner sgd\n",
            "[flaml.automl.logger: 02-26 09:35:23] {2442} INFO -  at 38.1s,\testimator sgd's best error=0.1075,\tbest estimator lgbm's best error=0.0885\n",
            "[flaml.automl.logger: 02-26 09:35:23] {2258} INFO - iteration 238, current learner lgbm\n",
            "[flaml.automl.logger: 02-26 09:35:23] {2442} INFO -  at 38.2s,\testimator lgbm's best error=0.0885,\tbest estimator lgbm's best error=0.0885\n",
            "[flaml.automl.logger: 02-26 09:35:23] {2258} INFO - iteration 239, current learner xgboost\n",
            "[flaml.automl.logger: 02-26 09:35:24] {2442} INFO -  at 38.3s,\testimator xgboost's best error=0.0918,\tbest estimator lgbm's best error=0.0885\n",
            "[flaml.automl.logger: 02-26 09:35:24] {2258} INFO - iteration 240, current learner xgboost\n",
            "[flaml.automl.logger: 02-26 09:35:24] {2442} INFO -  at 38.5s,\testimator xgboost's best error=0.0918,\tbest estimator lgbm's best error=0.0885\n",
            "[flaml.automl.logger: 02-26 09:35:24] {2258} INFO - iteration 241, current learner lgbm\n",
            "[flaml.automl.logger: 02-26 09:35:24] {2442} INFO -  at 38.5s,\testimator lgbm's best error=0.0885,\tbest estimator lgbm's best error=0.0885\n",
            "[flaml.automl.logger: 02-26 09:35:24] {2258} INFO - iteration 242, current learner xgboost\n",
            "[flaml.automl.logger: 02-26 09:35:24] {2442} INFO -  at 38.7s,\testimator xgboost's best error=0.0918,\tbest estimator lgbm's best error=0.0885\n",
            "[flaml.automl.logger: 02-26 09:35:24] {2258} INFO - iteration 243, current learner rf\n",
            "[flaml.automl.logger: 02-26 09:35:24] {2442} INFO -  at 38.9s,\testimator rf's best error=0.0925,\tbest estimator lgbm's best error=0.0885\n",
            "[flaml.automl.logger: 02-26 09:35:24] {2258} INFO - iteration 244, current learner sgd\n",
            "[flaml.automl.logger: 02-26 09:35:24] {2442} INFO -  at 39.0s,\testimator sgd's best error=0.1075,\tbest estimator lgbm's best error=0.0885\n",
            "[flaml.automl.logger: 02-26 09:35:24] {2258} INFO - iteration 245, current learner rf\n",
            "[flaml.automl.logger: 02-26 09:35:25] {2442} INFO -  at 39.3s,\testimator rf's best error=0.0925,\tbest estimator lgbm's best error=0.0885\n",
            "[flaml.automl.logger: 02-26 09:35:25] {2258} INFO - iteration 246, current learner sgd\n",
            "[flaml.automl.logger: 02-26 09:35:25] {2442} INFO -  at 39.4s,\testimator sgd's best error=0.1075,\tbest estimator lgbm's best error=0.0885\n",
            "[flaml.automl.logger: 02-26 09:35:25] {2258} INFO - iteration 247, current learner xgboost\n",
            "[flaml.automl.logger: 02-26 09:35:25] {2442} INFO -  at 39.5s,\testimator xgboost's best error=0.0918,\tbest estimator lgbm's best error=0.0885\n",
            "[flaml.automl.logger: 02-26 09:35:25] {2258} INFO - iteration 248, current learner lgbm\n",
            "[flaml.automl.logger: 02-26 09:35:25] {2442} INFO -  at 39.7s,\testimator lgbm's best error=0.0885,\tbest estimator lgbm's best error=0.0885\n",
            "[flaml.automl.logger: 02-26 09:35:25] {2258} INFO - iteration 249, current learner sgd\n",
            "[flaml.automl.logger: 02-26 09:35:25] {2442} INFO -  at 39.8s,\testimator sgd's best error=0.1075,\tbest estimator lgbm's best error=0.0885\n",
            "[flaml.automl.logger: 02-26 09:35:25] {2258} INFO - iteration 250, current learner extra_tree\n",
            "[flaml.automl.logger: 02-26 09:35:25] {2442} INFO -  at 40.1s,\testimator extra_tree's best error=0.0981,\tbest estimator lgbm's best error=0.0885\n",
            "[flaml.automl.logger: 02-26 09:35:25] {2258} INFO - iteration 251, current learner lgbm\n",
            "[flaml.automl.logger: 02-26 09:35:26] {2442} INFO -  at 40.2s,\testimator lgbm's best error=0.0885,\tbest estimator lgbm's best error=0.0885\n",
            "[flaml.automl.logger: 02-26 09:35:26] {2258} INFO - iteration 252, current learner rf\n",
            "[flaml.automl.logger: 02-26 09:35:26] {2442} INFO -  at 40.5s,\testimator rf's best error=0.0925,\tbest estimator lgbm's best error=0.0885\n",
            "[flaml.automl.logger: 02-26 09:35:26] {2258} INFO - iteration 253, current learner extra_tree\n",
            "[flaml.automl.logger: 02-26 09:35:26] {2442} INFO -  at 40.7s,\testimator extra_tree's best error=0.0966,\tbest estimator lgbm's best error=0.0885\n",
            "[flaml.automl.logger: 02-26 09:35:26] {2258} INFO - iteration 254, current learner sgd\n",
            "[flaml.automl.logger: 02-26 09:35:26] {2442} INFO -  at 40.9s,\testimator sgd's best error=0.1075,\tbest estimator lgbm's best error=0.0885\n",
            "[flaml.automl.logger: 02-26 09:35:26] {2258} INFO - iteration 255, current learner lgbm\n",
            "[flaml.automl.logger: 02-26 09:35:27] {2442} INFO -  at 41.2s,\testimator lgbm's best error=0.0885,\tbest estimator lgbm's best error=0.0885\n",
            "[flaml.automl.logger: 02-26 09:35:27] {2258} INFO - iteration 256, current learner sgd\n",
            "[flaml.automl.logger: 02-26 09:35:27] {2442} INFO -  at 41.3s,\testimator sgd's best error=0.1075,\tbest estimator lgbm's best error=0.0885\n",
            "[flaml.automl.logger: 02-26 09:35:27] {2258} INFO - iteration 257, current learner xgboost\n",
            "[flaml.automl.logger: 02-26 09:35:27] {2442} INFO -  at 41.7s,\testimator xgboost's best error=0.0918,\tbest estimator lgbm's best error=0.0885\n",
            "[flaml.automl.logger: 02-26 09:35:27] {2258} INFO - iteration 258, current learner sgd\n",
            "[flaml.automl.logger: 02-26 09:35:27] {2442} INFO -  at 41.8s,\testimator sgd's best error=0.1075,\tbest estimator lgbm's best error=0.0885\n",
            "[flaml.automl.logger: 02-26 09:35:27] {2258} INFO - iteration 259, current learner extra_tree\n",
            "[flaml.automl.logger: 02-26 09:35:27] {2442} INFO -  at 42.1s,\testimator extra_tree's best error=0.0966,\tbest estimator lgbm's best error=0.0885\n",
            "[flaml.automl.logger: 02-26 09:35:27] {2258} INFO - iteration 260, current learner sgd\n",
            "[flaml.automl.logger: 02-26 09:35:27] {2442} INFO -  at 42.2s,\testimator sgd's best error=0.1075,\tbest estimator lgbm's best error=0.0885\n",
            "[flaml.automl.logger: 02-26 09:35:27] {2258} INFO - iteration 261, current learner extra_tree\n",
            "[flaml.automl.logger: 02-26 09:35:28] {2442} INFO -  at 42.5s,\testimator extra_tree's best error=0.0966,\tbest estimator lgbm's best error=0.0885\n",
            "[flaml.automl.logger: 02-26 09:35:28] {2258} INFO - iteration 262, current learner extra_tree\n",
            "[flaml.automl.logger: 02-26 09:35:28] {2442} INFO -  at 42.8s,\testimator extra_tree's best error=0.0966,\tbest estimator lgbm's best error=0.0885\n",
            "[flaml.automl.logger: 02-26 09:35:28] {2258} INFO - iteration 263, current learner rf\n",
            "[flaml.automl.logger: 02-26 09:35:29] {2442} INFO -  at 43.3s,\testimator rf's best error=0.0925,\tbest estimator lgbm's best error=0.0885\n",
            "[flaml.automl.logger: 02-26 09:35:29] {2258} INFO - iteration 264, current learner extra_tree\n",
            "[flaml.automl.logger: 02-26 09:35:29] {2442} INFO -  at 43.6s,\testimator extra_tree's best error=0.0966,\tbest estimator lgbm's best error=0.0885\n",
            "[flaml.automl.logger: 02-26 09:35:29] {2258} INFO - iteration 265, current learner extra_tree\n",
            "[flaml.automl.logger: 02-26 09:35:29] {2442} INFO -  at 43.8s,\testimator extra_tree's best error=0.0966,\tbest estimator lgbm's best error=0.0885\n",
            "[flaml.automl.logger: 02-26 09:35:29] {2258} INFO - iteration 266, current learner sgd\n",
            "[flaml.automl.logger: 02-26 09:35:29] {2442} INFO -  at 43.9s,\testimator sgd's best error=0.1075,\tbest estimator lgbm's best error=0.0885\n",
            "[flaml.automl.logger: 02-26 09:35:29] {2258} INFO - iteration 267, current learner extra_tree\n",
            "[flaml.automl.logger: 02-26 09:35:29] {2442} INFO -  at 44.1s,\testimator extra_tree's best error=0.0966,\tbest estimator lgbm's best error=0.0885\n",
            "[flaml.automl.logger: 02-26 09:35:29] {2258} INFO - iteration 268, current learner extra_tree\n",
            "[flaml.automl.logger: 02-26 09:35:30] {2442} INFO -  at 44.4s,\testimator extra_tree's best error=0.0966,\tbest estimator lgbm's best error=0.0885\n",
            "[flaml.automl.logger: 02-26 09:35:30] {2258} INFO - iteration 269, current learner sgd\n",
            "[flaml.automl.logger: 02-26 09:35:30] {2442} INFO -  at 44.4s,\testimator sgd's best error=0.1075,\tbest estimator lgbm's best error=0.0885\n",
            "[flaml.automl.logger: 02-26 09:35:30] {2258} INFO - iteration 270, current learner rf\n",
            "[flaml.automl.logger: 02-26 09:35:30] {2442} INFO -  at 44.6s,\testimator rf's best error=0.0925,\tbest estimator lgbm's best error=0.0885\n",
            "[flaml.automl.logger: 02-26 09:35:30] {2258} INFO - iteration 271, current learner extra_tree\n",
            "[flaml.automl.logger: 02-26 09:35:30] {2442} INFO -  at 44.9s,\testimator extra_tree's best error=0.0966,\tbest estimator lgbm's best error=0.0885\n",
            "[flaml.automl.logger: 02-26 09:35:30] {2258} INFO - iteration 272, current learner xgboost\n",
            "[flaml.automl.logger: 02-26 09:35:30] {2442} INFO -  at 45.0s,\testimator xgboost's best error=0.0918,\tbest estimator lgbm's best error=0.0885\n",
            "[flaml.automl.logger: 02-26 09:35:30] {2258} INFO - iteration 273, current learner xgboost\n",
            "[flaml.automl.logger: 02-26 09:35:30] {2442} INFO -  at 45.2s,\testimator xgboost's best error=0.0918,\tbest estimator lgbm's best error=0.0885\n",
            "[flaml.automl.logger: 02-26 09:35:30] {2258} INFO - iteration 274, current learner xgboost\n",
            "[flaml.automl.logger: 02-26 09:35:31] {2442} INFO -  at 45.3s,\testimator xgboost's best error=0.0918,\tbest estimator lgbm's best error=0.0885\n",
            "[flaml.automl.logger: 02-26 09:35:31] {2258} INFO - iteration 275, current learner xgboost\n",
            "[flaml.automl.logger: 02-26 09:35:31] {2442} INFO -  at 45.5s,\testimator xgboost's best error=0.0918,\tbest estimator lgbm's best error=0.0885\n",
            "[flaml.automl.logger: 02-26 09:35:31] {2258} INFO - iteration 276, current learner rf\n",
            "[flaml.automl.logger: 02-26 09:35:31] {2442} INFO -  at 45.7s,\testimator rf's best error=0.0925,\tbest estimator lgbm's best error=0.0885\n",
            "[flaml.automl.logger: 02-26 09:35:31] {2258} INFO - iteration 277, current learner extra_tree\n",
            "[flaml.automl.logger: 02-26 09:35:31] {2442} INFO -  at 46.1s,\testimator extra_tree's best error=0.0966,\tbest estimator lgbm's best error=0.0885\n",
            "[flaml.automl.logger: 02-26 09:35:31] {2258} INFO - iteration 278, current learner xgboost\n",
            "[flaml.automl.logger: 02-26 09:35:32] {2442} INFO -  at 46.2s,\testimator xgboost's best error=0.0918,\tbest estimator lgbm's best error=0.0885\n",
            "[flaml.automl.logger: 02-26 09:35:32] {2258} INFO - iteration 279, current learner sgd\n",
            "[flaml.automl.logger: 02-26 09:35:32] {2442} INFO -  at 46.3s,\testimator sgd's best error=0.1075,\tbest estimator lgbm's best error=0.0885\n",
            "[flaml.automl.logger: 02-26 09:35:32] {2258} INFO - iteration 280, current learner extra_tree\n",
            "[flaml.automl.logger: 02-26 09:35:32] {2442} INFO -  at 46.5s,\testimator extra_tree's best error=0.0966,\tbest estimator lgbm's best error=0.0885\n",
            "[flaml.automl.logger: 02-26 09:35:32] {2258} INFO - iteration 281, current learner lgbm\n",
            "[flaml.automl.logger: 02-26 09:35:32] {2442} INFO -  at 46.6s,\testimator lgbm's best error=0.0885,\tbest estimator lgbm's best error=0.0885\n",
            "[flaml.automl.logger: 02-26 09:35:32] {2258} INFO - iteration 282, current learner xgboost\n",
            "[flaml.automl.logger: 02-26 09:35:32] {2442} INFO -  at 46.7s,\testimator xgboost's best error=0.0910,\tbest estimator lgbm's best error=0.0885\n",
            "[flaml.automl.logger: 02-26 09:35:32] {2258} INFO - iteration 283, current learner xgboost\n",
            "[flaml.automl.logger: 02-26 09:35:32] {2442} INFO -  at 46.9s,\testimator xgboost's best error=0.0910,\tbest estimator lgbm's best error=0.0885\n",
            "[flaml.automl.logger: 02-26 09:35:32] {2258} INFO - iteration 284, current learner extra_tree\n",
            "[flaml.automl.logger: 02-26 09:35:32] {2442} INFO -  at 47.2s,\testimator extra_tree's best error=0.0966,\tbest estimator lgbm's best error=0.0885\n",
            "[flaml.automl.logger: 02-26 09:35:32] {2258} INFO - iteration 285, current learner sgd\n",
            "[flaml.automl.logger: 02-26 09:35:33] {2442} INFO -  at 47.2s,\testimator sgd's best error=0.1075,\tbest estimator lgbm's best error=0.0885\n",
            "[flaml.automl.logger: 02-26 09:35:33] {2258} INFO - iteration 286, current learner sgd\n",
            "[flaml.automl.logger: 02-26 09:35:33] {2442} INFO -  at 47.3s,\testimator sgd's best error=0.1075,\tbest estimator lgbm's best error=0.0885\n",
            "[flaml.automl.logger: 02-26 09:35:33] {2258} INFO - iteration 287, current learner extra_tree\n",
            "[flaml.automl.logger: 02-26 09:35:33] {2442} INFO -  at 47.6s,\testimator extra_tree's best error=0.0966,\tbest estimator lgbm's best error=0.0885\n",
            "[flaml.automl.logger: 02-26 09:35:33] {2258} INFO - iteration 288, current learner xgboost\n",
            "[flaml.automl.logger: 02-26 09:35:33] {2442} INFO -  at 47.8s,\testimator xgboost's best error=0.0910,\tbest estimator lgbm's best error=0.0885\n",
            "[flaml.automl.logger: 02-26 09:35:33] {2258} INFO - iteration 289, current learner rf\n",
            "[flaml.automl.logger: 02-26 09:35:33] {2442} INFO -  at 48.1s,\testimator rf's best error=0.0925,\tbest estimator lgbm's best error=0.0885\n",
            "[flaml.automl.logger: 02-26 09:35:33] {2258} INFO - iteration 290, current learner sgd\n",
            "[flaml.automl.logger: 02-26 09:35:33] {2442} INFO -  at 48.2s,\testimator sgd's best error=0.1075,\tbest estimator lgbm's best error=0.0885\n",
            "[flaml.automl.logger: 02-26 09:35:33] {2258} INFO - iteration 291, current learner xgboost\n",
            "[flaml.automl.logger: 02-26 09:35:34] {2442} INFO -  at 48.3s,\testimator xgboost's best error=0.0910,\tbest estimator lgbm's best error=0.0885\n",
            "[flaml.automl.logger: 02-26 09:35:34] {2258} INFO - iteration 292, current learner extra_tree\n",
            "[flaml.automl.logger: 02-26 09:35:34] {2442} INFO -  at 48.6s,\testimator extra_tree's best error=0.0966,\tbest estimator lgbm's best error=0.0885\n",
            "[flaml.automl.logger: 02-26 09:35:34] {2258} INFO - iteration 293, current learner xgboost\n",
            "[flaml.automl.logger: 02-26 09:35:34] {2442} INFO -  at 48.7s,\testimator xgboost's best error=0.0910,\tbest estimator lgbm's best error=0.0885\n",
            "[flaml.automl.logger: 02-26 09:35:34] {2258} INFO - iteration 294, current learner extra_tree\n",
            "[flaml.automl.logger: 02-26 09:35:34] {2442} INFO -  at 49.0s,\testimator extra_tree's best error=0.0961,\tbest estimator lgbm's best error=0.0885\n",
            "[flaml.automl.logger: 02-26 09:35:34] {2258} INFO - iteration 295, current learner xgboost\n",
            "[flaml.automl.logger: 02-26 09:35:34] {2442} INFO -  at 49.2s,\testimator xgboost's best error=0.0910,\tbest estimator lgbm's best error=0.0885\n",
            "[flaml.automl.logger: 02-26 09:35:34] {2258} INFO - iteration 296, current learner extra_tree\n",
            "[flaml.automl.logger: 02-26 09:35:35] {2442} INFO -  at 49.4s,\testimator extra_tree's best error=0.0961,\tbest estimator lgbm's best error=0.0885\n",
            "[flaml.automl.logger: 02-26 09:35:35] {2258} INFO - iteration 297, current learner xgboost\n",
            "[flaml.automl.logger: 02-26 09:35:35] {2442} INFO -  at 49.6s,\testimator xgboost's best error=0.0910,\tbest estimator lgbm's best error=0.0885\n",
            "[flaml.automl.logger: 02-26 09:35:35] {2258} INFO - iteration 298, current learner xgboost\n",
            "[flaml.automl.logger: 02-26 09:35:35] {2442} INFO -  at 49.7s,\testimator xgboost's best error=0.0910,\tbest estimator lgbm's best error=0.0885\n",
            "[flaml.automl.logger: 02-26 09:35:35] {2258} INFO - iteration 299, current learner xgboost\n",
            "[flaml.automl.logger: 02-26 09:35:35] {2442} INFO -  at 49.9s,\testimator xgboost's best error=0.0910,\tbest estimator lgbm's best error=0.0885\n",
            "[flaml.automl.logger: 02-26 09:35:35] {2258} INFO - iteration 300, current learner lgbm\n",
            "[flaml.automl.logger: 02-26 09:35:35] {2442} INFO -  at 50.0s,\testimator lgbm's best error=0.0885,\tbest estimator lgbm's best error=0.0885\n",
            "[flaml.automl.logger: 02-26 09:35:35] {2258} INFO - iteration 301, current learner xgboost\n",
            "[flaml.automl.logger: 02-26 09:35:35] {2442} INFO -  at 50.1s,\testimator xgboost's best error=0.0910,\tbest estimator lgbm's best error=0.0885\n",
            "[flaml.automl.logger: 02-26 09:35:35] {2258} INFO - iteration 302, current learner lgbm\n",
            "[flaml.automl.logger: 02-26 09:35:36] {2442} INFO -  at 50.2s,\testimator lgbm's best error=0.0885,\tbest estimator lgbm's best error=0.0885\n",
            "[flaml.automl.logger: 02-26 09:35:36] {2258} INFO - iteration 303, current learner sgd\n",
            "[flaml.automl.logger: 02-26 09:35:36] {2442} INFO -  at 50.3s,\testimator sgd's best error=0.1075,\tbest estimator lgbm's best error=0.0885\n",
            "[flaml.automl.logger: 02-26 09:35:36] {2258} INFO - iteration 304, current learner rf\n",
            "[flaml.automl.logger: 02-26 09:35:36] {2442} INFO -  at 50.6s,\testimator rf's best error=0.0925,\tbest estimator lgbm's best error=0.0885\n",
            "[flaml.automl.logger: 02-26 09:35:36] {2258} INFO - iteration 305, current learner extra_tree\n",
            "[flaml.automl.logger: 02-26 09:35:36] {2442} INFO -  at 50.9s,\testimator extra_tree's best error=0.0961,\tbest estimator lgbm's best error=0.0885\n",
            "[flaml.automl.logger: 02-26 09:35:36] {2258} INFO - iteration 306, current learner sgd\n",
            "[flaml.automl.logger: 02-26 09:35:36] {2442} INFO -  at 50.9s,\testimator sgd's best error=0.1075,\tbest estimator lgbm's best error=0.0885\n",
            "[flaml.automl.logger: 02-26 09:35:36] {2258} INFO - iteration 307, current learner extra_tree\n",
            "[flaml.automl.logger: 02-26 09:35:37] {2442} INFO -  at 51.2s,\testimator extra_tree's best error=0.0947,\tbest estimator lgbm's best error=0.0885\n",
            "[flaml.automl.logger: 02-26 09:35:37] {2258} INFO - iteration 308, current learner extra_tree\n",
            "[flaml.automl.logger: 02-26 09:35:37] {2442} INFO -  at 51.5s,\testimator extra_tree's best error=0.0947,\tbest estimator lgbm's best error=0.0885\n",
            "[flaml.automl.logger: 02-26 09:35:37] {2258} INFO - iteration 309, current learner rf\n",
            "[flaml.automl.logger: 02-26 09:35:37] {2442} INFO -  at 51.7s,\testimator rf's best error=0.0925,\tbest estimator lgbm's best error=0.0885\n",
            "[flaml.automl.logger: 02-26 09:35:37] {2258} INFO - iteration 310, current learner extra_tree\n",
            "[flaml.automl.logger: 02-26 09:35:37] {2442} INFO -  at 52.0s,\testimator extra_tree's best error=0.0947,\tbest estimator lgbm's best error=0.0885\n",
            "[flaml.automl.logger: 02-26 09:35:37] {2258} INFO - iteration 311, current learner xgboost\n",
            "[flaml.automl.logger: 02-26 09:35:37] {2442} INFO -  at 52.2s,\testimator xgboost's best error=0.0910,\tbest estimator lgbm's best error=0.0885\n",
            "[flaml.automl.logger: 02-26 09:35:37] {2258} INFO - iteration 312, current learner xgboost\n",
            "[flaml.automl.logger: 02-26 09:35:38] {2442} INFO -  at 52.3s,\testimator xgboost's best error=0.0910,\tbest estimator lgbm's best error=0.0885\n",
            "[flaml.automl.logger: 02-26 09:35:38] {2258} INFO - iteration 313, current learner extra_tree\n",
            "[flaml.automl.logger: 02-26 09:35:38] {2442} INFO -  at 52.6s,\testimator extra_tree's best error=0.0947,\tbest estimator lgbm's best error=0.0885\n",
            "[flaml.automl.logger: 02-26 09:35:38] {2258} INFO - iteration 314, current learner xgboost\n",
            "[flaml.automl.logger: 02-26 09:35:38] {2442} INFO -  at 52.7s,\testimator xgboost's best error=0.0910,\tbest estimator lgbm's best error=0.0885\n",
            "[flaml.automl.logger: 02-26 09:35:38] {2258} INFO - iteration 315, current learner sgd\n",
            "[flaml.automl.logger: 02-26 09:35:38] {2442} INFO -  at 52.8s,\testimator sgd's best error=0.1075,\tbest estimator lgbm's best error=0.0885\n",
            "[flaml.automl.logger: 02-26 09:35:38] {2258} INFO - iteration 316, current learner sgd\n",
            "[flaml.automl.logger: 02-26 09:35:38] {2442} INFO -  at 52.9s,\testimator sgd's best error=0.1075,\tbest estimator lgbm's best error=0.0885\n",
            "[flaml.automl.logger: 02-26 09:35:38] {2258} INFO - iteration 317, current learner xgboost\n",
            "[flaml.automl.logger: 02-26 09:35:38] {2442} INFO -  at 53.0s,\testimator xgboost's best error=0.0910,\tbest estimator lgbm's best error=0.0885\n",
            "[flaml.automl.logger: 02-26 09:35:38] {2258} INFO - iteration 318, current learner lgbm\n",
            "[flaml.automl.logger: 02-26 09:35:38] {2442} INFO -  at 53.1s,\testimator lgbm's best error=0.0885,\tbest estimator lgbm's best error=0.0885\n",
            "[flaml.automl.logger: 02-26 09:35:38] {2258} INFO - iteration 319, current learner xgboost\n",
            "[flaml.automl.logger: 02-26 09:35:39] {2442} INFO -  at 53.2s,\testimator xgboost's best error=0.0910,\tbest estimator lgbm's best error=0.0885\n",
            "[flaml.automl.logger: 02-26 09:35:39] {2258} INFO - iteration 320, current learner extra_tree\n",
            "[flaml.automl.logger: 02-26 09:35:39] {2442} INFO -  at 53.5s,\testimator extra_tree's best error=0.0947,\tbest estimator lgbm's best error=0.0885\n",
            "[flaml.automl.logger: 02-26 09:35:39] {2258} INFO - iteration 321, current learner extra_tree\n",
            "[flaml.automl.logger: 02-26 09:35:39] {2442} INFO -  at 53.9s,\testimator extra_tree's best error=0.0947,\tbest estimator lgbm's best error=0.0885\n",
            "[flaml.automl.logger: 02-26 09:35:39] {2258} INFO - iteration 322, current learner rf\n",
            "[flaml.automl.logger: 02-26 09:35:39] {2442} INFO -  at 54.2s,\testimator rf's best error=0.0925,\tbest estimator lgbm's best error=0.0885\n",
            "[flaml.automl.logger: 02-26 09:35:39] {2258} INFO - iteration 323, current learner xgboost\n",
            "[flaml.automl.logger: 02-26 09:35:40] {2442} INFO -  at 54.7s,\testimator xgboost's best error=0.0910,\tbest estimator lgbm's best error=0.0885\n",
            "[flaml.automl.logger: 02-26 09:35:40] {2258} INFO - iteration 324, current learner sgd\n",
            "[flaml.automl.logger: 02-26 09:35:40] {2442} INFO -  at 54.8s,\testimator sgd's best error=0.1075,\tbest estimator lgbm's best error=0.0885\n",
            "[flaml.automl.logger: 02-26 09:35:40] {2258} INFO - iteration 325, current learner xgboost\n",
            "[flaml.automl.logger: 02-26 09:35:41] {2442} INFO -  at 55.3s,\testimator xgboost's best error=0.0910,\tbest estimator lgbm's best error=0.0885\n",
            "[flaml.automl.logger: 02-26 09:35:41] {2258} INFO - iteration 326, current learner extra_tree\n",
            "[flaml.automl.logger: 02-26 09:35:41] {2442} INFO -  at 55.6s,\testimator extra_tree's best error=0.0947,\tbest estimator lgbm's best error=0.0885\n",
            "[flaml.automl.logger: 02-26 09:35:41] {2258} INFO - iteration 327, current learner rf\n",
            "[flaml.automl.logger: 02-26 09:35:41] {2442} INFO -  at 55.9s,\testimator rf's best error=0.0925,\tbest estimator lgbm's best error=0.0885\n",
            "[flaml.automl.logger: 02-26 09:35:41] {2258} INFO - iteration 328, current learner lgbm\n",
            "[flaml.automl.logger: 02-26 09:35:42] {2442} INFO -  at 56.5s,\testimator lgbm's best error=0.0885,\tbest estimator lgbm's best error=0.0885\n",
            "[flaml.automl.logger: 02-26 09:35:42] {2258} INFO - iteration 329, current learner extra_tree\n",
            "[flaml.automl.logger: 02-26 09:35:42] {2442} INFO -  at 56.9s,\testimator extra_tree's best error=0.0947,\tbest estimator lgbm's best error=0.0885\n",
            "[flaml.automl.logger: 02-26 09:35:42] {2258} INFO - iteration 330, current learner xgboost\n",
            "[flaml.automl.logger: 02-26 09:35:42] {2442} INFO -  at 57.2s,\testimator xgboost's best error=0.0910,\tbest estimator lgbm's best error=0.0885\n",
            "[flaml.automl.logger: 02-26 09:35:42] {2258} INFO - iteration 331, current learner lgbm\n",
            "[flaml.automl.logger: 02-26 09:35:43] {2442} INFO -  at 57.3s,\testimator lgbm's best error=0.0885,\tbest estimator lgbm's best error=0.0885\n",
            "[flaml.automl.logger: 02-26 09:35:43] {2258} INFO - iteration 332, current learner extra_tree\n",
            "[flaml.automl.logger: 02-26 09:35:43] {2442} INFO -  at 57.7s,\testimator extra_tree's best error=0.0947,\tbest estimator lgbm's best error=0.0885\n",
            "[flaml.automl.logger: 02-26 09:35:43] {2258} INFO - iteration 333, current learner extra_tree\n",
            "[flaml.automl.logger: 02-26 09:35:43] {2442} INFO -  at 57.9s,\testimator extra_tree's best error=0.0947,\tbest estimator lgbm's best error=0.0885\n",
            "[flaml.automl.logger: 02-26 09:35:43] {2258} INFO - iteration 334, current learner extra_tree\n",
            "[flaml.automl.logger: 02-26 09:35:44] {2442} INFO -  at 58.2s,\testimator extra_tree's best error=0.0947,\tbest estimator lgbm's best error=0.0885\n",
            "[flaml.automl.logger: 02-26 09:35:44] {2258} INFO - iteration 335, current learner lgbm\n",
            "[flaml.automl.logger: 02-26 09:35:44] {2442} INFO -  at 58.3s,\testimator lgbm's best error=0.0885,\tbest estimator lgbm's best error=0.0885\n",
            "[flaml.automl.logger: 02-26 09:35:44] {2258} INFO - iteration 336, current learner extra_tree\n",
            "[flaml.automl.logger: 02-26 09:35:44] {2442} INFO -  at 58.6s,\testimator extra_tree's best error=0.0947,\tbest estimator lgbm's best error=0.0885\n",
            "[flaml.automl.logger: 02-26 09:35:44] {2258} INFO - iteration 337, current learner rf\n",
            "[flaml.automl.logger: 02-26 09:35:44] {2442} INFO -  at 58.9s,\testimator rf's best error=0.0925,\tbest estimator lgbm's best error=0.0885\n",
            "[flaml.automl.logger: 02-26 09:35:44] {2258} INFO - iteration 338, current learner xgboost\n",
            "[flaml.automl.logger: 02-26 09:35:44] {2442} INFO -  at 59.0s,\testimator xgboost's best error=0.0910,\tbest estimator lgbm's best error=0.0885\n",
            "[flaml.automl.logger: 02-26 09:35:44] {2258} INFO - iteration 339, current learner sgd\n",
            "[flaml.automl.logger: 02-26 09:35:44] {2442} INFO -  at 59.1s,\testimator sgd's best error=0.1075,\tbest estimator lgbm's best error=0.0885\n",
            "[flaml.automl.logger: 02-26 09:35:44] {2258} INFO - iteration 340, current learner lgbm\n",
            "[flaml.automl.logger: 02-26 09:35:44] {2442} INFO -  at 59.1s,\testimator lgbm's best error=0.0885,\tbest estimator lgbm's best error=0.0885\n",
            "[flaml.automl.logger: 02-26 09:35:44] {2258} INFO - iteration 341, current learner xgboost\n",
            "[flaml.automl.logger: 02-26 09:35:45] {2442} INFO -  at 59.3s,\testimator xgboost's best error=0.0910,\tbest estimator lgbm's best error=0.0885\n",
            "[flaml.automl.logger: 02-26 09:35:45] {2258} INFO - iteration 342, current learner sgd\n",
            "[flaml.automl.logger: 02-26 09:35:45] {2442} INFO -  at 59.3s,\testimator sgd's best error=0.1075,\tbest estimator lgbm's best error=0.0885\n",
            "[flaml.automl.logger: 02-26 09:35:45] {2258} INFO - iteration 343, current learner sgd\n",
            "[flaml.automl.logger: 02-26 09:35:45] {2442} INFO -  at 59.5s,\testimator sgd's best error=0.1075,\tbest estimator lgbm's best error=0.0885\n",
            "[flaml.automl.logger: 02-26 09:35:45] {2258} INFO - iteration 344, current learner extra_tree\n",
            "[flaml.automl.logger: 02-26 09:35:45] {2442} INFO -  at 59.7s,\testimator extra_tree's best error=0.0947,\tbest estimator lgbm's best error=0.0885\n",
            "[flaml.automl.logger: 02-26 09:35:45] {2258} INFO - iteration 345, current learner sgd\n",
            "[flaml.automl.logger: 02-26 09:35:45] {2442} INFO -  at 59.8s,\testimator sgd's best error=0.1075,\tbest estimator lgbm's best error=0.0885\n",
            "[flaml.automl.logger: 02-26 09:35:45] {2258} INFO - iteration 346, current learner sgd\n",
            "[flaml.automl.logger: 02-26 09:35:45] {2442} INFO -  at 59.9s,\testimator sgd's best error=0.1074,\tbest estimator lgbm's best error=0.0885\n",
            "[flaml.automl.logger: 02-26 09:35:45] {2258} INFO - iteration 347, current learner sgd\n",
            "[flaml.automl.logger: 02-26 09:35:45] {2442} INFO -  at 59.9s,\testimator sgd's best error=0.1074,\tbest estimator lgbm's best error=0.0885\n",
            "[flaml.automl.logger: 02-26 09:35:45] {2582} INFO - [('lgbm', {'n_jobs': -1, 'n_estimators': 21, 'num_leaves': 14, 'min_child_samples': 4, 'learning_rate': 0.06981033920507693, 'colsample_bytree': 0.9253539584169304, 'reg_alpha': 0.0013176806294550453, 'reg_lambda': 10.23225524421718, 'max_bin': 63, 'verbose': -1}), ('xgboost', {'n_jobs': -1, 'n_estimators': 7, 'max_leaves': 9, 'min_child_weight': 0.08075680628426354, 'learning_rate': 0.2006370249349953, 'subsample': 1.0, 'colsample_bylevel': 1.0, 'colsample_bytree': 0.8410240364300205, 'reg_alpha': 0.0029387580758225215, 'reg_lambda': 2.4817881015927887, 'max_depth': 0, 'grow_policy': 'lossguide', 'tree_method': 'hist', 'verbosity': 0}), ('rf', {'n_jobs': -1, 'n_estimators': 5, 'max_features': 0.3013006431819779, 'criterion': 'gini', 'max_leaf_nodes': 4, 'random_state': 12032022, 'verbose': 0}), ('extra_tree', {'n_jobs': -1, 'n_estimators': 10, 'max_features': 0.19381677279782253, 'criterion': 'gini', 'max_leaf_nodes': 11, 'random_state': 12032022, 'verbose': 0}), ('sgd', {'n_jobs': -1, 'penalty': 'elasticnet', 'alpha': 0.00015501323889153182, 'l1_ratio': 0.0376138478907096, 'learning_rate': 'constant', 'eta0': 0.004665584668965845, 'average': False, 'loss': 'log_loss', 'tol': 0.0001})]\n",
            "[flaml.automl.logger: 02-26 09:35:45] {2625} INFO - Building ensemble with tuned estimators\n",
            "[flaml.automl.logger: 02-26 09:35:46] {2631} INFO - ensemble: StackingClassifier(estimators=[('lgbm',\n",
            "                                <flaml.automl.model.LGBMEstimator object at 0x7f9f52d4b110>),\n",
            "                               ('xgboost',\n",
            "                                <flaml.automl.model.XGBoostSklearnEstimator object at 0x7f9f51d1b3d0>),\n",
            "                               ('rf',\n",
            "                                <flaml.automl.model.RandomForestEstimator object at 0x7f9f52d87e10>),\n",
            "                               ('extra_tree',\n",
            "                                <flaml.automl.model.ExtraTreesEstimator object at 0x7f9f51d1afd0>),\n",
            "                               ('sgd',\n",
            "                                <flaml.automl.model.SGDEstimator object at 0x7f9f5112a590>)],\n",
            "                   n_jobs=1, passthrough=True)\n",
            "[flaml.automl.logger: 02-26 09:35:46] {1985} INFO - fit succeeded\n",
            "[flaml.automl.logger: 02-26 09:35:47] {1986} INFO - Time taken to find the best model: 24.838972091674805\n"
          ]
        }
      ]
    },
    {
      "cell_type": "markdown",
      "source": [
        "- 테스트 데이터 예측및 평가"
      ],
      "metadata": {
        "id": "R0mlouOUQPdP"
      }
    },
    {
      "cell_type": "code",
      "source": [
        "from sklearn.metrics import roc_auc_score\n",
        "y_test = test_target[\"survived\"] # 테스트셋 y값\n",
        "pred = auto_ml.predict_proba(test_ft)[:,1] # 예측\n",
        "roc_auc_score(y_test,pred) # AUC 평가"
      ],
      "metadata": {
        "id": "7jlUPZq5ta0-",
        "colab": {
          "base_uri": "https://localhost:8080/"
        },
        "outputId": "99163b3a-d2dc-4cb4-d937-54da7f6c1cca"
      },
      "execution_count": null,
      "outputs": [
        {
          "output_type": "execute_result",
          "data": {
            "text/plain": [
              "0.8947876447876447"
            ]
          },
          "metadata": {},
          "execution_count": 29
        }
      ]
    },
    {
      "cell_type": "code",
      "source": [],
      "metadata": {
        "id": "cKqPhqris-0J"
      },
      "execution_count": null,
      "outputs": []
    },
    {
      "cell_type": "code",
      "source": [],
      "metadata": {
        "id": "dcrH07qks-ww"
      },
      "execution_count": null,
      "outputs": []
    },
    {
      "cell_type": "code",
      "source": [],
      "metadata": {
        "id": "3TINb_Z5lca5"
      },
      "execution_count": null,
      "outputs": []
    }
  ]
}