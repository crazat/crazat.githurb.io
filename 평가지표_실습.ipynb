{
  "cells": [
    {
      "cell_type": "markdown",
      "metadata": {
        "id": "view-in-github",
        "colab_type": "text"
      },
      "source": [
        "<a href=\"https://colab.research.google.com/github/crazat/crazat.githurb.io/blob/main/%ED%8F%89%EA%B0%80%EC%A7%80%ED%91%9C_%EC%8B%A4%EC%8A%B5.ipynb\" target=\"_parent\"><img src=\"https://colab.research.google.com/assets/colab-badge.svg\" alt=\"Open In Colab\"/></a>"
      ]
    },
    {
      "cell_type": "markdown",
      "source": [
        "- 편의상 실습과정에서 사이킷런의 데이터셋을 받와서 실습을 진행함\n",
        "- 테스트 데이터는 별도로 존재한다고 가정하고 검증데이터를 분리해서 검증데이터에 대해서만 평가를 진행하는 방식으로 실습"
      ],
      "metadata": {
        "id": "4WjJshaUWY-s"
      }
    },
    {
      "cell_type": "markdown",
      "source": [
        "# 모델 성능 평가 지표(Metirc)\n",
        "- 실제값과 모델에 의해 예측된 값을 비교하여 모델의 성능을 측정 하는 것\n",
        "\n",
        "- 모델 평가의 목적\n"
      ],
      "metadata": {
        "id": "CWKJx3A0Y_i0"
      }
    },
    {
      "cell_type": "markdown",
      "source": [
        "# 회귀문제 성능 측정"
      ],
      "metadata": {
        "id": "NnMMxiAoxYJ7"
      }
    },
    {
      "cell_type": "markdown",
      "source": [
        "## 사이킷런에서 제공해주는 데이터셋\n",
        "- 당뇨병 진행도 예측 데이터셋 받아오기"
      ],
      "metadata": {
        "id": "OPpSAjN0NDlb"
      }
    },
    {
      "cell_type": "code",
      "source": [
        "import numpy as np\n",
        "import pandas as pd\n",
        "from sklearn.datasets import load_diabetes\n",
        "\n",
        "train, target = load_diabetes(return_X_y=True, as_frame=True)\n",
        "train.shape , target.shape"
      ],
      "metadata": {
        "id": "a41f33ij_-_l",
        "colab": {
          "base_uri": "https://localhost:8080/"
        },
        "outputId": "d748f9b5-ee1d-4991-948a-2df91ff0675e"
      },
      "execution_count": null,
      "outputs": [
        {
          "output_type": "execute_result",
          "data": {
            "text/plain": [
              "((442, 10), (442,))"
            ]
          },
          "metadata": {},
          "execution_count": 1
        }
      ]
    },
    {
      "cell_type": "code",
      "source": [
        "train.head()"
      ],
      "metadata": {
        "id": "OqkURr6RVYkW",
        "colab": {
          "base_uri": "https://localhost:8080/",
          "height": 206
        },
        "outputId": "ff90da6e-191b-44e5-c50b-7da448fa7eef"
      },
      "execution_count": null,
      "outputs": [
        {
          "output_type": "execute_result",
          "data": {
            "text/plain": [
              "        age       sex       bmi        bp        s1        s2        s3  \\\n",
              "0  0.038076  0.050680  0.061696  0.021872 -0.044223 -0.034821 -0.043401   \n",
              "1 -0.001882 -0.044642 -0.051474 -0.026328 -0.008449 -0.019163  0.074412   \n",
              "2  0.085299  0.050680  0.044451 -0.005670 -0.045599 -0.034194 -0.032356   \n",
              "3 -0.089063 -0.044642 -0.011595 -0.036656  0.012191  0.024991 -0.036038   \n",
              "4  0.005383 -0.044642 -0.036385  0.021872  0.003935  0.015596  0.008142   \n",
              "\n",
              "         s4        s5        s6  \n",
              "0 -0.002592  0.019907 -0.017646  \n",
              "1 -0.039493 -0.068332 -0.092204  \n",
              "2 -0.002592  0.002861 -0.025930  \n",
              "3  0.034309  0.022688 -0.009362  \n",
              "4 -0.002592 -0.031988 -0.046641  "
            ],
            "text/html": [
              "\n",
              "  <div id=\"df-fda2ffa2-ac45-4a90-be14-9a316f9668cd\" class=\"colab-df-container\">\n",
              "    <div>\n",
              "<style scoped>\n",
              "    .dataframe tbody tr th:only-of-type {\n",
              "        vertical-align: middle;\n",
              "    }\n",
              "\n",
              "    .dataframe tbody tr th {\n",
              "        vertical-align: top;\n",
              "    }\n",
              "\n",
              "    .dataframe thead th {\n",
              "        text-align: right;\n",
              "    }\n",
              "</style>\n",
              "<table border=\"1\" class=\"dataframe\">\n",
              "  <thead>\n",
              "    <tr style=\"text-align: right;\">\n",
              "      <th></th>\n",
              "      <th>age</th>\n",
              "      <th>sex</th>\n",
              "      <th>bmi</th>\n",
              "      <th>bp</th>\n",
              "      <th>s1</th>\n",
              "      <th>s2</th>\n",
              "      <th>s3</th>\n",
              "      <th>s4</th>\n",
              "      <th>s5</th>\n",
              "      <th>s6</th>\n",
              "    </tr>\n",
              "  </thead>\n",
              "  <tbody>\n",
              "    <tr>\n",
              "      <th>0</th>\n",
              "      <td>0.038076</td>\n",
              "      <td>0.050680</td>\n",
              "      <td>0.061696</td>\n",
              "      <td>0.021872</td>\n",
              "      <td>-0.044223</td>\n",
              "      <td>-0.034821</td>\n",
              "      <td>-0.043401</td>\n",
              "      <td>-0.002592</td>\n",
              "      <td>0.019907</td>\n",
              "      <td>-0.017646</td>\n",
              "    </tr>\n",
              "    <tr>\n",
              "      <th>1</th>\n",
              "      <td>-0.001882</td>\n",
              "      <td>-0.044642</td>\n",
              "      <td>-0.051474</td>\n",
              "      <td>-0.026328</td>\n",
              "      <td>-0.008449</td>\n",
              "      <td>-0.019163</td>\n",
              "      <td>0.074412</td>\n",
              "      <td>-0.039493</td>\n",
              "      <td>-0.068332</td>\n",
              "      <td>-0.092204</td>\n",
              "    </tr>\n",
              "    <tr>\n",
              "      <th>2</th>\n",
              "      <td>0.085299</td>\n",
              "      <td>0.050680</td>\n",
              "      <td>0.044451</td>\n",
              "      <td>-0.005670</td>\n",
              "      <td>-0.045599</td>\n",
              "      <td>-0.034194</td>\n",
              "      <td>-0.032356</td>\n",
              "      <td>-0.002592</td>\n",
              "      <td>0.002861</td>\n",
              "      <td>-0.025930</td>\n",
              "    </tr>\n",
              "    <tr>\n",
              "      <th>3</th>\n",
              "      <td>-0.089063</td>\n",
              "      <td>-0.044642</td>\n",
              "      <td>-0.011595</td>\n",
              "      <td>-0.036656</td>\n",
              "      <td>0.012191</td>\n",
              "      <td>0.024991</td>\n",
              "      <td>-0.036038</td>\n",
              "      <td>0.034309</td>\n",
              "      <td>0.022688</td>\n",
              "      <td>-0.009362</td>\n",
              "    </tr>\n",
              "    <tr>\n",
              "      <th>4</th>\n",
              "      <td>0.005383</td>\n",
              "      <td>-0.044642</td>\n",
              "      <td>-0.036385</td>\n",
              "      <td>0.021872</td>\n",
              "      <td>0.003935</td>\n",
              "      <td>0.015596</td>\n",
              "      <td>0.008142</td>\n",
              "      <td>-0.002592</td>\n",
              "      <td>-0.031988</td>\n",
              "      <td>-0.046641</td>\n",
              "    </tr>\n",
              "  </tbody>\n",
              "</table>\n",
              "</div>\n",
              "    <div class=\"colab-df-buttons\">\n",
              "\n",
              "  <div class=\"colab-df-container\">\n",
              "    <button class=\"colab-df-convert\" onclick=\"convertToInteractive('df-fda2ffa2-ac45-4a90-be14-9a316f9668cd')\"\n",
              "            title=\"Convert this dataframe to an interactive table.\"\n",
              "            style=\"display:none;\">\n",
              "\n",
              "  <svg xmlns=\"http://www.w3.org/2000/svg\" height=\"24px\" viewBox=\"0 -960 960 960\">\n",
              "    <path d=\"M120-120v-720h720v720H120Zm60-500h600v-160H180v160Zm220 220h160v-160H400v160Zm0 220h160v-160H400v160ZM180-400h160v-160H180v160Zm440 0h160v-160H620v160ZM180-180h160v-160H180v160Zm440 0h160v-160H620v160Z\"/>\n",
              "  </svg>\n",
              "    </button>\n",
              "\n",
              "  <style>\n",
              "    .colab-df-container {\n",
              "      display:flex;\n",
              "      gap: 12px;\n",
              "    }\n",
              "\n",
              "    .colab-df-convert {\n",
              "      background-color: #E8F0FE;\n",
              "      border: none;\n",
              "      border-radius: 50%;\n",
              "      cursor: pointer;\n",
              "      display: none;\n",
              "      fill: #1967D2;\n",
              "      height: 32px;\n",
              "      padding: 0 0 0 0;\n",
              "      width: 32px;\n",
              "    }\n",
              "\n",
              "    .colab-df-convert:hover {\n",
              "      background-color: #E2EBFA;\n",
              "      box-shadow: 0px 1px 2px rgba(60, 64, 67, 0.3), 0px 1px 3px 1px rgba(60, 64, 67, 0.15);\n",
              "      fill: #174EA6;\n",
              "    }\n",
              "\n",
              "    .colab-df-buttons div {\n",
              "      margin-bottom: 4px;\n",
              "    }\n",
              "\n",
              "    [theme=dark] .colab-df-convert {\n",
              "      background-color: #3B4455;\n",
              "      fill: #D2E3FC;\n",
              "    }\n",
              "\n",
              "    [theme=dark] .colab-df-convert:hover {\n",
              "      background-color: #434B5C;\n",
              "      box-shadow: 0px 1px 3px 1px rgba(0, 0, 0, 0.15);\n",
              "      filter: drop-shadow(0px 1px 2px rgba(0, 0, 0, 0.3));\n",
              "      fill: #FFFFFF;\n",
              "    }\n",
              "  </style>\n",
              "\n",
              "    <script>\n",
              "      const buttonEl =\n",
              "        document.querySelector('#df-fda2ffa2-ac45-4a90-be14-9a316f9668cd button.colab-df-convert');\n",
              "      buttonEl.style.display =\n",
              "        google.colab.kernel.accessAllowed ? 'block' : 'none';\n",
              "\n",
              "      async function convertToInteractive(key) {\n",
              "        const element = document.querySelector('#df-fda2ffa2-ac45-4a90-be14-9a316f9668cd');\n",
              "        const dataTable =\n",
              "          await google.colab.kernel.invokeFunction('convertToInteractive',\n",
              "                                                    [key], {});\n",
              "        if (!dataTable) return;\n",
              "\n",
              "        const docLinkHtml = 'Like what you see? Visit the ' +\n",
              "          '<a target=\"_blank\" href=https://colab.research.google.com/notebooks/data_table.ipynb>data table notebook</a>'\n",
              "          + ' to learn more about interactive tables.';\n",
              "        element.innerHTML = '';\n",
              "        dataTable['output_type'] = 'display_data';\n",
              "        await google.colab.output.renderOutput(dataTable, element);\n",
              "        const docLink = document.createElement('div');\n",
              "        docLink.innerHTML = docLinkHtml;\n",
              "        element.appendChild(docLink);\n",
              "      }\n",
              "    </script>\n",
              "  </div>\n",
              "\n",
              "\n",
              "<div id=\"df-6cca2bb6-f3ed-49ce-af8e-a11905c8ce03\">\n",
              "  <button class=\"colab-df-quickchart\" onclick=\"quickchart('df-6cca2bb6-f3ed-49ce-af8e-a11905c8ce03')\"\n",
              "            title=\"Suggest charts\"\n",
              "            style=\"display:none;\">\n",
              "\n",
              "<svg xmlns=\"http://www.w3.org/2000/svg\" height=\"24px\"viewBox=\"0 0 24 24\"\n",
              "     width=\"24px\">\n",
              "    <g>\n",
              "        <path d=\"M19 3H5c-1.1 0-2 .9-2 2v14c0 1.1.9 2 2 2h14c1.1 0 2-.9 2-2V5c0-1.1-.9-2-2-2zM9 17H7v-7h2v7zm4 0h-2V7h2v10zm4 0h-2v-4h2v4z\"/>\n",
              "    </g>\n",
              "</svg>\n",
              "  </button>\n",
              "\n",
              "<style>\n",
              "  .colab-df-quickchart {\n",
              "      --bg-color: #E8F0FE;\n",
              "      --fill-color: #1967D2;\n",
              "      --hover-bg-color: #E2EBFA;\n",
              "      --hover-fill-color: #174EA6;\n",
              "      --disabled-fill-color: #AAA;\n",
              "      --disabled-bg-color: #DDD;\n",
              "  }\n",
              "\n",
              "  [theme=dark] .colab-df-quickchart {\n",
              "      --bg-color: #3B4455;\n",
              "      --fill-color: #D2E3FC;\n",
              "      --hover-bg-color: #434B5C;\n",
              "      --hover-fill-color: #FFFFFF;\n",
              "      --disabled-bg-color: #3B4455;\n",
              "      --disabled-fill-color: #666;\n",
              "  }\n",
              "\n",
              "  .colab-df-quickchart {\n",
              "    background-color: var(--bg-color);\n",
              "    border: none;\n",
              "    border-radius: 50%;\n",
              "    cursor: pointer;\n",
              "    display: none;\n",
              "    fill: var(--fill-color);\n",
              "    height: 32px;\n",
              "    padding: 0;\n",
              "    width: 32px;\n",
              "  }\n",
              "\n",
              "  .colab-df-quickchart:hover {\n",
              "    background-color: var(--hover-bg-color);\n",
              "    box-shadow: 0 1px 2px rgba(60, 64, 67, 0.3), 0 1px 3px 1px rgba(60, 64, 67, 0.15);\n",
              "    fill: var(--button-hover-fill-color);\n",
              "  }\n",
              "\n",
              "  .colab-df-quickchart-complete:disabled,\n",
              "  .colab-df-quickchart-complete:disabled:hover {\n",
              "    background-color: var(--disabled-bg-color);\n",
              "    fill: var(--disabled-fill-color);\n",
              "    box-shadow: none;\n",
              "  }\n",
              "\n",
              "  .colab-df-spinner {\n",
              "    border: 2px solid var(--fill-color);\n",
              "    border-color: transparent;\n",
              "    border-bottom-color: var(--fill-color);\n",
              "    animation:\n",
              "      spin 1s steps(1) infinite;\n",
              "  }\n",
              "\n",
              "  @keyframes spin {\n",
              "    0% {\n",
              "      border-color: transparent;\n",
              "      border-bottom-color: var(--fill-color);\n",
              "      border-left-color: var(--fill-color);\n",
              "    }\n",
              "    20% {\n",
              "      border-color: transparent;\n",
              "      border-left-color: var(--fill-color);\n",
              "      border-top-color: var(--fill-color);\n",
              "    }\n",
              "    30% {\n",
              "      border-color: transparent;\n",
              "      border-left-color: var(--fill-color);\n",
              "      border-top-color: var(--fill-color);\n",
              "      border-right-color: var(--fill-color);\n",
              "    }\n",
              "    40% {\n",
              "      border-color: transparent;\n",
              "      border-right-color: var(--fill-color);\n",
              "      border-top-color: var(--fill-color);\n",
              "    }\n",
              "    60% {\n",
              "      border-color: transparent;\n",
              "      border-right-color: var(--fill-color);\n",
              "    }\n",
              "    80% {\n",
              "      border-color: transparent;\n",
              "      border-right-color: var(--fill-color);\n",
              "      border-bottom-color: var(--fill-color);\n",
              "    }\n",
              "    90% {\n",
              "      border-color: transparent;\n",
              "      border-bottom-color: var(--fill-color);\n",
              "    }\n",
              "  }\n",
              "</style>\n",
              "\n",
              "  <script>\n",
              "    async function quickchart(key) {\n",
              "      const quickchartButtonEl =\n",
              "        document.querySelector('#' + key + ' button');\n",
              "      quickchartButtonEl.disabled = true;  // To prevent multiple clicks.\n",
              "      quickchartButtonEl.classList.add('colab-df-spinner');\n",
              "      try {\n",
              "        const charts = await google.colab.kernel.invokeFunction(\n",
              "            'suggestCharts', [key], {});\n",
              "      } catch (error) {\n",
              "        console.error('Error during call to suggestCharts:', error);\n",
              "      }\n",
              "      quickchartButtonEl.classList.remove('colab-df-spinner');\n",
              "      quickchartButtonEl.classList.add('colab-df-quickchart-complete');\n",
              "    }\n",
              "    (() => {\n",
              "      let quickchartButtonEl =\n",
              "        document.querySelector('#df-6cca2bb6-f3ed-49ce-af8e-a11905c8ce03 button');\n",
              "      quickchartButtonEl.style.display =\n",
              "        google.colab.kernel.accessAllowed ? 'block' : 'none';\n",
              "    })();\n",
              "  </script>\n",
              "</div>\n",
              "\n",
              "    </div>\n",
              "  </div>\n"
            ],
            "application/vnd.google.colaboratory.intrinsic+json": {
              "type": "dataframe",
              "variable_name": "train",
              "summary": "{\n  \"name\": \"train\",\n  \"rows\": 442,\n  \"fields\": [\n    {\n      \"column\": \"age\",\n      \"properties\": {\n        \"dtype\": \"number\",\n        \"std\": 0.0476190476190476,\n        \"min\": -0.1072256316073538,\n        \"max\": 0.11072667545381144,\n        \"num_unique_values\": 58,\n        \"samples\": [\n          0.038075906433423026,\n          -0.09269547780327612,\n          0.01991321417832592\n        ],\n        \"semantic_type\": \"\",\n        \"description\": \"\"\n      }\n    },\n    {\n      \"column\": \"sex\",\n      \"properties\": {\n        \"dtype\": \"number\",\n        \"std\": 0.0476190476190478,\n        \"min\": -0.044641636506989144,\n        \"max\": 0.05068011873981862,\n        \"num_unique_values\": 2,\n        \"samples\": [\n          -0.044641636506989144,\n          0.05068011873981862\n        ],\n        \"semantic_type\": \"\",\n        \"description\": \"\"\n      }\n    },\n    {\n      \"column\": \"bmi\",\n      \"properties\": {\n        \"dtype\": \"number\",\n        \"std\": 0.04761904761904761,\n        \"min\": -0.09027529589850945,\n        \"max\": 0.17055522598064407,\n        \"num_unique_values\": 163,\n        \"samples\": [\n          0.008883414898524095,\n          -0.05470749746044306\n        ],\n        \"semantic_type\": \"\",\n        \"description\": \"\"\n      }\n    },\n    {\n      \"column\": \"bp\",\n      \"properties\": {\n        \"dtype\": \"number\",\n        \"std\": 0.04761904761904762,\n        \"min\": -0.11239880254408448,\n        \"max\": 0.13204361674121307,\n        \"num_unique_values\": 100,\n        \"samples\": [\n          0.03333707926361473,\n          0.02531523648988596\n        ],\n        \"semantic_type\": \"\",\n        \"description\": \"\"\n      }\n    },\n    {\n      \"column\": \"s1\",\n      \"properties\": {\n        \"dtype\": \"number\",\n        \"std\": 0.047619047619047554,\n        \"min\": -0.12678066991651324,\n        \"max\": 0.15391371315651542,\n        \"num_unique_values\": 141,\n        \"samples\": [\n          0.041085578784023497,\n          0.08374011738825825\n        ],\n        \"semantic_type\": \"\",\n        \"description\": \"\"\n      }\n    },\n    {\n      \"column\": \"s2\",\n      \"properties\": {\n        \"dtype\": \"number\",\n        \"std\": 0.047619047619047644,\n        \"min\": -0.11561306597939897,\n        \"max\": 0.19878798965729408,\n        \"num_unique_values\": 302,\n        \"samples\": [\n          0.07415490186505921,\n          0.07008397186179521\n        ],\n        \"semantic_type\": \"\",\n        \"description\": \"\"\n      }\n    },\n    {\n      \"column\": \"s3\",\n      \"properties\": {\n        \"dtype\": \"number\",\n        \"std\": 0.04761904761904758,\n        \"min\": -0.10230705051741597,\n        \"max\": 0.18117906039727852,\n        \"num_unique_values\": 63,\n        \"samples\": [\n          0.09281975309919192,\n          0.15908923357275687\n        ],\n        \"semantic_type\": \"\",\n        \"description\": \"\"\n      }\n    },\n    {\n      \"column\": \"s4\",\n      \"properties\": {\n        \"dtype\": \"number\",\n        \"std\": 0.047619047619047554,\n        \"min\": -0.0763945037500033,\n        \"max\": 0.18523444326019867,\n        \"num_unique_values\": 66,\n        \"samples\": [\n          0.08670845052151895,\n          -0.024732934523729287\n        ],\n        \"semantic_type\": \"\",\n        \"description\": \"\"\n      }\n    },\n    {\n      \"column\": \"s5\",\n      \"properties\": {\n        \"dtype\": \"number\",\n        \"std\": 0.04761904761904763,\n        \"min\": -0.12609712083330468,\n        \"max\": 0.13359728192191356,\n        \"num_unique_values\": 184,\n        \"samples\": [\n          -0.07213275338232743,\n          -0.021395309255276825\n        ],\n        \"semantic_type\": \"\",\n        \"description\": \"\"\n      }\n    },\n    {\n      \"column\": \"s6\",\n      \"properties\": {\n        \"dtype\": \"number\",\n        \"std\": 0.04761904761904766,\n        \"min\": -0.13776722569000302,\n        \"max\": 0.13561183068907107,\n        \"num_unique_values\": 56,\n        \"samples\": [\n          -0.01764612515980379,\n          -0.09634615654165846\n        ],\n        \"semantic_type\": \"\",\n        \"description\": \"\"\n      }\n    }\n  ]\n}"
            }
          },
          "metadata": {},
          "execution_count": 2
        }
      ]
    },
    {
      "cell_type": "code",
      "source": [
        "train.info()"
      ],
      "metadata": {
        "id": "BsvI1jTrXJCx",
        "colab": {
          "base_uri": "https://localhost:8080/"
        },
        "outputId": "a9c4d955-9cee-4b25-f9e6-2731cfc3206d"
      },
      "execution_count": null,
      "outputs": [
        {
          "output_type": "stream",
          "name": "stdout",
          "text": [
            "<class 'pandas.core.frame.DataFrame'>\n",
            "RangeIndex: 442 entries, 0 to 441\n",
            "Data columns (total 10 columns):\n",
            " #   Column  Non-Null Count  Dtype  \n",
            "---  ------  --------------  -----  \n",
            " 0   age     442 non-null    float64\n",
            " 1   sex     442 non-null    float64\n",
            " 2   bmi     442 non-null    float64\n",
            " 3   bp      442 non-null    float64\n",
            " 4   s1      442 non-null    float64\n",
            " 5   s2      442 non-null    float64\n",
            " 6   s3      442 non-null    float64\n",
            " 7   s4      442 non-null    float64\n",
            " 8   s5      442 non-null    float64\n",
            " 9   s6      442 non-null    float64\n",
            "dtypes: float64(10)\n",
            "memory usage: 34.7 KB\n"
          ]
        }
      ]
    },
    {
      "cell_type": "code",
      "source": [
        "target"
      ],
      "metadata": {
        "id": "73V8b2hwXEvu",
        "colab": {
          "base_uri": "https://localhost:8080/",
          "height": 458
        },
        "outputId": "db07e93d-f9c0-4043-9c84-282c637db4fb"
      },
      "execution_count": null,
      "outputs": [
        {
          "output_type": "execute_result",
          "data": {
            "text/plain": [
              "0      151.0\n",
              "1       75.0\n",
              "2      141.0\n",
              "3      206.0\n",
              "4      135.0\n",
              "       ...  \n",
              "437    178.0\n",
              "438    104.0\n",
              "439    132.0\n",
              "440    220.0\n",
              "441     57.0\n",
              "Name: target, Length: 442, dtype: float64"
            ],
            "text/html": [
              "<div>\n",
              "<style scoped>\n",
              "    .dataframe tbody tr th:only-of-type {\n",
              "        vertical-align: middle;\n",
              "    }\n",
              "\n",
              "    .dataframe tbody tr th {\n",
              "        vertical-align: top;\n",
              "    }\n",
              "\n",
              "    .dataframe thead th {\n",
              "        text-align: right;\n",
              "    }\n",
              "</style>\n",
              "<table border=\"1\" class=\"dataframe\">\n",
              "  <thead>\n",
              "    <tr style=\"text-align: right;\">\n",
              "      <th></th>\n",
              "      <th>target</th>\n",
              "    </tr>\n",
              "  </thead>\n",
              "  <tbody>\n",
              "    <tr>\n",
              "      <th>0</th>\n",
              "      <td>151.0</td>\n",
              "    </tr>\n",
              "    <tr>\n",
              "      <th>1</th>\n",
              "      <td>75.0</td>\n",
              "    </tr>\n",
              "    <tr>\n",
              "      <th>2</th>\n",
              "      <td>141.0</td>\n",
              "    </tr>\n",
              "    <tr>\n",
              "      <th>3</th>\n",
              "      <td>206.0</td>\n",
              "    </tr>\n",
              "    <tr>\n",
              "      <th>4</th>\n",
              "      <td>135.0</td>\n",
              "    </tr>\n",
              "    <tr>\n",
              "      <th>...</th>\n",
              "      <td>...</td>\n",
              "    </tr>\n",
              "    <tr>\n",
              "      <th>437</th>\n",
              "      <td>178.0</td>\n",
              "    </tr>\n",
              "    <tr>\n",
              "      <th>438</th>\n",
              "      <td>104.0</td>\n",
              "    </tr>\n",
              "    <tr>\n",
              "      <th>439</th>\n",
              "      <td>132.0</td>\n",
              "    </tr>\n",
              "    <tr>\n",
              "      <th>440</th>\n",
              "      <td>220.0</td>\n",
              "    </tr>\n",
              "    <tr>\n",
              "      <th>441</th>\n",
              "      <td>57.0</td>\n",
              "    </tr>\n",
              "  </tbody>\n",
              "</table>\n",
              "<p>442 rows × 1 columns</p>\n",
              "</div><br><label><b>dtype:</b> float64</label>"
            ]
          },
          "metadata": {},
          "execution_count": 4
        }
      ]
    },
    {
      "cell_type": "code",
      "source": [
        "target.min() , target.max()"
      ],
      "metadata": {
        "id": "0izOArFxG2Zh",
        "colab": {
          "base_uri": "https://localhost:8080/"
        },
        "outputId": "39579a06-8f7c-4e47-cd3b-262fa2af7a01"
      },
      "execution_count": null,
      "outputs": [
        {
          "output_type": "execute_result",
          "data": {
            "text/plain": [
              "(25.0, 346.0)"
            ]
          },
          "metadata": {},
          "execution_count": 5
        }
      ]
    },
    {
      "cell_type": "markdown",
      "source": [
        "## 학습셋과 검증셋 분리"
      ],
      "metadata": {
        "id": "_Pgx_4DbOGi6"
      }
    },
    {
      "cell_type": "code",
      "source": [
        "from sklearn.model_selection import train_test_split\n",
        "\n",
        "x_train, x_valid, y_train, y_valid = train_test_split(train, target, random_state=42) # test_size 기본값은 0.25\n",
        "\n",
        "x_train.shape , x_valid.shape , y_train.mean() , y_valid.mean()"
      ],
      "metadata": {
        "id": "Lt_jJDfpGyTq",
        "colab": {
          "base_uri": "https://localhost:8080/"
        },
        "outputId": "a27f0f1d-da1c-48f4-9f79-5ff06f0c80ac"
      },
      "execution_count": null,
      "outputs": [
        {
          "output_type": "execute_result",
          "data": {
            "text/plain": [
              "((331, 10), (111, 10), 154.34441087613294, 145.54054054054055)"
            ]
          },
          "metadata": {},
          "execution_count": 6
        }
      ]
    },
    {
      "cell_type": "markdown",
      "source": [
        "## Linear Regression 학습 및 예측"
      ],
      "metadata": {
        "id": "kZvWdUtVHrRI"
      }
    },
    {
      "cell_type": "code",
      "source": [
        "from sklearn.linear_model import LinearRegression\n",
        "model = LinearRegression()\n",
        "model.fit(x_train, y_train) # 학습\n",
        "pred = model.predict(x_valid) # 예측\n",
        "pred"
      ],
      "metadata": {
        "id": "hjMrsJ5iGAsS",
        "colab": {
          "base_uri": "https://localhost:8080/"
        },
        "outputId": "9ccb9943-2846-46f7-dd81-940daecb2b10"
      },
      "execution_count": null,
      "outputs": [
        {
          "output_type": "execute_result",
          "data": {
            "text/plain": [
              "array([137.94908878, 182.533354  , 129.85295373, 292.5630923 ,\n",
              "       124.86788221,  89.73883143, 255.95872903, 177.64545905,\n",
              "        87.8884795 , 107.93961905,  93.26357149, 171.11939483,\n",
              "        56.06305218, 207.22146277,  99.78918734, 131.7128101 ,\n",
              "       215.86378125, 252.18591603, 201.56577486, 220.38870357,\n",
              "       204.35745939,  88.9068622 ,  68.52958146, 190.02378425,\n",
              "       153.91270751, 164.02719031, 192.83227597, 187.16765226,\n",
              "        46.60570802, 109.3112624 , 175.04965912,  87.8076198 ,\n",
              "       130.37646375, 186.56325253, 172.4733248 , 188.61448165,\n",
              "       124.07175323, 119.16132637, 147.74400127,  59.27254049,\n",
              "        70.90046253, 109.30036497, 170.97191153, 156.56943489,\n",
              "       168.68664924,  61.5457612 ,  71.19039454, 111.94779801,\n",
              "        54.32009551, 165.81267886, 152.78043565,  63.80587155,\n",
              "       110.07651605, 108.64317139, 179.16381014, 156.79651896,\n",
              "        93.29011121, 212.91986757, 119.28417849,  70.70890653,\n",
              "       186.678156  , 205.65720098, 140.02890626, 106.54792751,\n",
              "       131.56053828, 204.1777152 , 173.28530628, 168.65451177,\n",
              "       123.58356159, 145.48705122, 182.55320386, 200.92667653,\n",
              "       234.12723658, 148.64994751,  82.27100531, 162.11044268,\n",
              "       191.41240355, 208.42456254, 159.81231419, 207.08218272,\n",
              "       108.51881567, 141.86853307,  51.88969227,  52.84070977,\n",
              "       114.22596758,  77.8342828 ,  82.21344298,  56.82131329,\n",
              "       167.18495845, 188.01895568, 153.37024514, 242.28645379,\n",
              "       108.00439128,  63.19252263,  55.14671457, 197.58282031,\n",
              "       248.94925646, 184.2773709 , 104.76270243,  63.45726497,\n",
              "       196.41780688, 110.05014478, 296.72299518,  98.13799734,\n",
              "       151.08901065, 105.09659013, 131.61057546, 128.29545093,\n",
              "       166.00077036, 185.58746376, 111.88655248])"
            ]
          },
          "metadata": {},
          "execution_count": 7
        }
      ]
    },
    {
      "cell_type": "markdown",
      "source": [
        "## 회귀 평가 지표"
      ],
      "metadata": {
        "id": "cn1YdbFTKl96"
      }
    },
    {
      "cell_type": "markdown",
      "source": [
        "### MSE(Mean Squared Error)\n",
        "- 실제 값과 예측 값의 차이를 제곱한 뒤 평균화\n",
        "- 이상치에 민감\n",
        "- 직관적이지 못하다.\n",
        "$$\n",
        "MSE = \\frac{1}{n}{\\sum_{i=1}^{n}(y_i-\\hat{y}_i)^2}\n",
        "$$\n"
      ],
      "metadata": {
        "id": "tJ_pcXl8yxTX"
      }
    },
    {
      "cell_type": "code",
      "source": [
        "from sklearn.metrics import mean_squared_error\n",
        "mse = mean_squared_error(y_valid,pred)\n",
        "mse # 손실함수로 많이 사용"
      ],
      "metadata": {
        "id": "lVL0ogkf_-os",
        "colab": {
          "base_uri": "https://localhost:8080/"
        },
        "outputId": "92a0b606-9b1a-498b-8896-cc5b16ab25d7"
      },
      "execution_count": null,
      "outputs": [
        {
          "output_type": "execute_result",
          "data": {
            "text/plain": [
              "2848.3106508475057"
            ]
          },
          "metadata": {},
          "execution_count": 8
        }
      ]
    },
    {
      "cell_type": "markdown",
      "source": [
        "### RMSE(Root Mean Squared Error)\n",
        "- MSE에 루트\n",
        "- 이상치에 민감\n",
        "$$\n",
        "RMSE = \\sqrt{\\frac{1}{n}{\\sum_{i=1}^{n}(y_i-\\hat{y}_i)^2}}\n",
        "$$"
      ],
      "metadata": {
        "id": "ghzjuLuOKwtU"
      }
    },
    {
      "cell_type": "code",
      "source": [
        "np.sqrt(mse) , mse ** 0.5 # 루트"
      ],
      "metadata": {
        "id": "LMj8k99E_-lu",
        "colab": {
          "base_uri": "https://localhost:8080/"
        },
        "outputId": "e9c4675f-e1b6-4ba1-e385-f2861a0956d6"
      },
      "execution_count": null,
      "outputs": [
        {
          "output_type": "execute_result",
          "data": {
            "text/plain": [
              "(53.369566710321955, 53.369566710321955)"
            ]
          },
          "metadata": {},
          "execution_count": 9
        }
      ]
    },
    {
      "cell_type": "markdown",
      "source": [
        "### MAE(Mean Absolute Error)\n",
        "- 실제 값과 예측 값의 차이를 절대값으로 변환해 평균화\n",
        "$$\n",
        "MAE = \\frac{1}{n}{\\sum_{i=1}^{n}|y_i-\\hat{y}_i|}\n",
        "$$"
      ],
      "metadata": {
        "id": "IyR0DrR8MqqL"
      }
    },
    {
      "cell_type": "code",
      "source": [
        "from sklearn.metrics import mean_absolute_error\n",
        "mean_absolute_error(y_valid,pred)"
      ],
      "metadata": {
        "id": "UobmkzuGLdFD",
        "colab": {
          "base_uri": "https://localhost:8080/"
        },
        "outputId": "2c0ee95f-2f2b-4376-b848-53383d5d9691"
      },
      "execution_count": null,
      "outputs": [
        {
          "output_type": "execute_result",
          "data": {
            "text/plain": [
              "41.54850685988061"
            ]
          },
          "metadata": {},
          "execution_count": 10
        }
      ]
    },
    {
      "cell_type": "markdown",
      "source": [
        "### MAPE(Mean Absolute Percentage Error)\n",
        "- 실제값에대한 절대오차 비율의 평균을 퍼센트로 표현\n",
        "- MAE를 퍼센트로 표현\n",
        "$$\n",
        "MAPE = \\frac{100}{n}{\\sum_{i=1}^{n}\\frac{|y_i-\\hat{y}_i|}{|y|}}\n",
        "$$"
      ],
      "metadata": {
        "id": "S-jp7MZgMmoE"
      }
    },
    {
      "cell_type": "code",
      "source": [
        "def mape(true, pred):\n",
        "\treturn np.mean(np.abs((true - pred) / np.abs(true)))   # 100(상수) 곱하는거는 생략\n",
        "mape(y_valid, pred)"
      ],
      "metadata": {
        "id": "ToE1o2UJLmI8",
        "colab": {
          "base_uri": "https://localhost:8080/"
        },
        "outputId": "20734703-25b4-49cd-d3d3-abefe22a04ed"
      },
      "execution_count": null,
      "outputs": [
        {
          "output_type": "execute_result",
          "data": {
            "text/plain": [
              "0.37310970433744683"
            ]
          },
          "metadata": {},
          "execution_count": 11
        }
      ]
    },
    {
      "cell_type": "code",
      "source": [
        "from sklearn.metrics import mean_absolute_percentage_error\n",
        "mean_absolute_percentage_error(y_valid,pred)"
      ],
      "metadata": {
        "id": "n3opaKCUZruO",
        "colab": {
          "base_uri": "https://localhost:8080/"
        },
        "outputId": "affda61b-f16b-472c-f736-ce69da1636d5"
      },
      "execution_count": null,
      "outputs": [
        {
          "output_type": "execute_result",
          "data": {
            "text/plain": [
              "0.37310970433744683"
            ]
          },
          "metadata": {},
          "execution_count": 12
        }
      ]
    },
    {
      "cell_type": "markdown",
      "source": [
        "# 분류문제 성능 측정"
      ],
      "metadata": {
        "id": "g6RkYGyT8CWP"
      }
    },
    {
      "cell_type": "markdown",
      "source": [
        "## 사이킷런에서 제공해주는 데이터셋\n",
        "- 0~9 손글씨 이미지 받아오기"
      ],
      "metadata": {
        "id": "eGiWvtC98eLO"
      }
    },
    {
      "cell_type": "code",
      "source": [
        "from sklearn.datasets import load_digits\n",
        "digits = load_digits() # 아규먼트 주지 않을 경우"
      ],
      "metadata": {
        "id": "qF9ubi4wXwCX"
      },
      "execution_count": null,
      "outputs": []
    },
    {
      "cell_type": "code",
      "source": [
        "digits # 안에 내용 확인해보기"
      ],
      "metadata": {
        "id": "Pan1ovfvaXeD",
        "colab": {
          "base_uri": "https://localhost:8080/"
        },
        "outputId": "50d28496-e726-43d8-be0f-6c93f6743d91"
      },
      "execution_count": null,
      "outputs": [
        {
          "output_type": "execute_result",
          "data": {
            "text/plain": [
              "{'data': array([[ 0.,  0.,  5., ...,  0.,  0.,  0.],\n",
              "        [ 0.,  0.,  0., ..., 10.,  0.,  0.],\n",
              "        [ 0.,  0.,  0., ..., 16.,  9.,  0.],\n",
              "        ...,\n",
              "        [ 0.,  0.,  1., ...,  6.,  0.,  0.],\n",
              "        [ 0.,  0.,  2., ..., 12.,  0.,  0.],\n",
              "        [ 0.,  0., 10., ..., 12.,  1.,  0.]]),\n",
              " 'target': array([0, 1, 2, ..., 8, 9, 8]),\n",
              " 'frame': None,\n",
              " 'feature_names': ['pixel_0_0',\n",
              "  'pixel_0_1',\n",
              "  'pixel_0_2',\n",
              "  'pixel_0_3',\n",
              "  'pixel_0_4',\n",
              "  'pixel_0_5',\n",
              "  'pixel_0_6',\n",
              "  'pixel_0_7',\n",
              "  'pixel_1_0',\n",
              "  'pixel_1_1',\n",
              "  'pixel_1_2',\n",
              "  'pixel_1_3',\n",
              "  'pixel_1_4',\n",
              "  'pixel_1_5',\n",
              "  'pixel_1_6',\n",
              "  'pixel_1_7',\n",
              "  'pixel_2_0',\n",
              "  'pixel_2_1',\n",
              "  'pixel_2_2',\n",
              "  'pixel_2_3',\n",
              "  'pixel_2_4',\n",
              "  'pixel_2_5',\n",
              "  'pixel_2_6',\n",
              "  'pixel_2_7',\n",
              "  'pixel_3_0',\n",
              "  'pixel_3_1',\n",
              "  'pixel_3_2',\n",
              "  'pixel_3_3',\n",
              "  'pixel_3_4',\n",
              "  'pixel_3_5',\n",
              "  'pixel_3_6',\n",
              "  'pixel_3_7',\n",
              "  'pixel_4_0',\n",
              "  'pixel_4_1',\n",
              "  'pixel_4_2',\n",
              "  'pixel_4_3',\n",
              "  'pixel_4_4',\n",
              "  'pixel_4_5',\n",
              "  'pixel_4_6',\n",
              "  'pixel_4_7',\n",
              "  'pixel_5_0',\n",
              "  'pixel_5_1',\n",
              "  'pixel_5_2',\n",
              "  'pixel_5_3',\n",
              "  'pixel_5_4',\n",
              "  'pixel_5_5',\n",
              "  'pixel_5_6',\n",
              "  'pixel_5_7',\n",
              "  'pixel_6_0',\n",
              "  'pixel_6_1',\n",
              "  'pixel_6_2',\n",
              "  'pixel_6_3',\n",
              "  'pixel_6_4',\n",
              "  'pixel_6_5',\n",
              "  'pixel_6_6',\n",
              "  'pixel_6_7',\n",
              "  'pixel_7_0',\n",
              "  'pixel_7_1',\n",
              "  'pixel_7_2',\n",
              "  'pixel_7_3',\n",
              "  'pixel_7_4',\n",
              "  'pixel_7_5',\n",
              "  'pixel_7_6',\n",
              "  'pixel_7_7'],\n",
              " 'target_names': array([0, 1, 2, 3, 4, 5, 6, 7, 8, 9]),\n",
              " 'images': array([[[ 0.,  0.,  5., ...,  1.,  0.,  0.],\n",
              "         [ 0.,  0., 13., ..., 15.,  5.,  0.],\n",
              "         [ 0.,  3., 15., ..., 11.,  8.,  0.],\n",
              "         ...,\n",
              "         [ 0.,  4., 11., ..., 12.,  7.,  0.],\n",
              "         [ 0.,  2., 14., ..., 12.,  0.,  0.],\n",
              "         [ 0.,  0.,  6., ...,  0.,  0.,  0.]],\n",
              " \n",
              "        [[ 0.,  0.,  0., ...,  5.,  0.,  0.],\n",
              "         [ 0.,  0.,  0., ...,  9.,  0.,  0.],\n",
              "         [ 0.,  0.,  3., ...,  6.,  0.,  0.],\n",
              "         ...,\n",
              "         [ 0.,  0.,  1., ...,  6.,  0.,  0.],\n",
              "         [ 0.,  0.,  1., ...,  6.,  0.,  0.],\n",
              "         [ 0.,  0.,  0., ..., 10.,  0.,  0.]],\n",
              " \n",
              "        [[ 0.,  0.,  0., ..., 12.,  0.,  0.],\n",
              "         [ 0.,  0.,  3., ..., 14.,  0.,  0.],\n",
              "         [ 0.,  0.,  8., ..., 16.,  0.,  0.],\n",
              "         ...,\n",
              "         [ 0.,  9., 16., ...,  0.,  0.,  0.],\n",
              "         [ 0.,  3., 13., ..., 11.,  5.,  0.],\n",
              "         [ 0.,  0.,  0., ..., 16.,  9.,  0.]],\n",
              " \n",
              "        ...,\n",
              " \n",
              "        [[ 0.,  0.,  1., ...,  1.,  0.,  0.],\n",
              "         [ 0.,  0., 13., ...,  2.,  1.,  0.],\n",
              "         [ 0.,  0., 16., ..., 16.,  5.,  0.],\n",
              "         ...,\n",
              "         [ 0.,  0., 16., ..., 15.,  0.,  0.],\n",
              "         [ 0.,  0., 15., ..., 16.,  0.,  0.],\n",
              "         [ 0.,  0.,  2., ...,  6.,  0.,  0.]],\n",
              " \n",
              "        [[ 0.,  0.,  2., ...,  0.,  0.,  0.],\n",
              "         [ 0.,  0., 14., ..., 15.,  1.,  0.],\n",
              "         [ 0.,  4., 16., ..., 16.,  7.,  0.],\n",
              "         ...,\n",
              "         [ 0.,  0.,  0., ..., 16.,  2.,  0.],\n",
              "         [ 0.,  0.,  4., ..., 16.,  2.,  0.],\n",
              "         [ 0.,  0.,  5., ..., 12.,  0.,  0.]],\n",
              " \n",
              "        [[ 0.,  0., 10., ...,  1.,  0.,  0.],\n",
              "         [ 0.,  2., 16., ...,  1.,  0.,  0.],\n",
              "         [ 0.,  0., 15., ..., 15.,  0.,  0.],\n",
              "         ...,\n",
              "         [ 0.,  4., 16., ..., 16.,  6.,  0.],\n",
              "         [ 0.,  8., 16., ..., 16.,  8.,  0.],\n",
              "         [ 0.,  1.,  8., ..., 12.,  1.,  0.]]]),\n",
              " 'DESCR': \".. _digits_dataset:\\n\\nOptical recognition of handwritten digits dataset\\n--------------------------------------------------\\n\\n**Data Set Characteristics:**\\n\\n:Number of Instances: 1797\\n:Number of Attributes: 64\\n:Attribute Information: 8x8 image of integer pixels in the range 0..16.\\n:Missing Attribute Values: None\\n:Creator: E. Alpaydin (alpaydin '@' boun.edu.tr)\\n:Date: July; 1998\\n\\nThis is a copy of the test set of the UCI ML hand-written digits datasets\\nhttps://archive.ics.uci.edu/ml/datasets/Optical+Recognition+of+Handwritten+Digits\\n\\nThe data set contains images of hand-written digits: 10 classes where\\neach class refers to a digit.\\n\\nPreprocessing programs made available by NIST were used to extract\\nnormalized bitmaps of handwritten digits from a preprinted form. From a\\ntotal of 43 people, 30 contributed to the training set and different 13\\nto the test set. 32x32 bitmaps are divided into nonoverlapping blocks of\\n4x4 and the number of on pixels are counted in each block. This generates\\nan input matrix of 8x8 where each element is an integer in the range\\n0..16. This reduces dimensionality and gives invariance to small\\ndistortions.\\n\\nFor info on NIST preprocessing routines, see M. D. Garris, J. L. Blue, G.\\nT. Candela, D. L. Dimmick, J. Geist, P. J. Grother, S. A. Janet, and C.\\nL. Wilson, NIST Form-Based Handprint Recognition System, NISTIR 5469,\\n1994.\\n\\n.. dropdown:: References\\n\\n  - C. Kaynak (1995) Methods of Combining Multiple Classifiers and Their\\n    Applications to Handwritten Digit Recognition, MSc Thesis, Institute of\\n    Graduate Studies in Science and Engineering, Bogazici University.\\n  - E. Alpaydin, C. Kaynak (1998) Cascading Classifiers, Kybernetika.\\n  - Ken Tang and Ponnuthurai N. Suganthan and Xi Yao and A. Kai Qin.\\n    Linear dimensionalityreduction using relevance weighted LDA. School of\\n    Electrical and Electronic Engineering Nanyang Technological University.\\n    2005.\\n  - Claudio Gentile. A New Approximate Maximal Margin Classification\\n    Algorithm. NIPS. 2000.\\n\"}"
            ]
          },
          "metadata": {},
          "execution_count": 14
        }
      ]
    },
    {
      "cell_type": "markdown",
      "source": [
        "- data 속성에는 이미지 데이터\n",
        "- 8 X 8 크기의 이미지가 flatten 되어있음"
      ],
      "metadata": {
        "id": "N84VYmBTbX-o"
      }
    },
    {
      "cell_type": "code",
      "source": [
        "train = digits.data\n",
        "train.shape"
      ],
      "metadata": {
        "id": "SmcXYfYsXw4h",
        "colab": {
          "base_uri": "https://localhost:8080/"
        },
        "outputId": "e08ac76a-26e6-4f29-ffa5-cf2a8e61f7ec"
      },
      "execution_count": null,
      "outputs": [
        {
          "output_type": "execute_result",
          "data": {
            "text/plain": [
              "(1797, 64)"
            ]
          },
          "metadata": {},
          "execution_count": 15
        }
      ]
    },
    {
      "cell_type": "markdown",
      "source": [
        "- target 속성에는 정답값"
      ],
      "metadata": {
        "id": "ZLKjwHmJ8voH"
      }
    },
    {
      "cell_type": "code",
      "source": [
        "target = digits.target\n",
        "target.shape"
      ],
      "metadata": {
        "id": "K9scwEceZtNw",
        "colab": {
          "base_uri": "https://localhost:8080/"
        },
        "outputId": "dc20707e-a4b1-4952-8a6b-d3dc16fa1c66"
      },
      "execution_count": null,
      "outputs": [
        {
          "output_type": "execute_result",
          "data": {
            "text/plain": [
              "(1797,)"
            ]
          },
          "metadata": {},
          "execution_count": 16
        }
      ]
    },
    {
      "cell_type": "markdown",
      "source": [
        "- 이미지 형태로 reshape 해보기"
      ],
      "metadata": {
        "id": "W34uw-aScEdt"
      }
    },
    {
      "cell_type": "code",
      "source": [
        "train[0]"
      ],
      "metadata": {
        "id": "kAQwIjnwed6j",
        "colab": {
          "base_uri": "https://localhost:8080/"
        },
        "outputId": "fcee68f6-dec2-43a6-ca92-32e16a6b6194"
      },
      "execution_count": null,
      "outputs": [
        {
          "output_type": "execute_result",
          "data": {
            "text/plain": [
              "array([ 0.,  0.,  5., 13.,  9.,  1.,  0.,  0.,  0.,  0., 13., 15., 10.,\n",
              "       15.,  5.,  0.,  0.,  3., 15.,  2.,  0., 11.,  8.,  0.,  0.,  4.,\n",
              "       12.,  0.,  0.,  8.,  8.,  0.,  0.,  5.,  8.,  0.,  0.,  9.,  8.,\n",
              "        0.,  0.,  4., 11.,  0.,  1., 12.,  7.,  0.,  0.,  2., 14.,  5.,\n",
              "       10., 12.,  0.,  0.,  0.,  0.,  6., 13., 10.,  0.,  0.,  0.])"
            ]
          },
          "metadata": {},
          "execution_count": 17
        }
      ]
    },
    {
      "cell_type": "code",
      "source": [
        "train[0].reshape(8,8)"
      ],
      "metadata": {
        "id": "OoFdtv2sbJf0",
        "colab": {
          "base_uri": "https://localhost:8080/"
        },
        "outputId": "0dd28bfb-88de-415a-da78-587b592402be"
      },
      "execution_count": null,
      "outputs": [
        {
          "output_type": "execute_result",
          "data": {
            "text/plain": [
              "array([[ 0.,  0.,  5., 13.,  9.,  1.,  0.,  0.],\n",
              "       [ 0.,  0., 13., 15., 10., 15.,  5.,  0.],\n",
              "       [ 0.,  3., 15.,  2.,  0., 11.,  8.,  0.],\n",
              "       [ 0.,  4., 12.,  0.,  0.,  8.,  8.,  0.],\n",
              "       [ 0.,  5.,  8.,  0.,  0.,  9.,  8.,  0.],\n",
              "       [ 0.,  4., 11.,  0.,  1., 12.,  7.,  0.],\n",
              "       [ 0.,  2., 14.,  5., 10., 12.,  0.,  0.],\n",
              "       [ 0.,  0.,  6., 13., 10.,  0.,  0.,  0.]])"
            ]
          },
          "metadata": {},
          "execution_count": 18
        }
      ]
    },
    {
      "cell_type": "markdown",
      "source": [
        "- 이미지 시각화"
      ],
      "metadata": {
        "id": "YOrS41kW871Q"
      }
    },
    {
      "cell_type": "code",
      "source": [
        "import matplotlib.pyplot as plt\n",
        "fig ,ax = plt.subplots(2,2)\n",
        "ax[0,0].imshow(train[0].reshape(8,8), cmap='gray')\n",
        "ax[0,1].imshow(train[1].reshape(8,8), cmap='gray')\n",
        "ax[1,0].imshow(train[2].reshape(8,8), cmap='gray')\n",
        "ax[1,1].imshow(train[3].reshape(8,8), cmap='gray')\n",
        "plt.show()"
      ],
      "metadata": {
        "id": "W5uHwXKBYn1i",
        "colab": {
          "base_uri": "https://localhost:8080/",
          "height": 430
        },
        "outputId": "5fb235a0-4840-4133-b84e-af3280899495"
      },
      "execution_count": null,
      "outputs": [
        {
          "output_type": "display_data",
          "data": {
            "text/plain": [
              "<Figure size 640x480 with 4 Axes>"
            ],
            "image/png": "[encoded data removed]"
          },
          "metadata": {}
        }
      ]
    },
    {
      "cell_type": "markdown",
      "source": [
        "## 숫자 3을 맞추는 문제로 재정의\n",
        "- 숫자 3을 1로 변경하고, 나머지를 0으로 정답값을 재정의하여 불균형 데이터 생성\n"
      ],
      "metadata": {
        "id": "9fopnwkAb5RI"
      }
    },
    {
      "cell_type": "code",
      "execution_count": null,
      "metadata": {
        "id": "Audy_1AAVV_p",
        "colab": {
          "base_uri": "https://localhost:8080/"
        },
        "outputId": "65ccd69a-ef31-404e-cca7-c2c65411793a"
      },
      "outputs": [
        {
          "output_type": "execute_result",
          "data": {
            "text/plain": [
              "array([0, 0, 0, ..., 0, 0, 0])"
            ]
          },
          "metadata": {},
          "execution_count": 20
        }
      ],
      "source": [
        "target = (target == 3).astype(int)\n",
        "target"
      ]
    },
    {
      "cell_type": "code",
      "source": [
        "target.mean()"
      ],
      "metadata": {
        "id": "0f1npEQiahs-",
        "colab": {
          "base_uri": "https://localhost:8080/"
        },
        "outputId": "3471bb4d-34da-4768-d18c-8aa28018c939"
      },
      "execution_count": null,
      "outputs": [
        {
          "output_type": "execute_result",
          "data": {
            "text/plain": [
              "0.1018363939899833"
            ]
          },
          "metadata": {},
          "execution_count": 21
        }
      ]
    },
    {
      "cell_type": "markdown",
      "source": [
        "## 학습셋과 검증셋 분리"
      ],
      "metadata": {
        "id": "_dM_ejRN9t1s"
      }
    },
    {
      "cell_type": "code",
      "execution_count": null,
      "metadata": {
        "id": "4zJVcHL6N5hd",
        "colab": {
          "base_uri": "https://localhost:8080/"
        },
        "outputId": "dab27d96-21fd-44fd-8564-9d405979861a"
      },
      "outputs": [
        {
          "output_type": "execute_result",
          "data": {
            "text/plain": [
              "((1347, 64), (450, 64), 0.10170749814402376, 0.10222222222222223)"
            ]
          },
          "metadata": {},
          "execution_count": 22
        }
      ],
      "source": [
        "from sklearn.model_selection import train_test_split\n",
        "\n",
        "x_train, x_valid, y_train, y_valid = train_test_split(train, target, random_state=42) # test_size 기본값은 0.25\n",
        "\n",
        "x_train.shape , x_valid.shape , y_train.mean() , y_valid.mean()"
      ]
    },
    {
      "cell_type": "markdown",
      "source": [
        "## 혼동 행렬(Confusion Matrix)\n",
        "- 이진 분류에서 성능지표로 활용되는 행렬이다\n",
        "- 이진 분류에서 예측 오류가 어느정도 되는지와 어떠한 유형의 예측 오류가 발생하는지 나타내는 지표\n"
      ],
      "metadata": {
        "id": "DHxe1XO0A3iz"
      }
    },
    {
      "cell_type": "markdown",
      "metadata": {
        "id": "3rbRsGGIVV_r"
      },
      "source": [
        "- Dummy"
      ]
    },
    {
      "cell_type": "code",
      "execution_count": null,
      "metadata": {
        "id": "a8xEcMQtN5hg",
        "colab": {
          "base_uri": "https://localhost:8080/"
        },
        "outputId": "230624ec-adad-421f-abb1-d7caa870187e"
      },
      "outputs": [
        {
          "output_type": "execute_result",
          "data": {
            "text/plain": [
              "0.0"
            ]
          },
          "metadata": {},
          "execution_count": 23
        }
      ],
      "source": [
        "# Class 중에 무조건 다수인 것으로 예측\n",
        "from sklearn.dummy import DummyClassifier\n",
        "\n",
        "dummy = DummyClassifier(strategy='most_frequent')\n",
        "dummy.fit(x_train, y_train) # 학습\n",
        "pred_dummy = dummy.predict(x_valid) # 예측결과 저장\n",
        "pred_dummy.mean()"
      ]
    },
    {
      "cell_type": "markdown",
      "metadata": {
        "id": "ChicSU-qVV_t"
      },
      "source": [
        "- Logistic Regression"
      ]
    },
    {
      "cell_type": "code",
      "execution_count": null,
      "metadata": {
        "id": "ARveUbhFN5hh",
        "colab": {
          "base_uri": "https://localhost:8080/"
        },
        "outputId": "daebd68c-2e32-464a-fe85-2feff96b35c3"
      },
      "outputs": [
        {
          "output_type": "execute_result",
          "data": {
            "text/plain": [
              "0.10444444444444445"
            ]
          },
          "metadata": {},
          "execution_count": 24
        }
      ],
      "source": [
        "from sklearn.linear_model import LogisticRegression\n",
        "lr = LogisticRegression(max_iter=700,random_state=42)\n",
        "lr.fit(x_train, y_train)\n",
        "pred_lr = lr.predict(x_valid)\n",
        "pred_lr.mean()"
      ]
    },
    {
      "cell_type": "markdown",
      "metadata": {
        "id": "RAFU9IuHN5hj"
      },
      "source": [
        "- 정확도 평가"
      ]
    },
    {
      "cell_type": "code",
      "execution_count": null,
      "metadata": {
        "id": "QVo0Q518N5hj",
        "colab": {
          "base_uri": "https://localhost:8080/"
        },
        "outputId": "582cf436-dba5-4e77-e0c3-acfcb849fc43"
      },
      "outputs": [
        {
          "output_type": "stream",
          "name": "stdout",
          "text": [
            "dummy: 0.8977777777777778\n",
            "lr: 0.9888888888888889\n"
          ]
        }
      ],
      "source": [
        "from sklearn.metrics import accuracy_score\n",
        "print(\"dummy:\", accuracy_score(y_valid, pred_dummy))\n",
        "print(\"lr:\", accuracy_score(y_valid, pred_lr))"
      ]
    },
    {
      "cell_type": "markdown",
      "metadata": {
        "id": "8OY19qXHN5hl"
      },
      "source": [
        "## Confusion Matrix 그리기\n"
      ]
    },
    {
      "cell_type": "code",
      "execution_count": null,
      "metadata": {
        "id": "NafOag6lVV_v",
        "colab": {
          "base_uri": "https://localhost:8080/",
          "height": 469
        },
        "outputId": "e1a97dec-fabf-449e-a1df-ec240fd0db1c"
      },
      "outputs": [
        {
          "output_type": "display_data",
          "data": {
            "text/plain": [
              "<Figure size 1500x500 with 4 Axes>"
            ],
            "image/png": "[encoded data removed]"
          },
          "metadata": {}
        }
      ],
      "source": [
        "from sklearn.metrics import confusion_matrix, ConfusionMatrixDisplay\n",
        "\n",
        "fig, ax = plt.subplots(1,2,figsize = (15,5))\n",
        "\n",
        "\n",
        "cm = confusion_matrix(y_valid, pred_dummy) # tn,fp,fn, tp 개수가 들어감\n",
        "disp = ConfusionMatrixDisplay(confusion_matrix=cm) # Display 객체가 반환됨.\n",
        "disp.plot(ax=ax[0]) # dummy 모델의 혼동행렬 그리기\n",
        "\n",
        "cm = confusion_matrix(y_valid, pred_lr)\n",
        "disp = ConfusionMatrixDisplay(confusion_matrix=cm)\n",
        "disp.plot(ax=ax[1])# logistic 모델의 혼동행렬 그리기\n",
        "\n",
        "plt.show()"
      ]
    },
    {
      "cell_type": "markdown",
      "source": [
        "## Precision vs Recall\n",
        "- FP를 줄이는 것이 목표일 때는 precision을 주로 사용\n",
        "- FN을 줄이는 것이 목표일 때는 recall을 주로 사용\n"
      ],
      "metadata": {
        "id": "sCHMh3dYAb_i"
      }
    },
    {
      "cell_type": "code",
      "source": [
        "from sklearn.metrics import precision_score , recall_score\n",
        "precision_score(y_valid,pred_dummy)"
      ],
      "metadata": {
        "id": "PAWU6BgkIbu7",
        "colab": {
          "base_uri": "https://localhost:8080/"
        },
        "outputId": "7a058cc6-b4c8-45e6-f7f5-4eaa97eea21d"
      },
      "execution_count": null,
      "outputs": [
        {
          "output_type": "stream",
          "name": "stderr",
          "text": [
            "/usr/local/lib/python3.11/dist-packages/sklearn/metrics/_classification.py:1565: UndefinedMetricWarning: Precision is ill-defined and being set to 0.0 due to no predicted samples. Use `zero_division` parameter to control this behavior.\n",
            "  _warn_prf(average, modifier, f\"{metric.capitalize()} is\", len(result))\n"
          ]
        },
        {
          "output_type": "execute_result",
          "data": {
            "text/plain": [
              "0.0"
            ]
          },
          "metadata": {},
          "execution_count": 27
        }
      ]
    },
    {
      "cell_type": "code",
      "source": [
        "recall_score(y_valid,pred_dummy)"
      ],
      "metadata": {
        "id": "3EdHVYn2yzUM",
        "colab": {
          "base_uri": "https://localhost:8080/"
        },
        "outputId": "460b0051-faad-4783-825b-8155030cb35a"
      },
      "execution_count": null,
      "outputs": [
        {
          "output_type": "execute_result",
          "data": {
            "text/plain": [
              "0.0"
            ]
          },
          "metadata": {},
          "execution_count": 28
        }
      ]
    },
    {
      "cell_type": "code",
      "source": [
        "precision_score(y_valid,pred_lr) , recall_score(y_valid,pred_lr)"
      ],
      "metadata": {
        "id": "k5njkdHBJwl7",
        "colab": {
          "base_uri": "https://localhost:8080/"
        },
        "outputId": "b1e152b8-d4b6-4260-c107-cd8d7eb355c8"
      },
      "execution_count": null,
      "outputs": [
        {
          "output_type": "execute_result",
          "data": {
            "text/plain": [
              "(0.9361702127659575, 0.9565217391304348)"
            ]
          },
          "metadata": {},
          "execution_count": 29
        }
      ]
    },
    {
      "cell_type": "markdown",
      "source": [
        "## Precision-Recall Trade-Off"
      ],
      "metadata": {
        "id": "grN91w-rEA3v"
      }
    },
    {
      "cell_type": "code",
      "source": [
        "pred_proba = lr.predict_proba(x_valid)[:,1] # 1 에대한 확률만 필요함\n",
        "pred_proba[:5]"
      ],
      "metadata": {
        "id": "yLr2zv0ZzR9L",
        "colab": {
          "base_uri": "https://localhost:8080/"
        },
        "outputId": "952cd040-8acd-456d-a0f4-81805fa6d12e"
      },
      "execution_count": null,
      "outputs": [
        {
          "output_type": "execute_result",
          "data": {
            "text/plain": [
              "array([1.41177877e-16, 2.92638743e-09, 1.00000000e+00, 4.40375559e-11,\n",
              "       2.96759055e-07])"
            ]
          },
          "metadata": {},
          "execution_count": 30
        }
      ]
    },
    {
      "cell_type": "code",
      "source": [
        "1.24291179 * 10 ** -16 # 지수표기법"
      ],
      "metadata": {
        "id": "1nc1EkisjGN0",
        "colab": {
          "base_uri": "https://localhost:8080/"
        },
        "outputId": "37b451eb-7d6f-43ec-c05e-f66d11a86677"
      },
      "execution_count": null,
      "outputs": [
        {
          "output_type": "execute_result",
          "data": {
            "text/plain": [
              "1.2429117899999998e-16"
            ]
          },
          "metadata": {},
          "execution_count": 31
        }
      ]
    },
    {
      "cell_type": "code",
      "source": [
        "threshold = 0.9\n",
        "pred = np.where(pred_proba >= threshold , 1 , 0)\n",
        "\n",
        "precision_score(y_valid,pred) , recall_score(y_valid,pred) # 정밀도는 올라가지만 재현율이 떨어진다"
      ],
      "metadata": {
        "id": "Xyvzc_xSzR6I",
        "colab": {
          "base_uri": "https://localhost:8080/"
        },
        "outputId": "4599b1ad-14c4-4e9f-cf1c-a89e43f54cbe"
      },
      "execution_count": null,
      "outputs": [
        {
          "output_type": "execute_result",
          "data": {
            "text/plain": [
              "(0.9767441860465116, 0.9130434782608695)"
            ]
          },
          "metadata": {},
          "execution_count": 32
        }
      ]
    },
    {
      "cell_type": "code",
      "source": [
        "threshold = 0.1\n",
        "pred = np.where(pred_proba > threshold , 1 , 0)\n",
        "\n",
        "precision_score(y_valid,pred) , recall_score(y_valid,pred) # 정밀도는 떨어지지만 재현율은 올라간다"
      ],
      "metadata": {
        "id": "YGECfMx4zR3C",
        "colab": {
          "base_uri": "https://localhost:8080/"
        },
        "outputId": "fba67ef2-1e47-444f-f3d2-bce8e2834838"
      },
      "execution_count": null,
      "outputs": [
        {
          "output_type": "execute_result",
          "data": {
            "text/plain": [
              "(0.9183673469387755, 0.9782608695652174)"
            ]
          },
          "metadata": {},
          "execution_count": 33
        }
      ]
    },
    {
      "cell_type": "markdown",
      "source": [
        "## F1-score\n",
        "- Precision과 Recall의 조화평균\n",
        "- 정밀도와 재현율이 어느 한쪽으로 치우치지 않을 때 높은 값을 가진다.\n",
        "- precision과 recall은 trade-off의 관계이기 때문에, 이 둘을 조화 평균한 값인 F1-score를 많이 사용\n",
        "$$\n",
        "F1 = 2*\\frac{Precision*Recall}{Precision+Recall}\n",
        "$$\n"
      ],
      "metadata": {
        "id": "xfRmtYAXE4CO"
      }
    },
    {
      "cell_type": "markdown",
      "source": [
        "- Precision = 0.1, Recall = 0.9 가정\n"
      ],
      "metadata": {
        "id": "DLkyLuCYFddv"
      }
    },
    {
      "cell_type": "code",
      "source": [
        "(0.1 + 0.9) / 2 # 산술 평균"
      ],
      "metadata": {
        "id": "ZnyuI8flFoZf",
        "colab": {
          "base_uri": "https://localhost:8080/"
        },
        "outputId": "8cb58f75-0a83-499d-d9aa-793a2970789c"
      },
      "execution_count": null,
      "outputs": [
        {
          "output_type": "execute_result",
          "data": {
            "text/plain": [
              "0.5"
            ]
          },
          "metadata": {},
          "execution_count": 34
        }
      ]
    },
    {
      "cell_type": "code",
      "source": [
        "2 * 0.1 * 0.9 / (0.1 + 0.9) # 조화평균(F1)"
      ],
      "metadata": {
        "id": "TLc0qP7vFsue",
        "colab": {
          "base_uri": "https://localhost:8080/"
        },
        "outputId": "7978d4b1-81ad-4254-dd6c-a50081b3b9d1"
      },
      "execution_count": null,
      "outputs": [
        {
          "output_type": "execute_result",
          "data": {
            "text/plain": [
              "0.18000000000000002"
            ]
          },
          "metadata": {},
          "execution_count": 35
        }
      ]
    },
    {
      "cell_type": "code",
      "source": [
        "from sklearn.metrics import f1_score\n",
        "\n",
        "f1_score(y_valid,pred_dummy) , f1_score(y_valid,pred_lr)"
      ],
      "metadata": {
        "id": "8Bvira3MJk8j",
        "colab": {
          "base_uri": "https://localhost:8080/"
        },
        "outputId": "ea0ae782-10f8-4499-d766-d6e6488a4924"
      },
      "execution_count": null,
      "outputs": [
        {
          "output_type": "execute_result",
          "data": {
            "text/plain": [
              "(0.0, 0.946236559139785)"
            ]
          },
          "metadata": {},
          "execution_count": 36
        }
      ]
    },
    {
      "cell_type": "markdown",
      "metadata": {
        "id": "fp-f6nErN5ho"
      },
      "source": [
        "## Recall, Precision & F1 한번에 보기"
      ]
    },
    {
      "cell_type": "code",
      "execution_count": null,
      "metadata": {
        "id": "64v6Z2bkN5hp",
        "colab": {
          "base_uri": "https://localhost:8080/"
        },
        "outputId": "db363d7a-3938-4d88-d099-6398937fe069"
      },
      "outputs": [
        {
          "output_type": "stream",
          "name": "stdout",
          "text": [
            "              precision    recall  f1-score   support\n",
            "\n",
            "           0       1.00      0.99      0.99       404\n",
            "           1       0.94      0.96      0.95        46\n",
            "\n",
            "    accuracy                           0.99       450\n",
            "   macro avg       0.97      0.97      0.97       450\n",
            "weighted avg       0.99      0.99      0.99       450\n",
            "\n"
          ]
        }
      ],
      "source": [
        "from sklearn.metrics import classification_report\n",
        "\n",
        "print(classification_report(y_valid, pred_lr))"
      ]
    },
    {
      "cell_type": "markdown",
      "metadata": {
        "id": "IsdOm5-vN5hr"
      },
      "source": [
        "## ROC curve(Receiver Operating Characteristic curve)\n",
        "- FPR(1-specificity)를 x축으로, TPR(recall)을 y축으로 하여 둘 간의 관계를 표현한 그래프\n",
        "    - FPR(False Positive Rate): FP / (FP + TN)\n",
        "    - TPR(True Positive Rate): TP / (FN + TP) , 재현율 recall\n",
        "\n"
      ]
    },
    {
      "cell_type": "code",
      "source": [
        "pred_lr = lr.predict_proba(x_valid)[:,1] # 1확률만 가져오기\n",
        "pred_lr[:5]"
      ],
      "metadata": {
        "id": "OY7s9vzsKn3l",
        "colab": {
          "base_uri": "https://localhost:8080/"
        },
        "outputId": "a18fc43c-b355-4e16-ad7b-5d58c9d6495a"
      },
      "execution_count": null,
      "outputs": [
        {
          "output_type": "execute_result",
          "data": {
            "text/plain": [
              "array([1.41177877e-16, 2.92638743e-09, 1.00000000e+00, 4.40375559e-11,\n",
              "       2.96759055e-07])"
            ]
          },
          "metadata": {},
          "execution_count": 38
        }
      ]
    },
    {
      "cell_type": "code",
      "source": [
        "from sklearn.metrics import RocCurveDisplay\n",
        "fig, ax = plt.subplots()\n",
        "RocCurveDisplay.from_predictions(y_valid, pred_lr, ax=ax)\n",
        "plt.show()"
      ],
      "metadata": {
        "id": "c8humrI1rY8c",
        "colab": {
          "base_uri": "https://localhost:8080/",
          "height": 451
        },
        "outputId": "6e56b64b-f121-4894-82eb-642e3131c98d"
      },
      "execution_count": null,
      "outputs": [
        {
          "output_type": "display_data",
          "data": {
            "text/plain": [
              "<Figure size 640x480 with 1 Axes>"
            ],
            "image/png": "[encoded data removed]"
          },
          "metadata": {}
        }
      ]
    },
    {
      "cell_type": "markdown",
      "source": [
        "## AUROC (ROC AUC)\n",
        "- ROC curve의 밑부분 면적(area under the ROC curve; AUC)\n",
        "- 넓을수록 모형 성능이 높아짐\n",
        "- 임계값이 어떻게 선택되었는지와 무관하게 모델의 예측 품질을 측정\n",
        "- Poor model (0.5 ~ 0.7)\n",
        "- Fair model (0.7 ~ 0.8)\n",
        "- Good model (0.8 ~ 0.9)\n",
        "- Excellent model (0.9 ~ 1.0)\n"
      ],
      "metadata": {
        "id": "c00npKqfNGlH"
      }
    },
    {
      "cell_type": "code",
      "source": [
        "from sklearn.metrics import roc_auc_score\n",
        "roc_auc_score(y_valid, pred_lr)"
      ],
      "metadata": {
        "id": "P8DuyFCwu_I7",
        "colab": {
          "base_uri": "https://localhost:8080/"
        },
        "outputId": "114d5108-a41b-46bb-afeb-47f967b8e8bf"
      },
      "execution_count": null,
      "outputs": [
        {
          "output_type": "execute_result",
          "data": {
            "text/plain": [
              "0.9912290142057685"
            ]
          },
          "metadata": {},
          "execution_count": 40
        }
      ]
    },
    {
      "cell_type": "markdown",
      "source": [
        "## Multi classification 에서의 F1-score\n",
        "- micro\n",
        "    - 전체 클래스의 대하여 TP/FP/FN 구한뒤에 F1-score 계산\n",
        "- macro\n",
        "    - 각 클래스의 대하여 F1-score 계산후 산술평균\n",
        "- Weighted\n",
        "    - 각 클래스의 대하여 F1-score 계산후 각 클래스가 차지하는 비율에 따라 가중평균\n",
        "\n"
      ],
      "metadata": {
        "id": "E-upUxwSwGAc"
      }
    },
    {
      "cell_type": "code",
      "source": [
        "target = digits.target  # 타겟을 다시 0~9 숫자 맞추는 다중분류로 변경\n",
        "\n",
        "x_train, x_valid, y_train, y_valid = train_test_split(train, target, random_state=42,test_size=0.3)\n",
        "\n",
        "x_train.shape , x_valid.shape , np.unique(y_train) , np.unique(y_valid)"
      ],
      "metadata": {
        "id": "UjqAnYEzu_Dm",
        "colab": {
          "base_uri": "https://localhost:8080/"
        },
        "outputId": "aa7b5b7e-d57e-4190-d6f1-83b303163b76"
      },
      "execution_count": null,
      "outputs": [
        {
          "output_type": "execute_result",
          "data": {
            "text/plain": [
              "((1257, 64),\n",
              " (540, 64),\n",
              " array([0, 1, 2, 3, 4, 5, 6, 7, 8, 9]),\n",
              " array([0, 1, 2, 3, 4, 5, 6, 7, 8, 9]))"
            ]
          },
          "metadata": {},
          "execution_count": 41
        }
      ]
    },
    {
      "cell_type": "code",
      "source": [
        "from sklearn.tree import DecisionTreeClassifier\n",
        "tree = DecisionTreeClassifier(random_state=42,max_depth=5)\n",
        "tree = tree.fit(x_train, y_train)\n",
        "pred_tree = tree.predict(x_valid)\n",
        "pred_tree.shape"
      ],
      "metadata": {
        "id": "o__0HLGews_T",
        "colab": {
          "base_uri": "https://localhost:8080/"
        },
        "outputId": "78e12ed8-68a0-4a3f-e407-b42ae49ad9eb"
      },
      "execution_count": null,
      "outputs": [
        {
          "output_type": "execute_result",
          "data": {
            "text/plain": [
              "(540,)"
            ]
          },
          "metadata": {},
          "execution_count": 42
        }
      ]
    },
    {
      "cell_type": "code",
      "source": [
        "print(classification_report(y_valid, pred_tree))"
      ],
      "metadata": {
        "id": "VUkIWU7Tws5j",
        "colab": {
          "base_uri": "https://localhost:8080/"
        },
        "outputId": "7ee164cf-d722-4dab-e5f3-5fff5719a8b0"
      },
      "execution_count": null,
      "outputs": [
        {
          "output_type": "stream",
          "name": "stdout",
          "text": [
            "              precision    recall  f1-score   support\n",
            "\n",
            "           0       1.00      0.89      0.94        53\n",
            "           1       0.50      0.16      0.24        50\n",
            "           2       0.52      0.26      0.34        47\n",
            "           3       0.45      0.83      0.58        54\n",
            "           4       0.80      0.80      0.80        60\n",
            "           5       0.97      0.85      0.90        66\n",
            "           6       0.85      0.94      0.89        53\n",
            "           7       0.83      0.69      0.75        55\n",
            "           8       0.32      0.81      0.46        43\n",
            "           9       0.81      0.29      0.42        59\n",
            "\n",
            "    accuracy                           0.66       540\n",
            "   macro avg       0.70      0.65      0.63       540\n",
            "weighted avg       0.72      0.66      0.65       540\n",
            "\n"
          ]
        }
      ]
    },
    {
      "cell_type": "code",
      "source": [
        "from sklearn.metrics import f1_score\n",
        "f1_score(y_valid, pred_tree, average='micro') , f1_score(y_valid, pred_tree, average='macro') , f1_score(y_valid, pred_tree, average='weighted')"
      ],
      "metadata": {
        "id": "WfG72DWUws2r",
        "colab": {
          "base_uri": "https://localhost:8080/"
        },
        "outputId": "b0f4e7b6-d457-412c-c6dc-2b4a2a303763"
      },
      "execution_count": null,
      "outputs": [
        {
          "output_type": "execute_result",
          "data": {
            "text/plain": [
              "(0.6592592592592592, 0.634001105919469, 0.6492748861763314)"
            ]
          },
          "metadata": {},
          "execution_count": 44
        }
      ]
    },
    {
      "cell_type": "markdown",
      "source": [
        "- 다중분류에서 확률을 출력하는 방법\n",
        "    - 소프트맥스 함수(Softmax function)\n",
        "        - 각 클래스에 대한 확률을 추정\n",
        "        -  입력받은 값들을 출력으로 0~1사이의 값들로 모두 정규화하며 출력 값들의 총합은 항상 1이 되는 특성을 가진 함수\n",
        "$$\n",
        "softmax(z) = \\frac{e^{z_{i}}}{\\sum_{j=1}^K e^{z_{j}}} \\ \\ \\ for\\ i=1,2,\\dots,K\n",
        "$$"
      ],
      "metadata": {
        "id": "Q8tgHjDaG5sq"
      }
    },
    {
      "cell_type": "code",
      "source": [
        "tree.predict_proba(x_valid)"
      ],
      "metadata": {
        "id": "nHYTiqWHfipR",
        "colab": {
          "base_uri": "https://localhost:8080/"
        },
        "outputId": "a83f25c0-44f3-4ea5-9a2c-8099bff1cb71"
      },
      "execution_count": null,
      "outputs": [
        {
          "output_type": "execute_result",
          "data": {
            "text/plain": [
              "array([[0.        , 0.        , 0.        , ..., 0.        , 0.        ,\n",
              "        0.        ],\n",
              "       [0.        , 0.09090909, 0.02597403, ..., 0.01298701, 0.08658009,\n",
              "        0.31168831],\n",
              "       [0.        , 0.09090909, 0.02597403, ..., 0.01298701, 0.08658009,\n",
              "        0.31168831],\n",
              "       ...,\n",
              "       [1.        , 0.        , 0.        , ..., 0.        , 0.        ,\n",
              "        0.        ],\n",
              "       [0.        , 0.02439024, 0.65853659, ..., 0.        , 0.04878049,\n",
              "        0.02439024],\n",
              "       [0.        , 0.        , 0.        , ..., 0.        , 0.        ,\n",
              "        0.        ]])"
            ]
          },
          "metadata": {},
          "execution_count": 45
        }
      ]
    },
    {
      "cell_type": "code",
      "source": [
        "tree.predict_proba(x_valid).sum(axis=1) # 각 샘플에대하여 예측 확률에 합계를 보면 1"
      ],
      "metadata": {
        "id": "MnszMy4-FUJl",
        "colab": {
          "base_uri": "https://localhost:8080/"
        },
        "outputId": "f31f2f8e-a900-425a-bd7f-aaee41ec3aa9"
      },
      "execution_count": null,
      "outputs": [
        {
          "output_type": "execute_result",
          "data": {
            "text/plain": [
              "array([1., 1., 1., 1., 1., 1., 1., 1., 1., 1., 1., 1., 1., 1., 1., 1., 1.,\n",
              "       1., 1., 1., 1., 1., 1., 1., 1., 1., 1., 1., 1., 1., 1., 1., 1., 1.,\n",
              "       1., 1., 1., 1., 1., 1., 1., 1., 1., 1., 1., 1., 1., 1., 1., 1., 1.,\n",
              "       1., 1., 1., 1., 1., 1., 1., 1., 1., 1., 1., 1., 1., 1., 1., 1., 1.,\n",
              "       1., 1., 1., 1., 1., 1., 1., 1., 1., 1., 1., 1., 1., 1., 1., 1., 1.,\n",
              "       1., 1., 1., 1., 1., 1., 1., 1., 1., 1., 1., 1., 1., 1., 1., 1., 1.,\n",
              "       1., 1., 1., 1., 1., 1., 1., 1., 1., 1., 1., 1., 1., 1., 1., 1., 1.,\n",
              "       1., 1., 1., 1., 1., 1., 1., 1., 1., 1., 1., 1., 1., 1., 1., 1., 1.,\n",
              "       1., 1., 1., 1., 1., 1., 1., 1., 1., 1., 1., 1., 1., 1., 1., 1., 1.,\n",
              "       1., 1., 1., 1., 1., 1., 1., 1., 1., 1., 1., 1., 1., 1., 1., 1., 1.,\n",
              "       1., 1., 1., 1., 1., 1., 1., 1., 1., 1., 1., 1., 1., 1., 1., 1., 1.,\n",
              "       1., 1., 1., 1., 1., 1., 1., 1., 1., 1., 1., 1., 1., 1., 1., 1., 1.,\n",
              "       1., 1., 1., 1., 1., 1., 1., 1., 1., 1., 1., 1., 1., 1., 1., 1., 1.,\n",
              "       1., 1., 1., 1., 1., 1., 1., 1., 1., 1., 1., 1., 1., 1., 1., 1., 1.,\n",
              "       1., 1., 1., 1., 1., 1., 1., 1., 1., 1., 1., 1., 1., 1., 1., 1., 1.,\n",
              "       1., 1., 1., 1., 1., 1., 1., 1., 1., 1., 1., 1., 1., 1., 1., 1., 1.,\n",
              "       1., 1., 1., 1., 1., 1., 1., 1., 1., 1., 1., 1., 1., 1., 1., 1., 1.,\n",
              "       1., 1., 1., 1., 1., 1., 1., 1., 1., 1., 1., 1., 1., 1., 1., 1., 1.,\n",
              "       1., 1., 1., 1., 1., 1., 1., 1., 1., 1., 1., 1., 1., 1., 1., 1., 1.,\n",
              "       1., 1., 1., 1., 1., 1., 1., 1., 1., 1., 1., 1., 1., 1., 1., 1., 1.,\n",
              "       1., 1., 1., 1., 1., 1., 1., 1., 1., 1., 1., 1., 1., 1., 1., 1., 1.,\n",
              "       1., 1., 1., 1., 1., 1., 1., 1., 1., 1., 1., 1., 1., 1., 1., 1., 1.,\n",
              "       1., 1., 1., 1., 1., 1., 1., 1., 1., 1., 1., 1., 1., 1., 1., 1., 1.,\n",
              "       1., 1., 1., 1., 1., 1., 1., 1., 1., 1., 1., 1., 1., 1., 1., 1., 1.,\n",
              "       1., 1., 1., 1., 1., 1., 1., 1., 1., 1., 1., 1., 1., 1., 1., 1., 1.,\n",
              "       1., 1., 1., 1., 1., 1., 1., 1., 1., 1., 1., 1., 1., 1., 1., 1., 1.,\n",
              "       1., 1., 1., 1., 1., 1., 1., 1., 1., 1., 1., 1., 1., 1., 1., 1., 1.,\n",
              "       1., 1., 1., 1., 1., 1., 1., 1., 1., 1., 1., 1., 1., 1., 1., 1., 1.,\n",
              "       1., 1., 1., 1., 1., 1., 1., 1., 1., 1., 1., 1., 1., 1., 1., 1., 1.,\n",
              "       1., 1., 1., 1., 1., 1., 1., 1., 1., 1., 1., 1., 1., 1., 1., 1., 1.,\n",
              "       1., 1., 1., 1., 1., 1., 1., 1., 1., 1., 1., 1., 1., 1., 1., 1., 1.,\n",
              "       1., 1., 1., 1., 1., 1., 1., 1., 1., 1., 1., 1., 1.])"
            ]
          },
          "metadata": {},
          "execution_count": 46
        }
      ]
    },
    {
      "cell_type": "markdown",
      "source": [
        "## Multi classification 에서의 logloss\n",
        "- 모델이 예측한 확률 값을 반영하여 평가 한다.\n",
        "- 0에 가까울 수록 좋은 모델이다.\n",
        "- 정답에 해당하는 확률값들을 음의 로그함수에 넣어서 나온 값들을 평균내서 평가하는데 확률값이 낮을 수록 패널티를 부여하기 위함\n"
      ],
      "metadata": {
        "id": "C2DQ3MwOQ49l"
      }
    },
    {
      "cell_type": "code",
      "source": [
        "from sklearn.metrics import log_loss\n",
        "pred = tree.predict_proba(x_valid)\n",
        "pred"
      ],
      "metadata": {
        "id": "FPa7hnkuQw3q",
        "colab": {
          "base_uri": "https://localhost:8080/"
        },
        "outputId": "cdb87b21-938c-450f-b4b5-57cd0cb35ffb"
      },
      "execution_count": null,
      "outputs": [
        {
          "output_type": "execute_result",
          "data": {
            "text/plain": [
              "array([[0.        , 0.        , 0.        , ..., 0.        , 0.        ,\n",
              "        0.        ],\n",
              "       [0.        , 0.09090909, 0.02597403, ..., 0.01298701, 0.08658009,\n",
              "        0.31168831],\n",
              "       [0.        , 0.09090909, 0.02597403, ..., 0.01298701, 0.08658009,\n",
              "        0.31168831],\n",
              "       ...,\n",
              "       [1.        , 0.        , 0.        , ..., 0.        , 0.        ,\n",
              "        0.        ],\n",
              "       [0.        , 0.02439024, 0.65853659, ..., 0.        , 0.04878049,\n",
              "        0.02439024],\n",
              "       [0.        , 0.        , 0.        , ..., 0.        , 0.        ,\n",
              "        0.        ]])"
            ]
          },
          "metadata": {},
          "execution_count": 47
        }
      ]
    },
    {
      "cell_type": "code",
      "source": [
        "log_loss(y_valid,pred) # 클래스 번호가 인덱스가 되서 해당 확률에 대한 logloss 값들을 구한다."
      ],
      "metadata": {
        "id": "IG6JiKjnKtJV",
        "colab": {
          "base_uri": "https://localhost:8080/"
        },
        "outputId": "a5f0dbb7-e2da-4679-9c1a-e7070a46105b"
      },
      "execution_count": null,
      "outputs": [
        {
          "output_type": "execute_result",
          "data": {
            "text/plain": [
              "2.4843887516086447"
            ]
          },
          "metadata": {},
          "execution_count": 48
        }
      ]
    },
    {
      "cell_type": "code",
      "source": [],
      "metadata": {
        "id": "Rrfkb2pSC78b"
      },
      "execution_count": null,
      "outputs": []
    },
    {
      "cell_type": "code",
      "source": [],
      "metadata": {
        "id": "JaSG0BmjC75d"
      },
      "execution_count": null,
      "outputs": []
    }
  ],
  "metadata": {
    "colab": {
      "provenance": [],
      "toc_visible": true,
      "include_colab_link": true
    },
    "kernelspec": {
      "display_name": "Python 3",
      "language": "python",
      "name": "python3"
    },
    "language_info": {
      "codemirror_mode": {
        "name": "ipython",
        "version": 3
      },
      "file_extension": ".py",
      "mimetype": "text/x-python",
      "name": "python",
      "nbconvert_exporter": "python",
      "pygments_lexer": "ipython3",
      "version": "3.7.6"
    }
  },
  "nbformat": 4,
  "nbformat_minor": 0
}